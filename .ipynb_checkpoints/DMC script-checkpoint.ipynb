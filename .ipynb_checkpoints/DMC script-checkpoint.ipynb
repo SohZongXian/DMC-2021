{
 "cells": [
  {
   "cell_type": "code",
   "execution_count": null,
   "id": "e89e3a38",
   "metadata": {},
   "outputs": [],
   "source": [
    "import pandas as pd\n",
    "import numpy as np\n",
    "from datetime import datetime\n",
    "import matplotlib.pyplot as plt\n",
    "import csv"
   ]
  },
  {
   "cell_type": "code",
   "execution_count": null,
   "id": "cd80e9c3",
   "metadata": {},
   "outputs": [],
   "source": [
    "transaction = pd.read_csv(\"transactions.csv\", delimiter=\"|\")\n",
    "items = pd.read_csv(\"items.csv\", delimiter=\"|\")"
   ]
  },
  {
   "cell_type": "code",
   "execution_count": null,
   "id": "7737960b",
   "metadata": {},
   "outputs": [],
   "source": [
    "transaction.head()"
   ]
  },
  {
   "cell_type": "code",
   "execution_count": null,
   "id": "29de4915",
   "metadata": {},
   "outputs": [],
   "source": [
    "print(transaction.shape)\n",
    "print(items.shape)"
   ]
  },
  {
   "cell_type": "code",
   "execution_count": null,
   "id": "eed5bddd",
   "metadata": {},
   "outputs": [],
   "source": [
    "data = pd.merge(transaction, items, on=[\"itemID\"])"
   ]
  },
  {
   "cell_type": "code",
   "execution_count": null,
   "id": "0bc2cb72",
   "metadata": {},
   "outputs": [],
   "source": [
    "data.shape"
   ]
  },
  {
   "cell_type": "code",
   "execution_count": null,
   "id": "865f0801",
   "metadata": {},
   "outputs": [],
   "source": [
    "data.info()"
   ]
  },
  {
   "cell_type": "code",
   "execution_count": null,
   "id": "197ba0c9",
   "metadata": {},
   "outputs": [],
   "source": [
    "# choosing Target variable\n",
    "#print(inner_merged_total['basket'].value_counts())\n",
    "#print(inner_merged_total['click'].value_counts())\n",
    "print(data['order'].value_counts())"
   ]
  },
  {
   "cell_type": "code",
   "execution_count": null,
   "id": "2454456f",
   "metadata": {},
   "outputs": [],
   "source": [
    "##data preprocessing \n",
    "##generate target variable interest\n",
    "data[\"Interest\"] = data[\"click\"] + data[\"basket\"]+ data[\"order\"]\n",
    "\n",
    "## dropping season ID input for dr raheem\n",
    "del data[\"sessionID\"]\n",
    "\n",
    "## aggregrate (idea is to generate the frequencies of item id, and multiply it by interest, getting the total interest of the items)"
   ]
  },
  {
   "cell_type": "code",
   "execution_count": null,
   "id": "82e49515",
   "metadata": {},
   "outputs": [],
   "source": [
    "data.head()\n",
    "#print(inner_merged_total['Interest'].value_counts())"
   ]
  },
  {
   "cell_type": "markdown",
   "id": "e7d82e85",
   "metadata": {},
   "source": [
    "## Group by item ID, and then count the item ID, and then interest * count of itemID = total interest column"
   ]
  },
  {
   "cell_type": "code",
   "execution_count": null,
   "id": "ada10134",
   "metadata": {},
   "outputs": [],
   "source": [
    "##generate frequency\n",
    "test = data.value_counts(['itemID']).reset_index(name='Frequency')\n",
    "print(test.head())"
   ]
  },
  {
   "cell_type": "code",
   "execution_count": null,
   "id": "cbc3c0b2",
   "metadata": {},
   "outputs": [],
   "source": [
    "#Merging frequency \n",
    "book_data = pd.merge(data, test, on=[\"itemID\"])\n",
    "book_data.head()"
   ]
  },
  {
   "cell_type": "code",
   "execution_count": null,
   "id": "fdb69adf",
   "metadata": {},
   "outputs": [],
   "source": [
    "#remove dupicate rows \n",
    "print(book_data.shape)\n",
    "book_data.drop_duplicates(subset =\"itemID\", keep='first' ,inplace=True)\n",
    "print(book_data.shape)"
   ]
  },
  {
   "cell_type": "code",
   "execution_count": null,
   "id": "aa75ce61",
   "metadata": {},
   "outputs": [],
   "source": [
    "book_data.head()"
   ]
  },
  {
   "cell_type": "code",
   "execution_count": null,
   "id": "4d3a70a6",
   "metadata": {},
   "outputs": [],
   "source": [
    "##compute total interest (interest*frequency)"
   ]
  },
  {
   "cell_type": "code",
   "execution_count": null,
   "id": "1f50f1f3",
   "metadata": {},
   "outputs": [],
   "source": [
    "##Generate total interest\n",
    "\n",
    "book_data[\"Total_Interest\"] = book_data[\"Frequency\"] * book_data[\"Interest\"] \n",
    "\n",
    "##Print latest book_data\n",
    "\n",
    "book_data \n"
   ]
  },
  {
   "cell_type": "code",
   "execution_count": null,
   "id": "ff13fefd",
   "metadata": {},
   "outputs": [],
   "source": [
    "##Count total number for frequency and Total Interest\n",
    "print(book_data['Total_Interest'].value_counts())\n"
   ]
  },
  {
   "cell_type": "code",
   "execution_count": null,
   "id": "27892e35",
   "metadata": {},
   "outputs": [],
   "source": [
    "#Latest Data types\n",
    "book_data.dtypes\n",
    "\n"
   ]
  },
  {
   "cell_type": "code",
   "execution_count": null,
   "id": "70a87381",
   "metadata": {},
   "outputs": [],
   "source": [
    "##EDA for Click basket and order (any order without click find out), Make a pair plot using seaborn"
   ]
  },
  {
   "cell_type": "code",
   "execution_count": null,
   "id": "0fb154b0",
   "metadata": {},
   "outputs": [],
   "source": [
    "##Create new column where order != 0 but basket and/or click is 0\n",
    "\n",
    "def identify(book_data):\n",
    "\n",
    "    if (book_data['order'] != 0 and (book_data['basket']  | book_data['click'] == 0)):\n",
    "        return 'Found'\n",
    "    else:\n",
    "        return 'Not found'\n",
    "\n",
    "book_data['test'] = book_data.apply(identify, axis = 1)\n",
    "\n",
    "book_data.head(10)"
   ]
  },
  {
   "cell_type": "code",
   "execution_count": null,
   "id": "9a1df6df",
   "metadata": {},
   "outputs": [],
   "source": [
    "#Print how many counts for order column\n",
    "\n",
    "print(book_data['order'].value_counts())\n"
   ]
  },
  {
   "cell_type": "code",
   "execution_count": null,
   "id": "f0fda62a",
   "metadata": {},
   "outputs": [],
   "source": [
    "## Print how many counts for test column\n",
    "\n",
    "print(book_data['test'].value_counts())\n"
   ]
  },
  {
   "cell_type": "code",
   "execution_count": null,
   "id": "4223eb50",
   "metadata": {},
   "outputs": [],
   "source": [
    "## Print column where test == found\n",
    "\n",
    "test_column = book_data.loc[book_data['test'] == 'Found']\n",
    "\n",
    "test_column.head(10)\n"
   ]
  },
  {
   "cell_type": "code",
   "execution_count": null,
   "id": "a5de33fc-1a20-478f-bd00-973e95aec62c",
   "metadata": {},
   "outputs": [],
   "source": [
    "##clone dataframe\n",
    "sea_born_df = book_data.copy(deep=True)"
   ]
  },
  {
   "cell_type": "code",
   "execution_count": null,
   "id": "ec8d2361-6932-4442-b918-efc9730e38d2",
   "metadata": {},
   "outputs": [],
   "source": [
    "sea_born_df.shape"
   ]
  },
  {
   "cell_type": "code",
   "execution_count": null,
   "id": "75989417-dacb-413f-a981-1a2c6413e47c",
   "metadata": {},
   "outputs": [],
   "source": [
    "## dropping unnessesary columns for pairplot\n",
    "sea_born_df = sea_born_df.filter(items=['click', 'basket', 'order'])\n"
   ]
  },
  {
   "cell_type": "code",
   "execution_count": null,
   "id": "804a6750",
   "metadata": {},
   "outputs": [],
   "source": [
    "## Make pair plot using seaborn\n",
    "import seaborn as sns\n",
    "\n",
    "\n",
    "# sns.set(style=\"ticks\", color_codes=True)\n",
    "sns.pairplot(sea_born_df)\n",
    "\n",
    "\n",
    "import matplotlib.pyplot as plt\n",
    "plt.show()\n",
    "\n"
   ]
  },
  {
   "cell_type": "code",
   "execution_count": null,
   "id": "74c5e50d",
   "metadata": {},
   "outputs": [],
   "source": [
    "#Create histogram -> edited\n",
    "\n",
    "x = book_data['Total_Interest'].value_counts()\n",
    "\n",
    "plt.hist(x, bins = 60)\n",
    "plt.show()"
   ]
  },
  {
   "cell_type": "code",
   "execution_count": null,
   "id": "cd9c5418-fd4a-4b07-bd0d-6a6c050be078",
   "metadata": {},
   "outputs": [],
   "source": []
  }
 ],
 "metadata": {
  "kernelspec": {
   "display_name": "Python 3",
   "language": "python",
   "name": "python3"
  },
  "language_info": {
   "codemirror_mode": {
    "name": "ipython",
    "version": 3
   },
   "file_extension": ".py",
   "mimetype": "text/x-python",
   "name": "python",
   "nbconvert_exporter": "python",
   "pygments_lexer": "ipython3",
   "version": "3.6.12"
  }
 },
 "nbformat": 4,
 "nbformat_minor": 5
}
