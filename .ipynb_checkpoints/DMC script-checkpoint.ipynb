{
 "cells": [
  {
   "cell_type": "code",
   "execution_count": null,
   "id": "4f938abc-a95a-4c19-a82e-a3ed511cf78e",
   "metadata": {},
   "outputs": [],
   "source": [
    "import pandas as pd\n",
    "import numpy as np\n",
    "from datetime import datetime\n",
    "import matplotlib.pyplot as plt\n",
    "import csv"
   ]
  },
  {
   "cell_type": "code",
   "execution_count": null,
   "id": "f72a48cb-14a1-4460-a477-eb7054ba8961",
   "metadata": {},
   "outputs": [],
   "source": [
    "transaction = pd.read_csv(\"transactions.csv\", delimiter=\"|\")\n",
    "items = pd.read_csv(\"items.csv\", delimiter=\"|\")"
   ]
  },
  {
   "cell_type": "code",
   "execution_count": null,
   "id": "68263ebb-e705-46e0-a9fb-1f53b8925db4",
   "metadata": {},
   "outputs": [],
   "source": [
    "transaction.head()"
   ]
  },
  {
   "cell_type": "code",
   "execution_count": null,
   "id": "3273d140-34bb-4a55-81c5-966a68240873",
   "metadata": {},
   "outputs": [],
   "source": [
    "print(transaction.shape)\n",
    "print(items.shape)"
   ]
  },
  {
   "cell_type": "code",
   "execution_count": null,
   "id": "22ef8f49-2978-435c-8d83-0cfd8d9bdc8f",
   "metadata": {},
   "outputs": [],
   "source": [
    "inner_merged_total = pd.merge(transaction, items, on=[\"itemID\"])"
   ]
  },
  {
   "cell_type": "code",
   "execution_count": null,
   "id": "f5e12a29-89b7-4ffc-af1c-9e2b4dcdbc45",
   "metadata": {},
   "outputs": [],
   "source": [
    "inner_merged_total.shape"
   ]
  },
  {
   "cell_type": "code",
   "execution_count": null,
   "id": "bba3fe7c-24e3-4861-81b4-2c9c72e6e264",
   "metadata": {},
   "outputs": [],
   "source": [
    "inner_merged_total.info()"
   ]
  },
  {
   "cell_type": "code",
   "execution_count": null,
   "id": "5c311f01-d3f9-4e8c-88b5-a2fd9404465e",
   "metadata": {},
   "outputs": [],
   "source": [
    "# choosing Target variable\n",
    "#print(inner_merged_total['basket'].value_counts())\n",
    "#print(inner_merged_total['click'].value_counts())\n",
    "print(inner_merged_total['order'].value_counts())"
   ]
  },
  {
   "cell_type": "code",
   "execution_count": null,
   "id": "598b865a-7b1e-4767-89fb-91dc3ca00158",
   "metadata": {},
   "outputs": [],
   "source": [
    "##data preprocessing \n",
    "##generate target variable interest\n",
    "inner_merged_total[\"Interest\"] = inner_merged_total[\"click\"] + inner_merged_total[\"basket\"]+ inner_merged_total[\"order\"]"
   ]
  },
  {
   "cell_type": "code",
   "execution_count": null,
   "id": "17d6abe4-470f-454c-a024-86d60453b23b",
   "metadata": {},
   "outputs": [],
   "source": [
    "inner_merged_total.head()\n",
    "print(inner_merged_total['Interest'].value_counts())"
   ]
  },
  {
   "cell_type": "code",
   "execution_count": null,
   "id": "21e51a23-2319-4a05-9817-5fdbe063194e",
   "metadata": {},
   "outputs": [],
   "source": []
  }
 ],
 "metadata": {
  "kernelspec": {
   "display_name": "Python 3",
   "language": "python",
   "name": "python3"
  },
  "language_info": {
   "codemirror_mode": {
    "name": "ipython",
    "version": 3
   },
   "file_extension": ".py",
   "mimetype": "text/x-python",
   "name": "python",
   "nbconvert_exporter": "python",
   "pygments_lexer": "ipython3",
   "version": "3.6.12"
  }
 },
 "nbformat": 4,
 "nbformat_minor": 5
}
