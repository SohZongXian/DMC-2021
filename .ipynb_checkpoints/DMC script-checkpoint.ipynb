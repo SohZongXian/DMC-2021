{
  "nbformat": 4,
  "nbformat_minor": 5,
  "metadata": {
    "kernelspec": {
      "display_name": "Python 3",
      "language": "python",
      "name": "python3"
    },
    "language_info": {
      "codemirror_mode": {
        "name": "ipython",
        "version": 3
      },
      "file_extension": ".py",
      "mimetype": "text/x-python",
      "name": "python",
      "nbconvert_exporter": "python",
      "pygments_lexer": "ipython3",
      "version": "3.6.12"
    },
    "colab": {
      "name": "DMC script-checkpoint.ipynb",
      "provenance": [],
      "include_colab_link": true
    }
  },
  "cells": [
    {
      "cell_type": "markdown",
      "metadata": {
        "id": "view-in-github",
        "colab_type": "text"
      },
      "source": [
        "<a href=\"https://colab.research.google.com/github/SohZongXian/DMC-2021/blob/Denis_V3/.ipynb_checkpoints/DMC%20script-checkpoint.ipynb\" target=\"_parent\"><img src=\"https://colab.research.google.com/assets/colab-badge.svg\" alt=\"Open In Colab\"/></a>"
      ]
    },
    {
      "cell_type": "code",
      "metadata": {
        "id": "7d2c22a6"
      },
      "source": [
        "import pandas as pd\n",
        "import numpy as np\n",
        "from datetime import datetime\n",
        "import matplotlib.pyplot as plt\n",
        "import csv"
      ],
      "id": "7d2c22a6",
      "execution_count": 1,
      "outputs": []
    },
    {
      "cell_type": "code",
      "metadata": {
        "id": "d4781400"
      },
      "source": [
        "transaction = pd.read_csv(\"transactions.csv\", delimiter=\"|\")\n",
        "items = pd.read_csv(\"items.csv\", delimiter=\"|\")"
      ],
      "id": "d4781400",
      "execution_count": 2,
      "outputs": []
    },
    {
      "cell_type": "code",
      "metadata": {
        "colab": {
          "base_uri": "https://localhost:8080/",
          "height": 203
        },
        "id": "757616fc",
        "outputId": "83facc63-c2cc-4a0c-d6bc-871752f9c7b4"
      },
      "source": [
        "transaction.head()"
      ],
      "id": "757616fc",
      "execution_count": 3,
      "outputs": [
        {
          "output_type": "execute_result",
          "data": {
            "text/html": [
              "<div>\n",
              "<style scoped>\n",
              "    .dataframe tbody tr th:only-of-type {\n",
              "        vertical-align: middle;\n",
              "    }\n",
              "\n",
              "    .dataframe tbody tr th {\n",
              "        vertical-align: top;\n",
              "    }\n",
              "\n",
              "    .dataframe thead th {\n",
              "        text-align: right;\n",
              "    }\n",
              "</style>\n",
              "<table border=\"1\" class=\"dataframe\">\n",
              "  <thead>\n",
              "    <tr style=\"text-align: right;\">\n",
              "      <th></th>\n",
              "      <th>sessionID</th>\n",
              "      <th>itemID</th>\n",
              "      <th>click</th>\n",
              "      <th>basket</th>\n",
              "      <th>order</th>\n",
              "    </tr>\n",
              "  </thead>\n",
              "  <tbody>\n",
              "    <tr>\n",
              "      <th>0</th>\n",
              "      <td>0</td>\n",
              "      <td>21310</td>\n",
              "      <td>1</td>\n",
              "      <td>0</td>\n",
              "      <td>0</td>\n",
              "    </tr>\n",
              "    <tr>\n",
              "      <th>1</th>\n",
              "      <td>1</td>\n",
              "      <td>73018</td>\n",
              "      <td>1</td>\n",
              "      <td>0</td>\n",
              "      <td>0</td>\n",
              "    </tr>\n",
              "    <tr>\n",
              "      <th>2</th>\n",
              "      <td>2</td>\n",
              "      <td>19194</td>\n",
              "      <td>1</td>\n",
              "      <td>0</td>\n",
              "      <td>0</td>\n",
              "    </tr>\n",
              "    <tr>\n",
              "      <th>3</th>\n",
              "      <td>3</td>\n",
              "      <td>40250</td>\n",
              "      <td>1</td>\n",
              "      <td>0</td>\n",
              "      <td>0</td>\n",
              "    </tr>\n",
              "    <tr>\n",
              "      <th>4</th>\n",
              "      <td>4</td>\n",
              "      <td>46107</td>\n",
              "      <td>1</td>\n",
              "      <td>0</td>\n",
              "      <td>0</td>\n",
              "    </tr>\n",
              "  </tbody>\n",
              "</table>\n",
              "</div>"
            ],
            "text/plain": [
              "   sessionID  itemID  click  basket  order\n",
              "0          0   21310      1       0      0\n",
              "1          1   73018      1       0      0\n",
              "2          2   19194      1       0      0\n",
              "3          3   40250      1       0      0\n",
              "4          4   46107      1       0      0"
            ]
          },
          "metadata": {
            "tags": []
          },
          "execution_count": 3
        }
      ]
    },
    {
      "cell_type": "code",
      "metadata": {
        "colab": {
          "base_uri": "https://localhost:8080/"
        },
        "id": "c37aaba7",
        "outputId": "d0aaf39c-5179-4fdf-d0e3-080fa64fc880"
      },
      "source": [
        "print(transaction.shape)\n",
        "print(items.shape)"
      ],
      "id": "c37aaba7",
      "execution_count": 4,
      "outputs": [
        {
          "output_type": "stream",
          "text": [
            "(365143, 5)\n",
            "(78030, 6)\n"
          ],
          "name": "stdout"
        }
      ]
    },
    {
      "cell_type": "code",
      "metadata": {
        "id": "95494932"
      },
      "source": [
        "data = pd.merge(transaction, items, on=[\"itemID\"])"
      ],
      "id": "95494932",
      "execution_count": 5,
      "outputs": []
    },
    {
      "cell_type": "code",
      "metadata": {
        "colab": {
          "base_uri": "https://localhost:8080/"
        },
        "id": "24c966e9",
        "outputId": "c4b80b81-54d4-450f-81f6-91c804dbbd5d"
      },
      "source": [
        "data.shape"
      ],
      "id": "24c966e9",
      "execution_count": 6,
      "outputs": [
        {
          "output_type": "execute_result",
          "data": {
            "text/plain": [
              "(365143, 10)"
            ]
          },
          "metadata": {
            "tags": []
          },
          "execution_count": 6
        }
      ]
    },
    {
      "cell_type": "code",
      "metadata": {
        "colab": {
          "base_uri": "https://localhost:8080/"
        },
        "id": "b160e6b4",
        "outputId": "0fb9a635-2791-47f9-9f86-c0581e9f756e"
      },
      "source": [
        "data.info()"
      ],
      "id": "b160e6b4",
      "execution_count": 7,
      "outputs": [
        {
          "output_type": "stream",
          "text": [
            "<class 'pandas.core.frame.DataFrame'>\n",
            "Int64Index: 365143 entries, 0 to 365142\n",
            "Data columns (total 10 columns):\n",
            " #   Column      Non-Null Count   Dtype \n",
            "---  ------      --------------   ----- \n",
            " 0   sessionID   365143 non-null  int64 \n",
            " 1   itemID      365143 non-null  int64 \n",
            " 2   click       365143 non-null  int64 \n",
            " 3   basket      365143 non-null  int64 \n",
            " 4   order       365143 non-null  int64 \n",
            " 5   title       365143 non-null  object\n",
            " 6   author      323809 non-null  object\n",
            " 7   publisher   365142 non-null  object\n",
            " 8   main topic  364248 non-null  object\n",
            " 9   subtopics   365143 non-null  object\n",
            "dtypes: int64(5), object(5)\n",
            "memory usage: 30.6+ MB\n"
          ],
          "name": "stdout"
        }
      ]
    },
    {
      "cell_type": "code",
      "metadata": {
        "colab": {
          "base_uri": "https://localhost:8080/"
        },
        "id": "07cf02c3",
        "outputId": "6cc77fff-922b-4555-c9f3-5b00be258639"
      },
      "source": [
        "# choosing Target variable\n",
        "#print(inner_merged_total['basket'].value_counts())\n",
        "#print(inner_merged_total['click'].value_counts())\n",
        "print(data['order'].value_counts())"
      ],
      "id": "07cf02c3",
      "execution_count": 8,
      "outputs": [
        {
          "output_type": "stream",
          "text": [
            "0     348237\n",
            "1      16593\n",
            "2        255\n",
            "3         18\n",
            "4          7\n",
            "5          7\n",
            "21         4\n",
            "10         2\n",
            "25         2\n",
            "7          2\n",
            "27         2\n",
            "12         2\n",
            "11         2\n",
            "6          1\n",
            "28         1\n",
            "14         1\n",
            "15         1\n",
            "19         1\n",
            "20         1\n",
            "22         1\n",
            "23         1\n",
            "26         1\n",
            "13         1\n",
            "Name: order, dtype: int64\n"
          ],
          "name": "stdout"
        }
      ]
    },
    {
      "cell_type": "code",
      "metadata": {
        "id": "d8b8e4f7"
      },
      "source": [
        "##data preprocessing \n",
        "##generate target variable interest\n",
        "data[\"Interest\"] = data[\"click\"] + data[\"basket\"]+ data[\"order\"]\n",
        "\n",
        "\n",
        "## aggregrate (idea is to generate the frequencies of item id, and multiply it by interest, getting the total interest of the items)"
      ],
      "id": "d8b8e4f7",
      "execution_count": 9,
      "outputs": []
    },
    {
      "cell_type": "code",
      "metadata": {
        "colab": {
          "base_uri": "https://localhost:8080/",
          "height": 304
        },
        "id": "b1d78f30",
        "outputId": "2be8e078-d52e-45a7-a639-4c980ce9c275"
      },
      "source": [
        "data.head()\n",
        "#print(inner_merged_total['Interest'].value_counts())"
      ],
      "id": "b1d78f30",
      "execution_count": 10,
      "outputs": [
        {
          "output_type": "execute_result",
          "data": {
            "text/html": [
              "<div>\n",
              "<style scoped>\n",
              "    .dataframe tbody tr th:only-of-type {\n",
              "        vertical-align: middle;\n",
              "    }\n",
              "\n",
              "    .dataframe tbody tr th {\n",
              "        vertical-align: top;\n",
              "    }\n",
              "\n",
              "    .dataframe thead th {\n",
              "        text-align: right;\n",
              "    }\n",
              "</style>\n",
              "<table border=\"1\" class=\"dataframe\">\n",
              "  <thead>\n",
              "    <tr style=\"text-align: right;\">\n",
              "      <th></th>\n",
              "      <th>sessionID</th>\n",
              "      <th>itemID</th>\n",
              "      <th>click</th>\n",
              "      <th>basket</th>\n",
              "      <th>order</th>\n",
              "      <th>title</th>\n",
              "      <th>author</th>\n",
              "      <th>publisher</th>\n",
              "      <th>main topic</th>\n",
              "      <th>subtopics</th>\n",
              "      <th>Interest</th>\n",
              "    </tr>\n",
              "  </thead>\n",
              "  <tbody>\n",
              "    <tr>\n",
              "      <th>0</th>\n",
              "      <td>0</td>\n",
              "      <td>21310</td>\n",
              "      <td>1</td>\n",
              "      <td>0</td>\n",
              "      <td>0</td>\n",
              "      <td>Princess Poppy: The Big Mix Up</td>\n",
              "      <td>Janey Louise Jones</td>\n",
              "      <td>Penguin Random House Children's UK</td>\n",
              "      <td>YFB</td>\n",
              "      <td>[5AH]</td>\n",
              "      <td>1</td>\n",
              "    </tr>\n",
              "    <tr>\n",
              "      <th>1</th>\n",
              "      <td>89272</td>\n",
              "      <td>21310</td>\n",
              "      <td>1</td>\n",
              "      <td>0</td>\n",
              "      <td>0</td>\n",
              "      <td>Princess Poppy: The Big Mix Up</td>\n",
              "      <td>Janey Louise Jones</td>\n",
              "      <td>Penguin Random House Children's UK</td>\n",
              "      <td>YFB</td>\n",
              "      <td>[5AH]</td>\n",
              "      <td>1</td>\n",
              "    </tr>\n",
              "    <tr>\n",
              "      <th>2</th>\n",
              "      <td>183856</td>\n",
              "      <td>21310</td>\n",
              "      <td>1</td>\n",
              "      <td>0</td>\n",
              "      <td>0</td>\n",
              "      <td>Princess Poppy: The Big Mix Up</td>\n",
              "      <td>Janey Louise Jones</td>\n",
              "      <td>Penguin Random House Children's UK</td>\n",
              "      <td>YFB</td>\n",
              "      <td>[5AH]</td>\n",
              "      <td>1</td>\n",
              "    </tr>\n",
              "    <tr>\n",
              "      <th>3</th>\n",
              "      <td>1</td>\n",
              "      <td>73018</td>\n",
              "      <td>1</td>\n",
              "      <td>0</td>\n",
              "      <td>0</td>\n",
              "      <td>Einfach zeichnen! Step by Step</td>\n",
              "      <td>Wiebke Krabbe</td>\n",
              "      <td>Schwager und Steinlein</td>\n",
              "      <td>AGZ</td>\n",
              "      <td>[5AJ,AGZ,WFA,YBG,YBL,YNA,YPA]</td>\n",
              "      <td>1</td>\n",
              "    </tr>\n",
              "    <tr>\n",
              "      <th>4</th>\n",
              "      <td>771</td>\n",
              "      <td>73018</td>\n",
              "      <td>1</td>\n",
              "      <td>0</td>\n",
              "      <td>0</td>\n",
              "      <td>Einfach zeichnen! Step by Step</td>\n",
              "      <td>Wiebke Krabbe</td>\n",
              "      <td>Schwager und Steinlein</td>\n",
              "      <td>AGZ</td>\n",
              "      <td>[5AJ,AGZ,WFA,YBG,YBL,YNA,YPA]</td>\n",
              "      <td>1</td>\n",
              "    </tr>\n",
              "  </tbody>\n",
              "</table>\n",
              "</div>"
            ],
            "text/plain": [
              "   sessionID  itemID  click  ...  main topic                      subtopics Interest\n",
              "0          0   21310      1  ...         YFB                          [5AH]        1\n",
              "1      89272   21310      1  ...         YFB                          [5AH]        1\n",
              "2     183856   21310      1  ...         YFB                          [5AH]        1\n",
              "3          1   73018      1  ...         AGZ  [5AJ,AGZ,WFA,YBG,YBL,YNA,YPA]        1\n",
              "4        771   73018      1  ...         AGZ  [5AJ,AGZ,WFA,YBG,YBL,YNA,YPA]        1\n",
              "\n",
              "[5 rows x 11 columns]"
            ]
          },
          "metadata": {
            "tags": []
          },
          "execution_count": 10
        }
      ]
    },
    {
      "cell_type": "markdown",
      "metadata": {
        "id": "6b5f8559"
      },
      "source": [
        "## Group by item ID, and then count the item ID, and then interest * count of itemID = total interest column"
      ],
      "id": "6b5f8559"
    },
    {
      "cell_type": "code",
      "metadata": {
        "colab": {
          "base_uri": "https://localhost:8080/"
        },
        "id": "dd64db43",
        "outputId": "c51cae7a-4396-41fa-ab06-17752e9ef366"
      },
      "source": [
        "##generate frequency\n",
        "test = data.value_counts(['itemID']).reset_index(name='Frequency')\n",
        "print(test.head())"
      ],
      "id": "dd64db43",
      "execution_count": 11,
      "outputs": [
        {
          "output_type": "stream",
          "text": [
            "   itemID  Frequency\n",
            "0   58522       2291\n",
            "1   66247       1775\n",
            "2   10666       1749\n",
            "3   44220       1687\n",
            "4   69185       1290\n"
          ],
          "name": "stdout"
        }
      ]
    },
    {
      "cell_type": "code",
      "metadata": {
        "colab": {
          "base_uri": "https://localhost:8080/",
          "height": 354
        },
        "id": "c049122d",
        "outputId": "a783fe8c-7c75-4820-ea38-eb819206fe1e"
      },
      "source": [
        "#Merging frequency \n",
        "book_data = pd.merge(data, test, on=[\"itemID\"])\n",
        "book_data.head()"
      ],
      "id": "c049122d",
      "execution_count": 12,
      "outputs": [
        {
          "output_type": "execute_result",
          "data": {
            "text/html": [
              "<div>\n",
              "<style scoped>\n",
              "    .dataframe tbody tr th:only-of-type {\n",
              "        vertical-align: middle;\n",
              "    }\n",
              "\n",
              "    .dataframe tbody tr th {\n",
              "        vertical-align: top;\n",
              "    }\n",
              "\n",
              "    .dataframe thead th {\n",
              "        text-align: right;\n",
              "    }\n",
              "</style>\n",
              "<table border=\"1\" class=\"dataframe\">\n",
              "  <thead>\n",
              "    <tr style=\"text-align: right;\">\n",
              "      <th></th>\n",
              "      <th>sessionID</th>\n",
              "      <th>itemID</th>\n",
              "      <th>click</th>\n",
              "      <th>basket</th>\n",
              "      <th>order</th>\n",
              "      <th>title</th>\n",
              "      <th>author</th>\n",
              "      <th>publisher</th>\n",
              "      <th>main topic</th>\n",
              "      <th>subtopics</th>\n",
              "      <th>Interest</th>\n",
              "      <th>Frequency</th>\n",
              "    </tr>\n",
              "  </thead>\n",
              "  <tbody>\n",
              "    <tr>\n",
              "      <th>0</th>\n",
              "      <td>0</td>\n",
              "      <td>21310</td>\n",
              "      <td>1</td>\n",
              "      <td>0</td>\n",
              "      <td>0</td>\n",
              "      <td>Princess Poppy: The Big Mix Up</td>\n",
              "      <td>Janey Louise Jones</td>\n",
              "      <td>Penguin Random House Children's UK</td>\n",
              "      <td>YFB</td>\n",
              "      <td>[5AH]</td>\n",
              "      <td>1</td>\n",
              "      <td>3</td>\n",
              "    </tr>\n",
              "    <tr>\n",
              "      <th>1</th>\n",
              "      <td>89272</td>\n",
              "      <td>21310</td>\n",
              "      <td>1</td>\n",
              "      <td>0</td>\n",
              "      <td>0</td>\n",
              "      <td>Princess Poppy: The Big Mix Up</td>\n",
              "      <td>Janey Louise Jones</td>\n",
              "      <td>Penguin Random House Children's UK</td>\n",
              "      <td>YFB</td>\n",
              "      <td>[5AH]</td>\n",
              "      <td>1</td>\n",
              "      <td>3</td>\n",
              "    </tr>\n",
              "    <tr>\n",
              "      <th>2</th>\n",
              "      <td>183856</td>\n",
              "      <td>21310</td>\n",
              "      <td>1</td>\n",
              "      <td>0</td>\n",
              "      <td>0</td>\n",
              "      <td>Princess Poppy: The Big Mix Up</td>\n",
              "      <td>Janey Louise Jones</td>\n",
              "      <td>Penguin Random House Children's UK</td>\n",
              "      <td>YFB</td>\n",
              "      <td>[5AH]</td>\n",
              "      <td>1</td>\n",
              "      <td>3</td>\n",
              "    </tr>\n",
              "    <tr>\n",
              "      <th>3</th>\n",
              "      <td>1</td>\n",
              "      <td>73018</td>\n",
              "      <td>1</td>\n",
              "      <td>0</td>\n",
              "      <td>0</td>\n",
              "      <td>Einfach zeichnen! Step by Step</td>\n",
              "      <td>Wiebke Krabbe</td>\n",
              "      <td>Schwager und Steinlein</td>\n",
              "      <td>AGZ</td>\n",
              "      <td>[5AJ,AGZ,WFA,YBG,YBL,YNA,YPA]</td>\n",
              "      <td>1</td>\n",
              "      <td>59</td>\n",
              "    </tr>\n",
              "    <tr>\n",
              "      <th>4</th>\n",
              "      <td>771</td>\n",
              "      <td>73018</td>\n",
              "      <td>1</td>\n",
              "      <td>0</td>\n",
              "      <td>0</td>\n",
              "      <td>Einfach zeichnen! Step by Step</td>\n",
              "      <td>Wiebke Krabbe</td>\n",
              "      <td>Schwager und Steinlein</td>\n",
              "      <td>AGZ</td>\n",
              "      <td>[5AJ,AGZ,WFA,YBG,YBL,YNA,YPA]</td>\n",
              "      <td>1</td>\n",
              "      <td>59</td>\n",
              "    </tr>\n",
              "  </tbody>\n",
              "</table>\n",
              "</div>"
            ],
            "text/plain": [
              "   sessionID  itemID  click  ...                      subtopics  Interest Frequency\n",
              "0          0   21310      1  ...                          [5AH]         1         3\n",
              "1      89272   21310      1  ...                          [5AH]         1         3\n",
              "2     183856   21310      1  ...                          [5AH]         1         3\n",
              "3          1   73018      1  ...  [5AJ,AGZ,WFA,YBG,YBL,YNA,YPA]         1        59\n",
              "4        771   73018      1  ...  [5AJ,AGZ,WFA,YBG,YBL,YNA,YPA]         1        59\n",
              "\n",
              "[5 rows x 12 columns]"
            ]
          },
          "metadata": {
            "tags": []
          },
          "execution_count": 12
        }
      ]
    },
    {
      "cell_type": "code",
      "metadata": {
        "colab": {
          "base_uri": "https://localhost:8080/"
        },
        "id": "f73a5ea2",
        "outputId": "8da07f9b-f3ad-4714-8ff4-3ca1f0fd60ee"
      },
      "source": [
        "#remove dupicate rows \n",
        "print(book_data.shape)\n",
        "book_data.drop_duplicates(subset =\"itemID\", keep='first' ,inplace=True)\n",
        "print(book_data.shape)"
      ],
      "id": "f73a5ea2",
      "execution_count": 13,
      "outputs": [
        {
          "output_type": "stream",
          "text": [
            "(365143, 12)\n",
            "(24909, 12)\n"
          ],
          "name": "stdout"
        }
      ]
    },
    {
      "cell_type": "code",
      "metadata": {
        "colab": {
          "base_uri": "https://localhost:8080/",
          "height": 338
        },
        "id": "af6d9dec",
        "outputId": "2913946e-3126-44ed-df3f-9ce1f23805db"
      },
      "source": [
        "book_data.head()"
      ],
      "id": "af6d9dec",
      "execution_count": 14,
      "outputs": [
        {
          "output_type": "execute_result",
          "data": {
            "text/html": [
              "<div>\n",
              "<style scoped>\n",
              "    .dataframe tbody tr th:only-of-type {\n",
              "        vertical-align: middle;\n",
              "    }\n",
              "\n",
              "    .dataframe tbody tr th {\n",
              "        vertical-align: top;\n",
              "    }\n",
              "\n",
              "    .dataframe thead th {\n",
              "        text-align: right;\n",
              "    }\n",
              "</style>\n",
              "<table border=\"1\" class=\"dataframe\">\n",
              "  <thead>\n",
              "    <tr style=\"text-align: right;\">\n",
              "      <th></th>\n",
              "      <th>sessionID</th>\n",
              "      <th>itemID</th>\n",
              "      <th>click</th>\n",
              "      <th>basket</th>\n",
              "      <th>order</th>\n",
              "      <th>title</th>\n",
              "      <th>author</th>\n",
              "      <th>publisher</th>\n",
              "      <th>main topic</th>\n",
              "      <th>subtopics</th>\n",
              "      <th>Interest</th>\n",
              "      <th>Frequency</th>\n",
              "    </tr>\n",
              "  </thead>\n",
              "  <tbody>\n",
              "    <tr>\n",
              "      <th>0</th>\n",
              "      <td>0</td>\n",
              "      <td>21310</td>\n",
              "      <td>1</td>\n",
              "      <td>0</td>\n",
              "      <td>0</td>\n",
              "      <td>Princess Poppy: The Big Mix Up</td>\n",
              "      <td>Janey Louise Jones</td>\n",
              "      <td>Penguin Random House Children's UK</td>\n",
              "      <td>YFB</td>\n",
              "      <td>[5AH]</td>\n",
              "      <td>1</td>\n",
              "      <td>3</td>\n",
              "    </tr>\n",
              "    <tr>\n",
              "      <th>3</th>\n",
              "      <td>1</td>\n",
              "      <td>73018</td>\n",
              "      <td>1</td>\n",
              "      <td>0</td>\n",
              "      <td>0</td>\n",
              "      <td>Einfach zeichnen! Step by Step</td>\n",
              "      <td>Wiebke Krabbe</td>\n",
              "      <td>Schwager und Steinlein</td>\n",
              "      <td>AGZ</td>\n",
              "      <td>[5AJ,AGZ,WFA,YBG,YBL,YNA,YPA]</td>\n",
              "      <td>1</td>\n",
              "      <td>59</td>\n",
              "    </tr>\n",
              "    <tr>\n",
              "      <th>62</th>\n",
              "      <td>2</td>\n",
              "      <td>19194</td>\n",
              "      <td>1</td>\n",
              "      <td>0</td>\n",
              "      <td>0</td>\n",
              "      <td>Red Queen 1</td>\n",
              "      <td>Victoria Aveyard</td>\n",
              "      <td>Orion Publishing Group</td>\n",
              "      <td>YFH</td>\n",
              "      <td>[5AP,FBA]</td>\n",
              "      <td>1</td>\n",
              "      <td>186</td>\n",
              "    </tr>\n",
              "    <tr>\n",
              "      <th>248</th>\n",
              "      <td>3</td>\n",
              "      <td>40250</td>\n",
              "      <td>1</td>\n",
              "      <td>0</td>\n",
              "      <td>0</td>\n",
              "      <td>Meine Kindergarten-Freunde (Pirat)</td>\n",
              "      <td>NaN</td>\n",
              "      <td>Ars Edition GmbH</td>\n",
              "      <td>YB</td>\n",
              "      <td>[5AC,5AD,YBG,YBL,YF]</td>\n",
              "      <td>1</td>\n",
              "      <td>339</td>\n",
              "    </tr>\n",
              "    <tr>\n",
              "      <th>587</th>\n",
              "      <td>4</td>\n",
              "      <td>46107</td>\n",
              "      <td>1</td>\n",
              "      <td>0</td>\n",
              "      <td>0</td>\n",
              "      <td>Mein großes Schablonen-Buch - Wilde Tiere</td>\n",
              "      <td>Elizabeth Golding</td>\n",
              "      <td>Edition Michael Fischer</td>\n",
              "      <td>WFTM</td>\n",
              "      <td>[WD,WFTM,YBG,YBL,YBLD,YBLN1]</td>\n",
              "      <td>1</td>\n",
              "      <td>25</td>\n",
              "    </tr>\n",
              "  </tbody>\n",
              "</table>\n",
              "</div>"
            ],
            "text/plain": [
              "     sessionID  itemID  ...  Interest  Frequency\n",
              "0            0   21310  ...         1          3\n",
              "3            1   73018  ...         1         59\n",
              "62           2   19194  ...         1        186\n",
              "248          3   40250  ...         1        339\n",
              "587          4   46107  ...         1         25\n",
              "\n",
              "[5 rows x 12 columns]"
            ]
          },
          "metadata": {
            "tags": []
          },
          "execution_count": 14
        }
      ]
    },
    {
      "cell_type": "code",
      "metadata": {
        "colab": {
          "base_uri": "https://localhost:8080/",
          "height": 924
        },
        "id": "594cb2c4",
        "outputId": "54814752-77bf-4651-9ac7-631412585f6e"
      },
      "source": [
        "##Generate total interest\n",
        "\n",
        "book_data[\"Total_Interest\"] = book_data[\"Frequency\"] * book_data[\"Interest\"] \n",
        "\n",
        "##Print latest book_data\n",
        "\n",
        "book_data \n"
      ],
      "id": "594cb2c4",
      "execution_count": 15,
      "outputs": [
        {
          "output_type": "execute_result",
          "data": {
            "text/html": [
              "<div>\n",
              "<style scoped>\n",
              "    .dataframe tbody tr th:only-of-type {\n",
              "        vertical-align: middle;\n",
              "    }\n",
              "\n",
              "    .dataframe tbody tr th {\n",
              "        vertical-align: top;\n",
              "    }\n",
              "\n",
              "    .dataframe thead th {\n",
              "        text-align: right;\n",
              "    }\n",
              "</style>\n",
              "<table border=\"1\" class=\"dataframe\">\n",
              "  <thead>\n",
              "    <tr style=\"text-align: right;\">\n",
              "      <th></th>\n",
              "      <th>sessionID</th>\n",
              "      <th>itemID</th>\n",
              "      <th>click</th>\n",
              "      <th>basket</th>\n",
              "      <th>order</th>\n",
              "      <th>title</th>\n",
              "      <th>author</th>\n",
              "      <th>publisher</th>\n",
              "      <th>main topic</th>\n",
              "      <th>subtopics</th>\n",
              "      <th>Interest</th>\n",
              "      <th>Frequency</th>\n",
              "      <th>Total_Interest</th>\n",
              "    </tr>\n",
              "  </thead>\n",
              "  <tbody>\n",
              "    <tr>\n",
              "      <th>0</th>\n",
              "      <td>0</td>\n",
              "      <td>21310</td>\n",
              "      <td>1</td>\n",
              "      <td>0</td>\n",
              "      <td>0</td>\n",
              "      <td>Princess Poppy: The Big Mix Up</td>\n",
              "      <td>Janey Louise Jones</td>\n",
              "      <td>Penguin Random House Children's UK</td>\n",
              "      <td>YFB</td>\n",
              "      <td>[5AH]</td>\n",
              "      <td>1</td>\n",
              "      <td>3</td>\n",
              "      <td>3</td>\n",
              "    </tr>\n",
              "    <tr>\n",
              "      <th>3</th>\n",
              "      <td>1</td>\n",
              "      <td>73018</td>\n",
              "      <td>1</td>\n",
              "      <td>0</td>\n",
              "      <td>0</td>\n",
              "      <td>Einfach zeichnen! Step by Step</td>\n",
              "      <td>Wiebke Krabbe</td>\n",
              "      <td>Schwager und Steinlein</td>\n",
              "      <td>AGZ</td>\n",
              "      <td>[5AJ,AGZ,WFA,YBG,YBL,YNA,YPA]</td>\n",
              "      <td>1</td>\n",
              "      <td>59</td>\n",
              "      <td>59</td>\n",
              "    </tr>\n",
              "    <tr>\n",
              "      <th>62</th>\n",
              "      <td>2</td>\n",
              "      <td>19194</td>\n",
              "      <td>1</td>\n",
              "      <td>0</td>\n",
              "      <td>0</td>\n",
              "      <td>Red Queen 1</td>\n",
              "      <td>Victoria Aveyard</td>\n",
              "      <td>Orion Publishing Group</td>\n",
              "      <td>YFH</td>\n",
              "      <td>[5AP,FBA]</td>\n",
              "      <td>1</td>\n",
              "      <td>186</td>\n",
              "      <td>186</td>\n",
              "    </tr>\n",
              "    <tr>\n",
              "      <th>248</th>\n",
              "      <td>3</td>\n",
              "      <td>40250</td>\n",
              "      <td>1</td>\n",
              "      <td>0</td>\n",
              "      <td>0</td>\n",
              "      <td>Meine Kindergarten-Freunde (Pirat)</td>\n",
              "      <td>NaN</td>\n",
              "      <td>Ars Edition GmbH</td>\n",
              "      <td>YB</td>\n",
              "      <td>[5AC,5AD,YBG,YBL,YF]</td>\n",
              "      <td>1</td>\n",
              "      <td>339</td>\n",
              "      <td>339</td>\n",
              "    </tr>\n",
              "    <tr>\n",
              "      <th>587</th>\n",
              "      <td>4</td>\n",
              "      <td>46107</td>\n",
              "      <td>1</td>\n",
              "      <td>0</td>\n",
              "      <td>0</td>\n",
              "      <td>Mein großes Schablonen-Buch - Wilde Tiere</td>\n",
              "      <td>Elizabeth Golding</td>\n",
              "      <td>Edition Michael Fischer</td>\n",
              "      <td>WFTM</td>\n",
              "      <td>[WD,WFTM,YBG,YBL,YBLD,YBLN1]</td>\n",
              "      <td>1</td>\n",
              "      <td>25</td>\n",
              "      <td>25</td>\n",
              "    </tr>\n",
              "    <tr>\n",
              "      <th>...</th>\n",
              "      <td>...</td>\n",
              "      <td>...</td>\n",
              "      <td>...</td>\n",
              "      <td>...</td>\n",
              "      <td>...</td>\n",
              "      <td>...</td>\n",
              "      <td>...</td>\n",
              "      <td>...</td>\n",
              "      <td>...</td>\n",
              "      <td>...</td>\n",
              "      <td>...</td>\n",
              "      <td>...</td>\n",
              "      <td>...</td>\n",
              "    </tr>\n",
              "    <tr>\n",
              "      <th>365138</th>\n",
              "      <td>279176</td>\n",
              "      <td>21264</td>\n",
              "      <td>1</td>\n",
              "      <td>0</td>\n",
              "      <td>0</td>\n",
              "      <td>Soon</td>\n",
              "      <td>Morris Gleitzman</td>\n",
              "      <td>Penguin Random House Children's UK</td>\n",
              "      <td>YFN</td>\n",
              "      <td>[5AL]</td>\n",
              "      <td>1</td>\n",
              "      <td>1</td>\n",
              "      <td>1</td>\n",
              "    </tr>\n",
              "    <tr>\n",
              "      <th>365139</th>\n",
              "      <td>279210</td>\n",
              "      <td>22297</td>\n",
              "      <td>1</td>\n",
              "      <td>0</td>\n",
              "      <td>0</td>\n",
              "      <td>Warum? Fragen u. Antworten f. Kleinkinder - In...</td>\n",
              "      <td>NaN</td>\n",
              "      <td>Yo Yo Books</td>\n",
              "      <td>YBC</td>\n",
              "      <td>[YBL]</td>\n",
              "      <td>1</td>\n",
              "      <td>1</td>\n",
              "      <td>1</td>\n",
              "    </tr>\n",
              "    <tr>\n",
              "      <th>365140</th>\n",
              "      <td>279248</td>\n",
              "      <td>56041</td>\n",
              "      <td>1</td>\n",
              "      <td>0</td>\n",
              "      <td>0</td>\n",
              "      <td>Tesla</td>\n",
              "      <td>Mark Lingane</td>\n",
              "      <td>Insync Holdings Pty Ltd</td>\n",
              "      <td>FLM</td>\n",
              "      <td>[]</td>\n",
              "      <td>1</td>\n",
              "      <td>1</td>\n",
              "      <td>1</td>\n",
              "    </tr>\n",
              "    <tr>\n",
              "      <th>365141</th>\n",
              "      <td>279343</td>\n",
              "      <td>67832</td>\n",
              "      <td>2</td>\n",
              "      <td>0</td>\n",
              "      <td>0</td>\n",
              "      <td>Hexenherz. Glühender Hass</td>\n",
              "      <td>Monika Loerchner</td>\n",
              "      <td>Acabus Verlag</td>\n",
              "      <td>FMH</td>\n",
              "      <td>[1D,FMH,FMR]</td>\n",
              "      <td>2</td>\n",
              "      <td>1</td>\n",
              "      <td>2</td>\n",
              "    </tr>\n",
              "    <tr>\n",
              "      <th>365142</th>\n",
              "      <td>279350</td>\n",
              "      <td>73084</td>\n",
              "      <td>1</td>\n",
              "      <td>0</td>\n",
              "      <td>0</td>\n",
              "      <td>Everybody Sees the Ants</td>\n",
              "      <td>A. S. King</td>\n",
              "      <td>LITTLE BROWN &amp; CO</td>\n",
              "      <td>YXQF</td>\n",
              "      <td>[YF,YXD,YXE]</td>\n",
              "      <td>1</td>\n",
              "      <td>1</td>\n",
              "      <td>1</td>\n",
              "    </tr>\n",
              "  </tbody>\n",
              "</table>\n",
              "<p>24909 rows × 13 columns</p>\n",
              "</div>"
            ],
            "text/plain": [
              "        sessionID  itemID  click  ...  Interest  Frequency Total_Interest\n",
              "0               0   21310      1  ...         1          3              3\n",
              "3               1   73018      1  ...         1         59             59\n",
              "62              2   19194      1  ...         1        186            186\n",
              "248             3   40250      1  ...         1        339            339\n",
              "587             4   46107      1  ...         1         25             25\n",
              "...           ...     ...    ...  ...       ...        ...            ...\n",
              "365138     279176   21264      1  ...         1          1              1\n",
              "365139     279210   22297      1  ...         1          1              1\n",
              "365140     279248   56041      1  ...         1          1              1\n",
              "365141     279343   67832      2  ...         2          1              2\n",
              "365142     279350   73084      1  ...         1          1              1\n",
              "\n",
              "[24909 rows x 13 columns]"
            ]
          },
          "metadata": {
            "tags": []
          },
          "execution_count": 15
        }
      ]
    },
    {
      "cell_type": "code",
      "metadata": {
        "colab": {
          "base_uri": "https://localhost:8080/",
          "height": 417
        },
        "id": "3df832bf-510a-4e84-9035-e20912b0b8fd",
        "outputId": "0dd7b2a8-e872-4a77-e6e5-5a0d8635fc67"
      },
      "source": [
        "book_rating= book_data.copy()\n",
        "book_rating.drop(['sessionID', 'click','Total_Interest','Interest','author','publisher'], axis=1)"
      ],
      "id": "3df832bf-510a-4e84-9035-e20912b0b8fd",
      "execution_count": 16,
      "outputs": [
        {
          "output_type": "execute_result",
          "data": {
            "text/html": [
              "<div>\n",
              "<style scoped>\n",
              "    .dataframe tbody tr th:only-of-type {\n",
              "        vertical-align: middle;\n",
              "    }\n",
              "\n",
              "    .dataframe tbody tr th {\n",
              "        vertical-align: top;\n",
              "    }\n",
              "\n",
              "    .dataframe thead th {\n",
              "        text-align: right;\n",
              "    }\n",
              "</style>\n",
              "<table border=\"1\" class=\"dataframe\">\n",
              "  <thead>\n",
              "    <tr style=\"text-align: right;\">\n",
              "      <th></th>\n",
              "      <th>itemID</th>\n",
              "      <th>basket</th>\n",
              "      <th>order</th>\n",
              "      <th>title</th>\n",
              "      <th>main topic</th>\n",
              "      <th>subtopics</th>\n",
              "      <th>Frequency</th>\n",
              "    </tr>\n",
              "  </thead>\n",
              "  <tbody>\n",
              "    <tr>\n",
              "      <th>0</th>\n",
              "      <td>21310</td>\n",
              "      <td>0</td>\n",
              "      <td>0</td>\n",
              "      <td>Princess Poppy: The Big Mix Up</td>\n",
              "      <td>YFB</td>\n",
              "      <td>[5AH]</td>\n",
              "      <td>3</td>\n",
              "    </tr>\n",
              "    <tr>\n",
              "      <th>3</th>\n",
              "      <td>73018</td>\n",
              "      <td>0</td>\n",
              "      <td>0</td>\n",
              "      <td>Einfach zeichnen! Step by Step</td>\n",
              "      <td>AGZ</td>\n",
              "      <td>[5AJ,AGZ,WFA,YBG,YBL,YNA,YPA]</td>\n",
              "      <td>59</td>\n",
              "    </tr>\n",
              "    <tr>\n",
              "      <th>62</th>\n",
              "      <td>19194</td>\n",
              "      <td>0</td>\n",
              "      <td>0</td>\n",
              "      <td>Red Queen 1</td>\n",
              "      <td>YFH</td>\n",
              "      <td>[5AP,FBA]</td>\n",
              "      <td>186</td>\n",
              "    </tr>\n",
              "    <tr>\n",
              "      <th>248</th>\n",
              "      <td>40250</td>\n",
              "      <td>0</td>\n",
              "      <td>0</td>\n",
              "      <td>Meine Kindergarten-Freunde (Pirat)</td>\n",
              "      <td>YB</td>\n",
              "      <td>[5AC,5AD,YBG,YBL,YF]</td>\n",
              "      <td>339</td>\n",
              "    </tr>\n",
              "    <tr>\n",
              "      <th>587</th>\n",
              "      <td>46107</td>\n",
              "      <td>0</td>\n",
              "      <td>0</td>\n",
              "      <td>Mein großes Schablonen-Buch - Wilde Tiere</td>\n",
              "      <td>WFTM</td>\n",
              "      <td>[WD,WFTM,YBG,YBL,YBLD,YBLN1]</td>\n",
              "      <td>25</td>\n",
              "    </tr>\n",
              "    <tr>\n",
              "      <th>...</th>\n",
              "      <td>...</td>\n",
              "      <td>...</td>\n",
              "      <td>...</td>\n",
              "      <td>...</td>\n",
              "      <td>...</td>\n",
              "      <td>...</td>\n",
              "      <td>...</td>\n",
              "    </tr>\n",
              "    <tr>\n",
              "      <th>365138</th>\n",
              "      <td>21264</td>\n",
              "      <td>0</td>\n",
              "      <td>0</td>\n",
              "      <td>Soon</td>\n",
              "      <td>YFN</td>\n",
              "      <td>[5AL]</td>\n",
              "      <td>1</td>\n",
              "    </tr>\n",
              "    <tr>\n",
              "      <th>365139</th>\n",
              "      <td>22297</td>\n",
              "      <td>0</td>\n",
              "      <td>0</td>\n",
              "      <td>Warum? Fragen u. Antworten f. Kleinkinder - In...</td>\n",
              "      <td>YBC</td>\n",
              "      <td>[YBL]</td>\n",
              "      <td>1</td>\n",
              "    </tr>\n",
              "    <tr>\n",
              "      <th>365140</th>\n",
              "      <td>56041</td>\n",
              "      <td>0</td>\n",
              "      <td>0</td>\n",
              "      <td>Tesla</td>\n",
              "      <td>FLM</td>\n",
              "      <td>[]</td>\n",
              "      <td>1</td>\n",
              "    </tr>\n",
              "    <tr>\n",
              "      <th>365141</th>\n",
              "      <td>67832</td>\n",
              "      <td>0</td>\n",
              "      <td>0</td>\n",
              "      <td>Hexenherz. Glühender Hass</td>\n",
              "      <td>FMH</td>\n",
              "      <td>[1D,FMH,FMR]</td>\n",
              "      <td>1</td>\n",
              "    </tr>\n",
              "    <tr>\n",
              "      <th>365142</th>\n",
              "      <td>73084</td>\n",
              "      <td>0</td>\n",
              "      <td>0</td>\n",
              "      <td>Everybody Sees the Ants</td>\n",
              "      <td>YXQF</td>\n",
              "      <td>[YF,YXD,YXE]</td>\n",
              "      <td>1</td>\n",
              "    </tr>\n",
              "  </tbody>\n",
              "</table>\n",
              "<p>24909 rows × 7 columns</p>\n",
              "</div>"
            ],
            "text/plain": [
              "        itemID  basket  ...                      subtopics Frequency\n",
              "0        21310       0  ...                          [5AH]         3\n",
              "3        73018       0  ...  [5AJ,AGZ,WFA,YBG,YBL,YNA,YPA]        59\n",
              "62       19194       0  ...                      [5AP,FBA]       186\n",
              "248      40250       0  ...           [5AC,5AD,YBG,YBL,YF]       339\n",
              "587      46107       0  ...   [WD,WFTM,YBG,YBL,YBLD,YBLN1]        25\n",
              "...        ...     ...  ...                            ...       ...\n",
              "365138   21264       0  ...                          [5AL]         1\n",
              "365139   22297       0  ...                          [YBL]         1\n",
              "365140   56041       0  ...                             []         1\n",
              "365141   67832       0  ...                   [1D,FMH,FMR]         1\n",
              "365142   73084       0  ...                   [YF,YXD,YXE]         1\n",
              "\n",
              "[24909 rows x 7 columns]"
            ]
          },
          "metadata": {
            "tags": []
          },
          "execution_count": 16
        }
      ]
    },
    {
      "cell_type": "code",
      "metadata": {
        "id": "39e8c73f-57a7-4058-a5eb-f03d083d2cb9"
      },
      "source": [
        "import numpy as np\n",
        "book_rating['log_frequency'] = np.log(book_data['Frequency'])"
      ],
      "id": "39e8c73f-57a7-4058-a5eb-f03d083d2cb9",
      "execution_count": 18,
      "outputs": []
    },
    {
      "cell_type": "code",
      "metadata": {
        "colab": {
          "base_uri": "https://localhost:8080/"
        },
        "id": "e0bde788-50a4-4dff-bac1-95b19f976b4a",
        "outputId": "b304ead8-f566-44d3-cc1c-2e2079db355a"
      },
      "source": [
        "book_rating['log_frequency'].describe()"
      ],
      "id": "e0bde788-50a4-4dff-bac1-95b19f976b4a",
      "execution_count": 19,
      "outputs": [
        {
          "output_type": "execute_result",
          "data": {
            "text/plain": [
              "count    24909.000000\n",
              "mean         1.397740\n",
              "std          1.359456\n",
              "min          0.000000\n",
              "25%          0.000000\n",
              "50%          1.098612\n",
              "75%          2.197225\n",
              "max          7.736744\n",
              "Name: log_frequency, dtype: float64"
            ]
          },
          "metadata": {
            "tags": []
          },
          "execution_count": 19
        }
      ]
    },
    {
      "cell_type": "code",
      "metadata": {
        "colab": {
          "base_uri": "https://localhost:8080/"
        },
        "id": "o3aSzxNIOzxt",
        "outputId": "59153126-25b1-43ac-98fc-82ff6d193714"
      },
      "source": [
        "print(book_rating['log_frequency'].value_counts())"
      ],
      "id": "o3aSzxNIOzxt",
      "execution_count": 20,
      "outputs": [
        {
          "output_type": "stream",
          "text": [
            "0.000000    7492\n",
            "0.693147    3659\n",
            "1.098612    2157\n",
            "1.386294    1573\n",
            "1.609438    1141\n",
            "            ... \n",
            "5.929589       1\n",
            "5.525453       1\n",
            "5.393628       1\n",
            "5.916202       1\n",
            "5.834811       1\n",
            "Name: log_frequency, Length: 373, dtype: int64\n"
          ],
          "name": "stdout"
        }
      ]
    },
    {
      "cell_type": "code",
      "metadata": {
        "colab": {
          "base_uri": "https://localhost:8080/",
          "height": 924
        },
        "id": "22570470-0ef1-431d-9a1b-11aba15115b2",
        "outputId": "2d1a6f6c-3fc1-4d8b-cfae-bf941cc0d829"
      },
      "source": [
        "bin_labels_5 = ['D', 'C', 'B', 'A']\n",
        "book_rating['Grade'] = pd.qcut(book_rating['log_frequency'],\n",
        "                              q=[0, .2, .4, .6, .8, 1],\n",
        "                              labels=bin_labels_5, duplicates='drop')\n",
        "book_rating\n"
      ],
      "id": "22570470-0ef1-431d-9a1b-11aba15115b2",
      "execution_count": 21,
      "outputs": [
        {
          "output_type": "execute_result",
          "data": {
            "text/html": [
              "<div>\n",
              "<style scoped>\n",
              "    .dataframe tbody tr th:only-of-type {\n",
              "        vertical-align: middle;\n",
              "    }\n",
              "\n",
              "    .dataframe tbody tr th {\n",
              "        vertical-align: top;\n",
              "    }\n",
              "\n",
              "    .dataframe thead th {\n",
              "        text-align: right;\n",
              "    }\n",
              "</style>\n",
              "<table border=\"1\" class=\"dataframe\">\n",
              "  <thead>\n",
              "    <tr style=\"text-align: right;\">\n",
              "      <th></th>\n",
              "      <th>sessionID</th>\n",
              "      <th>itemID</th>\n",
              "      <th>click</th>\n",
              "      <th>basket</th>\n",
              "      <th>order</th>\n",
              "      <th>title</th>\n",
              "      <th>author</th>\n",
              "      <th>publisher</th>\n",
              "      <th>main topic</th>\n",
              "      <th>subtopics</th>\n",
              "      <th>Interest</th>\n",
              "      <th>Frequency</th>\n",
              "      <th>Total_Interest</th>\n",
              "      <th>log_frequency</th>\n",
              "      <th>Grade</th>\n",
              "    </tr>\n",
              "  </thead>\n",
              "  <tbody>\n",
              "    <tr>\n",
              "      <th>0</th>\n",
              "      <td>0</td>\n",
              "      <td>21310</td>\n",
              "      <td>1</td>\n",
              "      <td>0</td>\n",
              "      <td>0</td>\n",
              "      <td>Princess Poppy: The Big Mix Up</td>\n",
              "      <td>Janey Louise Jones</td>\n",
              "      <td>Penguin Random House Children's UK</td>\n",
              "      <td>YFB</td>\n",
              "      <td>[5AH]</td>\n",
              "      <td>1</td>\n",
              "      <td>3</td>\n",
              "      <td>3</td>\n",
              "      <td>1.098612</td>\n",
              "      <td>C</td>\n",
              "    </tr>\n",
              "    <tr>\n",
              "      <th>3</th>\n",
              "      <td>1</td>\n",
              "      <td>73018</td>\n",
              "      <td>1</td>\n",
              "      <td>0</td>\n",
              "      <td>0</td>\n",
              "      <td>Einfach zeichnen! Step by Step</td>\n",
              "      <td>Wiebke Krabbe</td>\n",
              "      <td>Schwager und Steinlein</td>\n",
              "      <td>AGZ</td>\n",
              "      <td>[5AJ,AGZ,WFA,YBG,YBL,YNA,YPA]</td>\n",
              "      <td>1</td>\n",
              "      <td>59</td>\n",
              "      <td>59</td>\n",
              "      <td>4.077537</td>\n",
              "      <td>A</td>\n",
              "    </tr>\n",
              "    <tr>\n",
              "      <th>62</th>\n",
              "      <td>2</td>\n",
              "      <td>19194</td>\n",
              "      <td>1</td>\n",
              "      <td>0</td>\n",
              "      <td>0</td>\n",
              "      <td>Red Queen 1</td>\n",
              "      <td>Victoria Aveyard</td>\n",
              "      <td>Orion Publishing Group</td>\n",
              "      <td>YFH</td>\n",
              "      <td>[5AP,FBA]</td>\n",
              "      <td>1</td>\n",
              "      <td>186</td>\n",
              "      <td>186</td>\n",
              "      <td>5.225747</td>\n",
              "      <td>A</td>\n",
              "    </tr>\n",
              "    <tr>\n",
              "      <th>248</th>\n",
              "      <td>3</td>\n",
              "      <td>40250</td>\n",
              "      <td>1</td>\n",
              "      <td>0</td>\n",
              "      <td>0</td>\n",
              "      <td>Meine Kindergarten-Freunde (Pirat)</td>\n",
              "      <td>NaN</td>\n",
              "      <td>Ars Edition GmbH</td>\n",
              "      <td>YB</td>\n",
              "      <td>[5AC,5AD,YBG,YBL,YF]</td>\n",
              "      <td>1</td>\n",
              "      <td>339</td>\n",
              "      <td>339</td>\n",
              "      <td>5.826000</td>\n",
              "      <td>A</td>\n",
              "    </tr>\n",
              "    <tr>\n",
              "      <th>587</th>\n",
              "      <td>4</td>\n",
              "      <td>46107</td>\n",
              "      <td>1</td>\n",
              "      <td>0</td>\n",
              "      <td>0</td>\n",
              "      <td>Mein großes Schablonen-Buch - Wilde Tiere</td>\n",
              "      <td>Elizabeth Golding</td>\n",
              "      <td>Edition Michael Fischer</td>\n",
              "      <td>WFTM</td>\n",
              "      <td>[WD,WFTM,YBG,YBL,YBLD,YBLN1]</td>\n",
              "      <td>1</td>\n",
              "      <td>25</td>\n",
              "      <td>25</td>\n",
              "      <td>3.218876</td>\n",
              "      <td>A</td>\n",
              "    </tr>\n",
              "    <tr>\n",
              "      <th>...</th>\n",
              "      <td>...</td>\n",
              "      <td>...</td>\n",
              "      <td>...</td>\n",
              "      <td>...</td>\n",
              "      <td>...</td>\n",
              "      <td>...</td>\n",
              "      <td>...</td>\n",
              "      <td>...</td>\n",
              "      <td>...</td>\n",
              "      <td>...</td>\n",
              "      <td>...</td>\n",
              "      <td>...</td>\n",
              "      <td>...</td>\n",
              "      <td>...</td>\n",
              "      <td>...</td>\n",
              "    </tr>\n",
              "    <tr>\n",
              "      <th>365138</th>\n",
              "      <td>279176</td>\n",
              "      <td>21264</td>\n",
              "      <td>1</td>\n",
              "      <td>0</td>\n",
              "      <td>0</td>\n",
              "      <td>Soon</td>\n",
              "      <td>Morris Gleitzman</td>\n",
              "      <td>Penguin Random House Children's UK</td>\n",
              "      <td>YFN</td>\n",
              "      <td>[5AL]</td>\n",
              "      <td>1</td>\n",
              "      <td>1</td>\n",
              "      <td>1</td>\n",
              "      <td>0.000000</td>\n",
              "      <td>D</td>\n",
              "    </tr>\n",
              "    <tr>\n",
              "      <th>365139</th>\n",
              "      <td>279210</td>\n",
              "      <td>22297</td>\n",
              "      <td>1</td>\n",
              "      <td>0</td>\n",
              "      <td>0</td>\n",
              "      <td>Warum? Fragen u. Antworten f. Kleinkinder - In...</td>\n",
              "      <td>NaN</td>\n",
              "      <td>Yo Yo Books</td>\n",
              "      <td>YBC</td>\n",
              "      <td>[YBL]</td>\n",
              "      <td>1</td>\n",
              "      <td>1</td>\n",
              "      <td>1</td>\n",
              "      <td>0.000000</td>\n",
              "      <td>D</td>\n",
              "    </tr>\n",
              "    <tr>\n",
              "      <th>365140</th>\n",
              "      <td>279248</td>\n",
              "      <td>56041</td>\n",
              "      <td>1</td>\n",
              "      <td>0</td>\n",
              "      <td>0</td>\n",
              "      <td>Tesla</td>\n",
              "      <td>Mark Lingane</td>\n",
              "      <td>Insync Holdings Pty Ltd</td>\n",
              "      <td>FLM</td>\n",
              "      <td>[]</td>\n",
              "      <td>1</td>\n",
              "      <td>1</td>\n",
              "      <td>1</td>\n",
              "      <td>0.000000</td>\n",
              "      <td>D</td>\n",
              "    </tr>\n",
              "    <tr>\n",
              "      <th>365141</th>\n",
              "      <td>279343</td>\n",
              "      <td>67832</td>\n",
              "      <td>2</td>\n",
              "      <td>0</td>\n",
              "      <td>0</td>\n",
              "      <td>Hexenherz. Glühender Hass</td>\n",
              "      <td>Monika Loerchner</td>\n",
              "      <td>Acabus Verlag</td>\n",
              "      <td>FMH</td>\n",
              "      <td>[1D,FMH,FMR]</td>\n",
              "      <td>2</td>\n",
              "      <td>1</td>\n",
              "      <td>2</td>\n",
              "      <td>0.000000</td>\n",
              "      <td>D</td>\n",
              "    </tr>\n",
              "    <tr>\n",
              "      <th>365142</th>\n",
              "      <td>279350</td>\n",
              "      <td>73084</td>\n",
              "      <td>1</td>\n",
              "      <td>0</td>\n",
              "      <td>0</td>\n",
              "      <td>Everybody Sees the Ants</td>\n",
              "      <td>A. S. King</td>\n",
              "      <td>LITTLE BROWN &amp; CO</td>\n",
              "      <td>YXQF</td>\n",
              "      <td>[YF,YXD,YXE]</td>\n",
              "      <td>1</td>\n",
              "      <td>1</td>\n",
              "      <td>1</td>\n",
              "      <td>0.000000</td>\n",
              "      <td>D</td>\n",
              "    </tr>\n",
              "  </tbody>\n",
              "</table>\n",
              "<p>24909 rows × 15 columns</p>\n",
              "</div>"
            ],
            "text/plain": [
              "        sessionID  itemID  click  ...  Total_Interest  log_frequency Grade\n",
              "0               0   21310      1  ...               3       1.098612     C\n",
              "3               1   73018      1  ...              59       4.077537     A\n",
              "62              2   19194      1  ...             186       5.225747     A\n",
              "248             3   40250      1  ...             339       5.826000     A\n",
              "587             4   46107      1  ...              25       3.218876     A\n",
              "...           ...     ...    ...  ...             ...            ...   ...\n",
              "365138     279176   21264      1  ...               1       0.000000     D\n",
              "365139     279210   22297      1  ...               1       0.000000     D\n",
              "365140     279248   56041      1  ...               1       0.000000     D\n",
              "365141     279343   67832      2  ...               2       0.000000     D\n",
              "365142     279350   73084      1  ...               1       0.000000     D\n",
              "\n",
              "[24909 rows x 15 columns]"
            ]
          },
          "metadata": {
            "tags": []
          },
          "execution_count": 21
        }
      ]
    },
    {
      "cell_type": "code",
      "metadata": {
        "id": "d907e04c-6beb-473f-9b01-e1c50ba07386"
      },
      "source": [
        "book_rating = book_rating.drop(['sessionID', 'click','Total_Interest','Interest','author','publisher','Frequency'], axis=1)"
      ],
      "id": "d907e04c-6beb-473f-9b01-e1c50ba07386",
      "execution_count": 22,
      "outputs": []
    },
    {
      "cell_type": "code",
      "metadata": {
        "id": "fd3fdf64-8af7-465d-a77c-d26dd41bbdc2"
      },
      "source": [
        "book_rating.drop_duplicates(subset =\"title\", keep='first' ,inplace=True)"
      ],
      "id": "fd3fdf64-8af7-465d-a77c-d26dd41bbdc2",
      "execution_count": 23,
      "outputs": []
    },
    {
      "cell_type": "code",
      "metadata": {
        "id": "50f1501c-7aef-4931-8c7d-950f072cdd20"
      },
      "source": [
        "book_rating = book_rating.reset_index()"
      ],
      "id": "50f1501c-7aef-4931-8c7d-950f072cdd20",
      "execution_count": 24,
      "outputs": []
    },
    {
      "cell_type": "code",
      "metadata": {
        "colab": {
          "base_uri": "https://localhost:8080/",
          "height": 417
        },
        "id": "f84deb9c-0b55-4d46-8f14-cdcf3cbc9dca",
        "outputId": "c2f712e9-344d-487b-e47f-63bf4135cbe9"
      },
      "source": [
        "book_rating"
      ],
      "id": "f84deb9c-0b55-4d46-8f14-cdcf3cbc9dca",
      "execution_count": 25,
      "outputs": [
        {
          "output_type": "execute_result",
          "data": {
            "text/html": [
              "<div>\n",
              "<style scoped>\n",
              "    .dataframe tbody tr th:only-of-type {\n",
              "        vertical-align: middle;\n",
              "    }\n",
              "\n",
              "    .dataframe tbody tr th {\n",
              "        vertical-align: top;\n",
              "    }\n",
              "\n",
              "    .dataframe thead th {\n",
              "        text-align: right;\n",
              "    }\n",
              "</style>\n",
              "<table border=\"1\" class=\"dataframe\">\n",
              "  <thead>\n",
              "    <tr style=\"text-align: right;\">\n",
              "      <th></th>\n",
              "      <th>index</th>\n",
              "      <th>itemID</th>\n",
              "      <th>basket</th>\n",
              "      <th>order</th>\n",
              "      <th>title</th>\n",
              "      <th>main topic</th>\n",
              "      <th>subtopics</th>\n",
              "      <th>log_frequency</th>\n",
              "      <th>Grade</th>\n",
              "    </tr>\n",
              "  </thead>\n",
              "  <tbody>\n",
              "    <tr>\n",
              "      <th>0</th>\n",
              "      <td>0</td>\n",
              "      <td>21310</td>\n",
              "      <td>0</td>\n",
              "      <td>0</td>\n",
              "      <td>Princess Poppy: The Big Mix Up</td>\n",
              "      <td>YFB</td>\n",
              "      <td>[5AH]</td>\n",
              "      <td>1.098612</td>\n",
              "      <td>C</td>\n",
              "    </tr>\n",
              "    <tr>\n",
              "      <th>1</th>\n",
              "      <td>3</td>\n",
              "      <td>73018</td>\n",
              "      <td>0</td>\n",
              "      <td>0</td>\n",
              "      <td>Einfach zeichnen! Step by Step</td>\n",
              "      <td>AGZ</td>\n",
              "      <td>[5AJ,AGZ,WFA,YBG,YBL,YNA,YPA]</td>\n",
              "      <td>4.077537</td>\n",
              "      <td>A</td>\n",
              "    </tr>\n",
              "    <tr>\n",
              "      <th>2</th>\n",
              "      <td>62</td>\n",
              "      <td>19194</td>\n",
              "      <td>0</td>\n",
              "      <td>0</td>\n",
              "      <td>Red Queen 1</td>\n",
              "      <td>YFH</td>\n",
              "      <td>[5AP,FBA]</td>\n",
              "      <td>5.225747</td>\n",
              "      <td>A</td>\n",
              "    </tr>\n",
              "    <tr>\n",
              "      <th>3</th>\n",
              "      <td>248</td>\n",
              "      <td>40250</td>\n",
              "      <td>0</td>\n",
              "      <td>0</td>\n",
              "      <td>Meine Kindergarten-Freunde (Pirat)</td>\n",
              "      <td>YB</td>\n",
              "      <td>[5AC,5AD,YBG,YBL,YF]</td>\n",
              "      <td>5.826000</td>\n",
              "      <td>A</td>\n",
              "    </tr>\n",
              "    <tr>\n",
              "      <th>4</th>\n",
              "      <td>587</td>\n",
              "      <td>46107</td>\n",
              "      <td>0</td>\n",
              "      <td>0</td>\n",
              "      <td>Mein großes Schablonen-Buch - Wilde Tiere</td>\n",
              "      <td>WFTM</td>\n",
              "      <td>[WD,WFTM,YBG,YBL,YBLD,YBLN1]</td>\n",
              "      <td>3.218876</td>\n",
              "      <td>A</td>\n",
              "    </tr>\n",
              "    <tr>\n",
              "      <th>...</th>\n",
              "      <td>...</td>\n",
              "      <td>...</td>\n",
              "      <td>...</td>\n",
              "      <td>...</td>\n",
              "      <td>...</td>\n",
              "      <td>...</td>\n",
              "      <td>...</td>\n",
              "      <td>...</td>\n",
              "      <td>...</td>\n",
              "    </tr>\n",
              "    <tr>\n",
              "      <th>23529</th>\n",
              "      <td>365138</td>\n",
              "      <td>21264</td>\n",
              "      <td>0</td>\n",
              "      <td>0</td>\n",
              "      <td>Soon</td>\n",
              "      <td>YFN</td>\n",
              "      <td>[5AL]</td>\n",
              "      <td>0.000000</td>\n",
              "      <td>D</td>\n",
              "    </tr>\n",
              "    <tr>\n",
              "      <th>23530</th>\n",
              "      <td>365139</td>\n",
              "      <td>22297</td>\n",
              "      <td>0</td>\n",
              "      <td>0</td>\n",
              "      <td>Warum? Fragen u. Antworten f. Kleinkinder - In...</td>\n",
              "      <td>YBC</td>\n",
              "      <td>[YBL]</td>\n",
              "      <td>0.000000</td>\n",
              "      <td>D</td>\n",
              "    </tr>\n",
              "    <tr>\n",
              "      <th>23531</th>\n",
              "      <td>365140</td>\n",
              "      <td>56041</td>\n",
              "      <td>0</td>\n",
              "      <td>0</td>\n",
              "      <td>Tesla</td>\n",
              "      <td>FLM</td>\n",
              "      <td>[]</td>\n",
              "      <td>0.000000</td>\n",
              "      <td>D</td>\n",
              "    </tr>\n",
              "    <tr>\n",
              "      <th>23532</th>\n",
              "      <td>365141</td>\n",
              "      <td>67832</td>\n",
              "      <td>0</td>\n",
              "      <td>0</td>\n",
              "      <td>Hexenherz. Glühender Hass</td>\n",
              "      <td>FMH</td>\n",
              "      <td>[1D,FMH,FMR]</td>\n",
              "      <td>0.000000</td>\n",
              "      <td>D</td>\n",
              "    </tr>\n",
              "    <tr>\n",
              "      <th>23533</th>\n",
              "      <td>365142</td>\n",
              "      <td>73084</td>\n",
              "      <td>0</td>\n",
              "      <td>0</td>\n",
              "      <td>Everybody Sees the Ants</td>\n",
              "      <td>YXQF</td>\n",
              "      <td>[YF,YXD,YXE]</td>\n",
              "      <td>0.000000</td>\n",
              "      <td>D</td>\n",
              "    </tr>\n",
              "  </tbody>\n",
              "</table>\n",
              "<p>23534 rows × 9 columns</p>\n",
              "</div>"
            ],
            "text/plain": [
              "        index  itemID  ...  log_frequency  Grade\n",
              "0           0   21310  ...       1.098612      C\n",
              "1           3   73018  ...       4.077537      A\n",
              "2          62   19194  ...       5.225747      A\n",
              "3         248   40250  ...       5.826000      A\n",
              "4         587   46107  ...       3.218876      A\n",
              "...       ...     ...  ...            ...    ...\n",
              "23529  365138   21264  ...       0.000000      D\n",
              "23530  365139   22297  ...       0.000000      D\n",
              "23531  365140   56041  ...       0.000000      D\n",
              "23532  365141   67832  ...       0.000000      D\n",
              "23533  365142   73084  ...       0.000000      D\n",
              "\n",
              "[23534 rows x 9 columns]"
            ]
          },
          "metadata": {
            "tags": []
          },
          "execution_count": 25
        }
      ]
    },
    {
      "cell_type": "code",
      "metadata": {
        "id": "5c574915-286c-4fe1-99f6-0e796246e1be"
      },
      "source": [
        "#creating combined target feature\n",
        "def parseFeature(book_rating):\n",
        "    data = str(book_rating[\"main topic\"]) + ','\n",
        "    data += str(book_rating[\"subtopics\"]) + ','\n",
        "    data += str(book_rating['Grade'])\n",
        "    x = data.replace('[','')\n",
        "    y = x.replace(']','')\n",
        "    return y\n",
        "    \n",
        "    "
      ],
      "id": "5c574915-286c-4fe1-99f6-0e796246e1be",
      "execution_count": 26,
      "outputs": []
    },
    {
      "cell_type": "code",
      "metadata": {
        "id": "450c86e1-69f7-4c84-a91b-e33daeb1cc4a"
      },
      "source": [
        "book_rating['parsedFeatureStr'] = book_rating.apply(parseFeature, axis = 1)\n"
      ],
      "id": "450c86e1-69f7-4c84-a91b-e33daeb1cc4a",
      "execution_count": 27,
      "outputs": []
    },
    {
      "cell_type": "code",
      "metadata": {
        "colab": {
          "base_uri": "https://localhost:8080/",
          "height": 696
        },
        "id": "0db48303-0d4d-4dae-8274-b33415bff19b",
        "outputId": "1dae66b0-3705-4d59-9cbb-70e0847fab29"
      },
      "source": [
        "#calculate relevance score\n",
        "\n",
        "def relevance(book_rating):\n",
        "    if (book_rating['order'] != 0):\n",
        "        return 2\n",
        "    elif (book_rating['order'] == 0 and  book_rating['basket'] != 0):\n",
        "        return 1\n",
        "    else:\n",
        "        return 0\n",
        "    \n",
        "\n",
        "book_rating['relevance_score'] = book_rating.apply(relevance, axis = 1)\n",
        "\n",
        "book_rating.head(10)"
      ],
      "id": "0db48303-0d4d-4dae-8274-b33415bff19b",
      "execution_count": 28,
      "outputs": [
        {
          "output_type": "execute_result",
          "data": {
            "text/html": [
              "<div>\n",
              "<style scoped>\n",
              "    .dataframe tbody tr th:only-of-type {\n",
              "        vertical-align: middle;\n",
              "    }\n",
              "\n",
              "    .dataframe tbody tr th {\n",
              "        vertical-align: top;\n",
              "    }\n",
              "\n",
              "    .dataframe thead th {\n",
              "        text-align: right;\n",
              "    }\n",
              "</style>\n",
              "<table border=\"1\" class=\"dataframe\">\n",
              "  <thead>\n",
              "    <tr style=\"text-align: right;\">\n",
              "      <th></th>\n",
              "      <th>index</th>\n",
              "      <th>itemID</th>\n",
              "      <th>basket</th>\n",
              "      <th>order</th>\n",
              "      <th>title</th>\n",
              "      <th>main topic</th>\n",
              "      <th>subtopics</th>\n",
              "      <th>log_frequency</th>\n",
              "      <th>Grade</th>\n",
              "      <th>parsedFeatureStr</th>\n",
              "      <th>relevance_score</th>\n",
              "    </tr>\n",
              "  </thead>\n",
              "  <tbody>\n",
              "    <tr>\n",
              "      <th>0</th>\n",
              "      <td>0</td>\n",
              "      <td>21310</td>\n",
              "      <td>0</td>\n",
              "      <td>0</td>\n",
              "      <td>Princess Poppy: The Big Mix Up</td>\n",
              "      <td>YFB</td>\n",
              "      <td>[5AH]</td>\n",
              "      <td>1.098612</td>\n",
              "      <td>C</td>\n",
              "      <td>YFB,5AH,C</td>\n",
              "      <td>0</td>\n",
              "    </tr>\n",
              "    <tr>\n",
              "      <th>1</th>\n",
              "      <td>3</td>\n",
              "      <td>73018</td>\n",
              "      <td>0</td>\n",
              "      <td>0</td>\n",
              "      <td>Einfach zeichnen! Step by Step</td>\n",
              "      <td>AGZ</td>\n",
              "      <td>[5AJ,AGZ,WFA,YBG,YBL,YNA,YPA]</td>\n",
              "      <td>4.077537</td>\n",
              "      <td>A</td>\n",
              "      <td>AGZ,5AJ,AGZ,WFA,YBG,YBL,YNA,YPA,A</td>\n",
              "      <td>0</td>\n",
              "    </tr>\n",
              "    <tr>\n",
              "      <th>2</th>\n",
              "      <td>62</td>\n",
              "      <td>19194</td>\n",
              "      <td>0</td>\n",
              "      <td>0</td>\n",
              "      <td>Red Queen 1</td>\n",
              "      <td>YFH</td>\n",
              "      <td>[5AP,FBA]</td>\n",
              "      <td>5.225747</td>\n",
              "      <td>A</td>\n",
              "      <td>YFH,5AP,FBA,A</td>\n",
              "      <td>0</td>\n",
              "    </tr>\n",
              "    <tr>\n",
              "      <th>3</th>\n",
              "      <td>248</td>\n",
              "      <td>40250</td>\n",
              "      <td>0</td>\n",
              "      <td>0</td>\n",
              "      <td>Meine Kindergarten-Freunde (Pirat)</td>\n",
              "      <td>YB</td>\n",
              "      <td>[5AC,5AD,YBG,YBL,YF]</td>\n",
              "      <td>5.826000</td>\n",
              "      <td>A</td>\n",
              "      <td>YB,5AC,5AD,YBG,YBL,YF,A</td>\n",
              "      <td>0</td>\n",
              "    </tr>\n",
              "    <tr>\n",
              "      <th>4</th>\n",
              "      <td>587</td>\n",
              "      <td>46107</td>\n",
              "      <td>0</td>\n",
              "      <td>0</td>\n",
              "      <td>Mein großes Schablonen-Buch - Wilde Tiere</td>\n",
              "      <td>WFTM</td>\n",
              "      <td>[WD,WFTM,YBG,YBL,YBLD,YBLN1]</td>\n",
              "      <td>3.218876</td>\n",
              "      <td>A</td>\n",
              "      <td>WFTM,WD,WFTM,YBG,YBL,YBLD,YBLN1,A</td>\n",
              "      <td>0</td>\n",
              "    </tr>\n",
              "    <tr>\n",
              "      <th>5</th>\n",
              "      <td>612</td>\n",
              "      <td>34217</td>\n",
              "      <td>0</td>\n",
              "      <td>0</td>\n",
              "      <td>Ewig geliebt</td>\n",
              "      <td>FMR</td>\n",
              "      <td>[1KBB-US-NAK,FMX,FRX,3MRBF]</td>\n",
              "      <td>4.532599</td>\n",
              "      <td>A</td>\n",
              "      <td>FMR,1KBB-US-NAK,FMX,FRX,3MRBF,A</td>\n",
              "      <td>0</td>\n",
              "    </tr>\n",
              "    <tr>\n",
              "      <th>6</th>\n",
              "      <td>705</td>\n",
              "      <td>31436</td>\n",
              "      <td>0</td>\n",
              "      <td>0</td>\n",
              "      <td>Meine Sticker-Tiere</td>\n",
              "      <td>YBG</td>\n",
              "      <td>[5AD,YBG,YBLL]</td>\n",
              "      <td>3.332205</td>\n",
              "      <td>A</td>\n",
              "      <td>YBG,5AD,YBG,YBLL,A</td>\n",
              "      <td>0</td>\n",
              "    </tr>\n",
              "    <tr>\n",
              "      <th>7</th>\n",
              "      <td>733</td>\n",
              "      <td>14576</td>\n",
              "      <td>1</td>\n",
              "      <td>0</td>\n",
              "      <td>Unsterblich 01 - Tor der Dämmerung</td>\n",
              "      <td>YFE</td>\n",
              "      <td>[5AQ,FM,YFE,YFH]</td>\n",
              "      <td>3.433987</td>\n",
              "      <td>A</td>\n",
              "      <td>YFE,5AQ,FM,YFE,YFH,A</td>\n",
              "      <td>1</td>\n",
              "    </tr>\n",
              "    <tr>\n",
              "      <th>8</th>\n",
              "      <td>764</td>\n",
              "      <td>17731</td>\n",
              "      <td>1</td>\n",
              "      <td>0</td>\n",
              "      <td>Unsterblich 02 - Tor der Nacht</td>\n",
              "      <td>YFH</td>\n",
              "      <td>[5AQ,FM,YFE,YFH]</td>\n",
              "      <td>2.890372</td>\n",
              "      <td>A</td>\n",
              "      <td>YFH,5AQ,FM,YFE,YFH,A</td>\n",
              "      <td>1</td>\n",
              "    </tr>\n",
              "    <tr>\n",
              "      <th>9</th>\n",
              "      <td>782</td>\n",
              "      <td>58723</td>\n",
              "      <td>0</td>\n",
              "      <td>0</td>\n",
              "      <td>Pedro und die Bettler von Cartagena</td>\n",
              "      <td>YFB</td>\n",
              "      <td>[5AM,1KLSC]</td>\n",
              "      <td>2.484907</td>\n",
              "      <td>B</td>\n",
              "      <td>YFB,5AM,1KLSC,B</td>\n",
              "      <td>0</td>\n",
              "    </tr>\n",
              "  </tbody>\n",
              "</table>\n",
              "</div>"
            ],
            "text/plain": [
              "   index  itemID  ...                   parsedFeatureStr  relevance_score\n",
              "0      0   21310  ...                          YFB,5AH,C                0\n",
              "1      3   73018  ...  AGZ,5AJ,AGZ,WFA,YBG,YBL,YNA,YPA,A                0\n",
              "2     62   19194  ...                      YFH,5AP,FBA,A                0\n",
              "3    248   40250  ...            YB,5AC,5AD,YBG,YBL,YF,A                0\n",
              "4    587   46107  ...  WFTM,WD,WFTM,YBG,YBL,YBLD,YBLN1,A                0\n",
              "5    612   34217  ...    FMR,1KBB-US-NAK,FMX,FRX,3MRBF,A                0\n",
              "6    705   31436  ...                 YBG,5AD,YBG,YBLL,A                0\n",
              "7    733   14576  ...               YFE,5AQ,FM,YFE,YFH,A                1\n",
              "8    764   17731  ...               YFH,5AQ,FM,YFE,YFH,A                1\n",
              "9    782   58723  ...                    YFB,5AM,1KLSC,B                0\n",
              "\n",
              "[10 rows x 11 columns]"
            ]
          },
          "metadata": {
            "tags": []
          },
          "execution_count": 28
        }
      ]
    },
    {
      "cell_type": "code",
      "metadata": {
        "colab": {
          "base_uri": "https://localhost:8080/",
          "height": 1000
        },
        "id": "e4221b50-20f3-4d3e-9e23-5c1f8cd0a389",
        "outputId": "bf8db537-675f-4edf-ce63-1d9ba17bd524"
      },
      "source": [
        "book_rating.head(40)"
      ],
      "id": "e4221b50-20f3-4d3e-9e23-5c1f8cd0a389",
      "execution_count": 29,
      "outputs": [
        {
          "output_type": "execute_result",
          "data": {
            "text/html": [
              "<div>\n",
              "<style scoped>\n",
              "    .dataframe tbody tr th:only-of-type {\n",
              "        vertical-align: middle;\n",
              "    }\n",
              "\n",
              "    .dataframe tbody tr th {\n",
              "        vertical-align: top;\n",
              "    }\n",
              "\n",
              "    .dataframe thead th {\n",
              "        text-align: right;\n",
              "    }\n",
              "</style>\n",
              "<table border=\"1\" class=\"dataframe\">\n",
              "  <thead>\n",
              "    <tr style=\"text-align: right;\">\n",
              "      <th></th>\n",
              "      <th>index</th>\n",
              "      <th>itemID</th>\n",
              "      <th>basket</th>\n",
              "      <th>order</th>\n",
              "      <th>title</th>\n",
              "      <th>main topic</th>\n",
              "      <th>subtopics</th>\n",
              "      <th>log_frequency</th>\n",
              "      <th>Grade</th>\n",
              "      <th>parsedFeatureStr</th>\n",
              "      <th>relevance_score</th>\n",
              "    </tr>\n",
              "  </thead>\n",
              "  <tbody>\n",
              "    <tr>\n",
              "      <th>0</th>\n",
              "      <td>0</td>\n",
              "      <td>21310</td>\n",
              "      <td>0</td>\n",
              "      <td>0</td>\n",
              "      <td>Princess Poppy: The Big Mix Up</td>\n",
              "      <td>YFB</td>\n",
              "      <td>[5AH]</td>\n",
              "      <td>1.098612</td>\n",
              "      <td>C</td>\n",
              "      <td>YFB,5AH,C</td>\n",
              "      <td>0</td>\n",
              "    </tr>\n",
              "    <tr>\n",
              "      <th>1</th>\n",
              "      <td>3</td>\n",
              "      <td>73018</td>\n",
              "      <td>0</td>\n",
              "      <td>0</td>\n",
              "      <td>Einfach zeichnen! Step by Step</td>\n",
              "      <td>AGZ</td>\n",
              "      <td>[5AJ,AGZ,WFA,YBG,YBL,YNA,YPA]</td>\n",
              "      <td>4.077537</td>\n",
              "      <td>A</td>\n",
              "      <td>AGZ,5AJ,AGZ,WFA,YBG,YBL,YNA,YPA,A</td>\n",
              "      <td>0</td>\n",
              "    </tr>\n",
              "    <tr>\n",
              "      <th>2</th>\n",
              "      <td>62</td>\n",
              "      <td>19194</td>\n",
              "      <td>0</td>\n",
              "      <td>0</td>\n",
              "      <td>Red Queen 1</td>\n",
              "      <td>YFH</td>\n",
              "      <td>[5AP,FBA]</td>\n",
              "      <td>5.225747</td>\n",
              "      <td>A</td>\n",
              "      <td>YFH,5AP,FBA,A</td>\n",
              "      <td>0</td>\n",
              "    </tr>\n",
              "    <tr>\n",
              "      <th>3</th>\n",
              "      <td>248</td>\n",
              "      <td>40250</td>\n",
              "      <td>0</td>\n",
              "      <td>0</td>\n",
              "      <td>Meine Kindergarten-Freunde (Pirat)</td>\n",
              "      <td>YB</td>\n",
              "      <td>[5AC,5AD,YBG,YBL,YF]</td>\n",
              "      <td>5.826000</td>\n",
              "      <td>A</td>\n",
              "      <td>YB,5AC,5AD,YBG,YBL,YF,A</td>\n",
              "      <td>0</td>\n",
              "    </tr>\n",
              "    <tr>\n",
              "      <th>4</th>\n",
              "      <td>587</td>\n",
              "      <td>46107</td>\n",
              "      <td>0</td>\n",
              "      <td>0</td>\n",
              "      <td>Mein großes Schablonen-Buch - Wilde Tiere</td>\n",
              "      <td>WFTM</td>\n",
              "      <td>[WD,WFTM,YBG,YBL,YBLD,YBLN1]</td>\n",
              "      <td>3.218876</td>\n",
              "      <td>A</td>\n",
              "      <td>WFTM,WD,WFTM,YBG,YBL,YBLD,YBLN1,A</td>\n",
              "      <td>0</td>\n",
              "    </tr>\n",
              "    <tr>\n",
              "      <th>5</th>\n",
              "      <td>612</td>\n",
              "      <td>34217</td>\n",
              "      <td>0</td>\n",
              "      <td>0</td>\n",
              "      <td>Ewig geliebt</td>\n",
              "      <td>FMR</td>\n",
              "      <td>[1KBB-US-NAK,FMX,FRX,3MRBF]</td>\n",
              "      <td>4.532599</td>\n",
              "      <td>A</td>\n",
              "      <td>FMR,1KBB-US-NAK,FMX,FRX,3MRBF,A</td>\n",
              "      <td>0</td>\n",
              "    </tr>\n",
              "    <tr>\n",
              "      <th>6</th>\n",
              "      <td>705</td>\n",
              "      <td>31436</td>\n",
              "      <td>0</td>\n",
              "      <td>0</td>\n",
              "      <td>Meine Sticker-Tiere</td>\n",
              "      <td>YBG</td>\n",
              "      <td>[5AD,YBG,YBLL]</td>\n",
              "      <td>3.332205</td>\n",
              "      <td>A</td>\n",
              "      <td>YBG,5AD,YBG,YBLL,A</td>\n",
              "      <td>0</td>\n",
              "    </tr>\n",
              "    <tr>\n",
              "      <th>7</th>\n",
              "      <td>733</td>\n",
              "      <td>14576</td>\n",
              "      <td>1</td>\n",
              "      <td>0</td>\n",
              "      <td>Unsterblich 01 - Tor der Dämmerung</td>\n",
              "      <td>YFE</td>\n",
              "      <td>[5AQ,FM,YFE,YFH]</td>\n",
              "      <td>3.433987</td>\n",
              "      <td>A</td>\n",
              "      <td>YFE,5AQ,FM,YFE,YFH,A</td>\n",
              "      <td>1</td>\n",
              "    </tr>\n",
              "    <tr>\n",
              "      <th>8</th>\n",
              "      <td>764</td>\n",
              "      <td>17731</td>\n",
              "      <td>1</td>\n",
              "      <td>0</td>\n",
              "      <td>Unsterblich 02 - Tor der Nacht</td>\n",
              "      <td>YFH</td>\n",
              "      <td>[5AQ,FM,YFE,YFH]</td>\n",
              "      <td>2.890372</td>\n",
              "      <td>A</td>\n",
              "      <td>YFH,5AQ,FM,YFE,YFH,A</td>\n",
              "      <td>1</td>\n",
              "    </tr>\n",
              "    <tr>\n",
              "      <th>9</th>\n",
              "      <td>782</td>\n",
              "      <td>58723</td>\n",
              "      <td>0</td>\n",
              "      <td>0</td>\n",
              "      <td>Pedro und die Bettler von Cartagena</td>\n",
              "      <td>YFB</td>\n",
              "      <td>[5AM,1KLSC]</td>\n",
              "      <td>2.484907</td>\n",
              "      <td>B</td>\n",
              "      <td>YFB,5AM,1KLSC,B</td>\n",
              "      <td>0</td>\n",
              "    </tr>\n",
              "    <tr>\n",
              "      <th>10</th>\n",
              "      <td>794</td>\n",
              "      <td>73124</td>\n",
              "      <td>0</td>\n",
              "      <td>0</td>\n",
              "      <td>Freundebuch - Einhorn-Paradies - Meine Freunde</td>\n",
              "      <td>YZG</td>\n",
              "      <td>[5JA,YBG,YBL,YFH,YZS]</td>\n",
              "      <td>4.955827</td>\n",
              "      <td>A</td>\n",
              "      <td>YZG,5JA,YBG,YBL,YFH,YZS,A</td>\n",
              "      <td>0</td>\n",
              "    </tr>\n",
              "    <tr>\n",
              "      <th>11</th>\n",
              "      <td>936</td>\n",
              "      <td>33976</td>\n",
              "      <td>0</td>\n",
              "      <td>0</td>\n",
              "      <td>Die Haushörerin</td>\n",
              "      <td>FMR</td>\n",
              "      <td>[1DFG-DE-VH,FMR,FMX,FRD]</td>\n",
              "      <td>2.079442</td>\n",
              "      <td>B</td>\n",
              "      <td>FMR,1DFG-DE-VH,FMR,FMX,FRD,B</td>\n",
              "      <td>0</td>\n",
              "    </tr>\n",
              "    <tr>\n",
              "      <th>12</th>\n",
              "      <td>944</td>\n",
              "      <td>2408</td>\n",
              "      <td>0</td>\n",
              "      <td>0</td>\n",
              "      <td>Reiter der schwarzen Sonne</td>\n",
              "      <td>FMB</td>\n",
              "      <td>[5AN,WDHW]</td>\n",
              "      <td>2.397895</td>\n",
              "      <td>B</td>\n",
              "      <td>FMB,5AN,WDHW,B</td>\n",
              "      <td>0</td>\n",
              "    </tr>\n",
              "    <tr>\n",
              "      <th>13</th>\n",
              "      <td>955</td>\n",
              "      <td>30277</td>\n",
              "      <td>0</td>\n",
              "      <td>0</td>\n",
              "      <td>WAS IST WAS Quiz Autos</td>\n",
              "      <td>YNV</td>\n",
              "      <td>[5AJ,YBL]</td>\n",
              "      <td>1.791759</td>\n",
              "      <td>B</td>\n",
              "      <td>YNV,5AJ,YBL,B</td>\n",
              "      <td>0</td>\n",
              "    </tr>\n",
              "    <tr>\n",
              "      <th>14</th>\n",
              "      <td>961</td>\n",
              "      <td>29508</td>\n",
              "      <td>1</td>\n",
              "      <td>0</td>\n",
              "      <td>WAS IST WAS Quiz Länder der Welt</td>\n",
              "      <td>YNV</td>\n",
              "      <td>[5AJ,YBL]</td>\n",
              "      <td>2.079442</td>\n",
              "      <td>B</td>\n",
              "      <td>YNV,5AJ,YBL,B</td>\n",
              "      <td>1</td>\n",
              "    </tr>\n",
              "    <tr>\n",
              "      <th>15</th>\n",
              "      <td>969</td>\n",
              "      <td>75659</td>\n",
              "      <td>0</td>\n",
              "      <td>0</td>\n",
              "      <td>WAS IST WAS Quiz Fußball</td>\n",
              "      <td>YNWD1</td>\n",
              "      <td>[5AJ,2ACG,SFBC,WDKX,YBL,YNVP,YZG]</td>\n",
              "      <td>1.386294</td>\n",
              "      <td>C</td>\n",
              "      <td>YNWD1,5AJ,2ACG,SFBC,WDKX,YBL,YNVP,YZG,C</td>\n",
              "      <td>0</td>\n",
              "    </tr>\n",
              "    <tr>\n",
              "      <th>16</th>\n",
              "      <td>973</td>\n",
              "      <td>55699</td>\n",
              "      <td>0</td>\n",
              "      <td>0</td>\n",
              "      <td>Spring in eine Pfütze! Mein perfekter Frühling...</td>\n",
              "      <td>YNVP</td>\n",
              "      <td>[YBG,YBL,YNVP,YZS]</td>\n",
              "      <td>6.728629</td>\n",
              "      <td>A</td>\n",
              "      <td>YNVP,YBG,YBL,YNVP,YZS,A</td>\n",
              "      <td>0</td>\n",
              "    </tr>\n",
              "    <tr>\n",
              "      <th>17</th>\n",
              "      <td>1809</td>\n",
              "      <td>62433</td>\n",
              "      <td>0</td>\n",
              "      <td>0</td>\n",
              "      <td>Und dann kamst du</td>\n",
              "      <td>YXHL</td>\n",
              "      <td>[5AQ,5JA,DND,YFM,YXHL]</td>\n",
              "      <td>1.791759</td>\n",
              "      <td>B</td>\n",
              "      <td>YXHL,5AQ,5JA,DND,YFM,YXHL,B</td>\n",
              "      <td>0</td>\n",
              "    </tr>\n",
              "    <tr>\n",
              "      <th>18</th>\n",
              "      <td>1815</td>\n",
              "      <td>72603</td>\n",
              "      <td>0</td>\n",
              "      <td>0</td>\n",
              "      <td>Ich hab einen Freund, der ist Astronaut</td>\n",
              "      <td>YBCS</td>\n",
              "      <td>[5AC,4CA,YBL,YF,YNK,YNMH,YNNZ,YNTR]</td>\n",
              "      <td>2.833213</td>\n",
              "      <td>A</td>\n",
              "      <td>YBCS,5AC,4CA,YBL,YF,YNK,YNMH,YNNZ,YNTR,A</td>\n",
              "      <td>0</td>\n",
              "    </tr>\n",
              "    <tr>\n",
              "      <th>19</th>\n",
              "      <td>1832</td>\n",
              "      <td>11989</td>\n",
              "      <td>0</td>\n",
              "      <td>0</td>\n",
              "      <td>Vampire Academy 06</td>\n",
              "      <td>FMR</td>\n",
              "      <td>[5AQ,FMB,FMR,FMX,FRT]</td>\n",
              "      <td>1.945910</td>\n",
              "      <td>B</td>\n",
              "      <td>FMR,5AQ,FMB,FMR,FMX,FRT,B</td>\n",
              "      <td>0</td>\n",
              "    </tr>\n",
              "    <tr>\n",
              "      <th>20</th>\n",
              "      <td>1839</td>\n",
              "      <td>11117</td>\n",
              "      <td>0</td>\n",
              "      <td>0</td>\n",
              "      <td>Vampire Academy - Schattenträume</td>\n",
              "      <td>FMR</td>\n",
              "      <td>[5AQ,FMR,FMX,FRD,FRT]</td>\n",
              "      <td>2.397895</td>\n",
              "      <td>B</td>\n",
              "      <td>FMR,5AQ,FMR,FMX,FRD,FRT,B</td>\n",
              "      <td>0</td>\n",
              "    </tr>\n",
              "    <tr>\n",
              "      <th>21</th>\n",
              "      <td>1850</td>\n",
              "      <td>73865</td>\n",
              "      <td>0</td>\n",
              "      <td>1</td>\n",
              "      <td>Wir spielen Kasperltheater</td>\n",
              "      <td>ATDH</td>\n",
              "      <td>[5AC,WDM,YBL,YND]</td>\n",
              "      <td>0.693147</td>\n",
              "      <td>D</td>\n",
              "      <td>ATDH,5AC,WDM,YBL,YND,D</td>\n",
              "      <td>2</td>\n",
              "    </tr>\n",
              "    <tr>\n",
              "      <th>22</th>\n",
              "      <td>1852</td>\n",
              "      <td>15581</td>\n",
              "      <td>1</td>\n",
              "      <td>0</td>\n",
              "      <td>Der Herr der Ringe</td>\n",
              "      <td>FMB</td>\n",
              "      <td>[FYT,YFH]</td>\n",
              "      <td>6.018593</td>\n",
              "      <td>A</td>\n",
              "      <td>FMB,FYT,YFH,A</td>\n",
              "      <td>1</td>\n",
              "    </tr>\n",
              "    <tr>\n",
              "      <th>23</th>\n",
              "      <td>2263</td>\n",
              "      <td>4892</td>\n",
              "      <td>0</td>\n",
              "      <td>0</td>\n",
              "      <td>Harry Potter 4 and the Goblet of Fire</td>\n",
              "      <td>YFH</td>\n",
              "      <td>[5AK]</td>\n",
              "      <td>5.283204</td>\n",
              "      <td>A</td>\n",
              "      <td>YFH,5AK,A</td>\n",
              "      <td>0</td>\n",
              "    </tr>\n",
              "    <tr>\n",
              "      <th>24</th>\n",
              "      <td>2460</td>\n",
              "      <td>44815</td>\n",
              "      <td>0</td>\n",
              "      <td>0</td>\n",
              "      <td>Covet</td>\n",
              "      <td>YFHR</td>\n",
              "      <td>[]</td>\n",
              "      <td>4.317488</td>\n",
              "      <td>A</td>\n",
              "      <td>YFHR,,A</td>\n",
              "      <td>0</td>\n",
              "    </tr>\n",
              "    <tr>\n",
              "      <th>25</th>\n",
              "      <td>2535</td>\n",
              "      <td>63847</td>\n",
              "      <td>0</td>\n",
              "      <td>0</td>\n",
              "      <td>A Vow So Bold and Deadly</td>\n",
              "      <td>YFHR</td>\n",
              "      <td>[YFM]</td>\n",
              "      <td>4.709530</td>\n",
              "      <td>A</td>\n",
              "      <td>YFHR,YFM,A</td>\n",
              "      <td>0</td>\n",
              "    </tr>\n",
              "    <tr>\n",
              "      <th>26</th>\n",
              "      <td>2646</td>\n",
              "      <td>3106</td>\n",
              "      <td>0</td>\n",
              "      <td>0</td>\n",
              "      <td>Kiss Me Never (Crushed-Trust-Reihe 1)</td>\n",
              "      <td>FRD</td>\n",
              "      <td>[5AQ,5AX,5JA,5LKE,1KBB,FRM,YFM]</td>\n",
              "      <td>3.761200</td>\n",
              "      <td>A</td>\n",
              "      <td>FRD,5AQ,5AX,5JA,5LKE,1KBB,FRM,YFM,A</td>\n",
              "      <td>0</td>\n",
              "    </tr>\n",
              "    <tr>\n",
              "      <th>27</th>\n",
              "      <td>2689</td>\n",
              "      <td>4283</td>\n",
              "      <td>0</td>\n",
              "      <td>0</td>\n",
              "      <td>Hold Me Tonight (Crushed-Trust-Reihe 2)</td>\n",
              "      <td>FRD</td>\n",
              "      <td>[5AQ,5AX,5JA,5LKE,1KBB,FRM,YFM]</td>\n",
              "      <td>2.833213</td>\n",
              "      <td>A</td>\n",
              "      <td>FRD,5AQ,5AX,5JA,5LKE,1KBB,FRM,YFM,A</td>\n",
              "      <td>0</td>\n",
              "    </tr>\n",
              "    <tr>\n",
              "      <th>28</th>\n",
              "      <td>2706</td>\n",
              "      <td>63166</td>\n",
              "      <td>0</td>\n",
              "      <td>0</td>\n",
              "      <td>Fingerstempel-Spaß Kunterbunt</td>\n",
              "      <td>YBLD</td>\n",
              "      <td>[5AD,YBG,YBLD]</td>\n",
              "      <td>6.045005</td>\n",
              "      <td>A</td>\n",
              "      <td>YBLD,5AD,YBG,YBLD,A</td>\n",
              "      <td>0</td>\n",
              "    </tr>\n",
              "    <tr>\n",
              "      <th>29</th>\n",
              "      <td>3128</td>\n",
              "      <td>44220</td>\n",
              "      <td>0</td>\n",
              "      <td>0</td>\n",
              "      <td>Fingerstempel-Spaß Tiere</td>\n",
              "      <td>YBG</td>\n",
              "      <td>[5AD,YBG,YBLD,YBLL]</td>\n",
              "      <td>7.430707</td>\n",
              "      <td>A</td>\n",
              "      <td>YBG,5AD,YBG,YBLD,YBLL,A</td>\n",
              "      <td>0</td>\n",
              "    </tr>\n",
              "    <tr>\n",
              "      <th>30</th>\n",
              "      <td>4815</td>\n",
              "      <td>54393</td>\n",
              "      <td>0</td>\n",
              "      <td>0</td>\n",
              "      <td>Picklewitch &amp; Jack and the Cuckoo Cousin</td>\n",
              "      <td>YFH</td>\n",
              "      <td>[5AF,YFQ,YFS]</td>\n",
              "      <td>1.386294</td>\n",
              "      <td>C</td>\n",
              "      <td>YFH,5AF,YFQ,YFS,C</td>\n",
              "      <td>0</td>\n",
              "    </tr>\n",
              "    <tr>\n",
              "      <th>31</th>\n",
              "      <td>4819</td>\n",
              "      <td>64544</td>\n",
              "      <td>0</td>\n",
              "      <td>0</td>\n",
              "      <td>Spiele-Klassiker Gummitwist-Set</td>\n",
              "      <td>YBL</td>\n",
              "      <td>[]</td>\n",
              "      <td>5.598422</td>\n",
              "      <td>A</td>\n",
              "      <td>YBL,,A</td>\n",
              "      <td>0</td>\n",
              "    </tr>\n",
              "    <tr>\n",
              "      <th>32</th>\n",
              "      <td>5089</td>\n",
              "      <td>55796</td>\n",
              "      <td>0</td>\n",
              "      <td>0</td>\n",
              "      <td>Freundebuch - Handlettering - Meine Freunde</td>\n",
              "      <td>YBG</td>\n",
              "      <td>[5JA,WFU,YBG,YBL,YZS]</td>\n",
              "      <td>5.680173</td>\n",
              "      <td>A</td>\n",
              "      <td>YBG,5JA,WFU,YBG,YBL,YZS,A</td>\n",
              "      <td>0</td>\n",
              "    </tr>\n",
              "    <tr>\n",
              "      <th>33</th>\n",
              "      <td>5382</td>\n",
              "      <td>6942</td>\n",
              "      <td>0</td>\n",
              "      <td>0</td>\n",
              "      <td>Mein Wisch-und-weg-Buch: Großbuchstaben</td>\n",
              "      <td>YBG</td>\n",
              "      <td>[5AF,YBL]</td>\n",
              "      <td>4.770685</td>\n",
              "      <td>A</td>\n",
              "      <td>YBG,5AF,YBL,A</td>\n",
              "      <td>0</td>\n",
              "    </tr>\n",
              "    <tr>\n",
              "      <th>34</th>\n",
              "      <td>5500</td>\n",
              "      <td>23197</td>\n",
              "      <td>1</td>\n",
              "      <td>0</td>\n",
              "      <td>Nichts</td>\n",
              "      <td>YFS</td>\n",
              "      <td>[5AQ,1DND,YFB,YFS]</td>\n",
              "      <td>5.451038</td>\n",
              "      <td>A</td>\n",
              "      <td>YFS,5AQ,1DND,YFB,YFS,A</td>\n",
              "      <td>1</td>\n",
              "    </tr>\n",
              "    <tr>\n",
              "      <th>35</th>\n",
              "      <td>5733</td>\n",
              "      <td>2417</td>\n",
              "      <td>0</td>\n",
              "      <td>0</td>\n",
              "      <td>A Court of Thorns and Roses. Acotar Adult Edition</td>\n",
              "      <td>YFH</td>\n",
              "      <td>[FMR]</td>\n",
              "      <td>5.948035</td>\n",
              "      <td>A</td>\n",
              "      <td>YFH,FMR,A</td>\n",
              "      <td>0</td>\n",
              "    </tr>\n",
              "    <tr>\n",
              "      <th>36</th>\n",
              "      <td>6116</td>\n",
              "      <td>57800</td>\n",
              "      <td>1</td>\n",
              "      <td>0</td>\n",
              "      <td>Das Schwert der Vorsehung</td>\n",
              "      <td>ATFN</td>\n",
              "      <td>[ATFN,FJ,FM,FYB,FYT]</td>\n",
              "      <td>5.505332</td>\n",
              "      <td>A</td>\n",
              "      <td>ATFN,ATFN,FJ,FM,FYB,FYT,A</td>\n",
              "      <td>1</td>\n",
              "    </tr>\n",
              "    <tr>\n",
              "      <th>37</th>\n",
              "      <td>6362</td>\n",
              "      <td>11525</td>\n",
              "      <td>1</td>\n",
              "      <td>0</td>\n",
              "      <td>Zeit des Sturms</td>\n",
              "      <td>ATFN</td>\n",
              "      <td>[ATFN,FJ,FM,FMB,FYT,3KLN]</td>\n",
              "      <td>5.318120</td>\n",
              "      <td>A</td>\n",
              "      <td>ATFN,ATFN,FJ,FM,FMB,FYT,3KLN,A</td>\n",
              "      <td>1</td>\n",
              "    </tr>\n",
              "    <tr>\n",
              "      <th>38</th>\n",
              "      <td>6566</td>\n",
              "      <td>12143</td>\n",
              "      <td>0</td>\n",
              "      <td>0</td>\n",
              "      <td>The Testaments</td>\n",
              "      <td>FDB</td>\n",
              "      <td>[FB,FL]</td>\n",
              "      <td>4.709530</td>\n",
              "      <td>A</td>\n",
              "      <td>FDB,FB,FL,A</td>\n",
              "      <td>0</td>\n",
              "    </tr>\n",
              "    <tr>\n",
              "      <th>39</th>\n",
              "      <td>6677</td>\n",
              "      <td>42285</td>\n",
              "      <td>0</td>\n",
              "      <td>0</td>\n",
              "      <td>Die Dunkelmagierin</td>\n",
              "      <td>FMB</td>\n",
              "      <td>[]</td>\n",
              "      <td>2.079442</td>\n",
              "      <td>B</td>\n",
              "      <td>FMB,,B</td>\n",
              "      <td>0</td>\n",
              "    </tr>\n",
              "  </tbody>\n",
              "</table>\n",
              "</div>"
            ],
            "text/plain": [
              "    index  itemID  ...                          parsedFeatureStr  relevance_score\n",
              "0       0   21310  ...                                 YFB,5AH,C                0\n",
              "1       3   73018  ...         AGZ,5AJ,AGZ,WFA,YBG,YBL,YNA,YPA,A                0\n",
              "2      62   19194  ...                             YFH,5AP,FBA,A                0\n",
              "3     248   40250  ...                   YB,5AC,5AD,YBG,YBL,YF,A                0\n",
              "4     587   46107  ...         WFTM,WD,WFTM,YBG,YBL,YBLD,YBLN1,A                0\n",
              "5     612   34217  ...           FMR,1KBB-US-NAK,FMX,FRX,3MRBF,A                0\n",
              "6     705   31436  ...                        YBG,5AD,YBG,YBLL,A                0\n",
              "7     733   14576  ...                      YFE,5AQ,FM,YFE,YFH,A                1\n",
              "8     764   17731  ...                      YFH,5AQ,FM,YFE,YFH,A                1\n",
              "9     782   58723  ...                           YFB,5AM,1KLSC,B                0\n",
              "10    794   73124  ...                 YZG,5JA,YBG,YBL,YFH,YZS,A                0\n",
              "11    936   33976  ...              FMR,1DFG-DE-VH,FMR,FMX,FRD,B                0\n",
              "12    944    2408  ...                            FMB,5AN,WDHW,B                0\n",
              "13    955   30277  ...                             YNV,5AJ,YBL,B                0\n",
              "14    961   29508  ...                             YNV,5AJ,YBL,B                1\n",
              "15    969   75659  ...   YNWD1,5AJ,2ACG,SFBC,WDKX,YBL,YNVP,YZG,C                0\n",
              "16    973   55699  ...                   YNVP,YBG,YBL,YNVP,YZS,A                0\n",
              "17   1809   62433  ...               YXHL,5AQ,5JA,DND,YFM,YXHL,B                0\n",
              "18   1815   72603  ...  YBCS,5AC,4CA,YBL,YF,YNK,YNMH,YNNZ,YNTR,A                0\n",
              "19   1832   11989  ...                 FMR,5AQ,FMB,FMR,FMX,FRT,B                0\n",
              "20   1839   11117  ...                 FMR,5AQ,FMR,FMX,FRD,FRT,B                0\n",
              "21   1850   73865  ...                    ATDH,5AC,WDM,YBL,YND,D                2\n",
              "22   1852   15581  ...                             FMB,FYT,YFH,A                1\n",
              "23   2263    4892  ...                                 YFH,5AK,A                0\n",
              "24   2460   44815  ...                                   YFHR,,A                0\n",
              "25   2535   63847  ...                                YFHR,YFM,A                0\n",
              "26   2646    3106  ...       FRD,5AQ,5AX,5JA,5LKE,1KBB,FRM,YFM,A                0\n",
              "27   2689    4283  ...       FRD,5AQ,5AX,5JA,5LKE,1KBB,FRM,YFM,A                0\n",
              "28   2706   63166  ...                       YBLD,5AD,YBG,YBLD,A                0\n",
              "29   3128   44220  ...                   YBG,5AD,YBG,YBLD,YBLL,A                0\n",
              "30   4815   54393  ...                         YFH,5AF,YFQ,YFS,C                0\n",
              "31   4819   64544  ...                                    YBL,,A                0\n",
              "32   5089   55796  ...                 YBG,5JA,WFU,YBG,YBL,YZS,A                0\n",
              "33   5382    6942  ...                             YBG,5AF,YBL,A                0\n",
              "34   5500   23197  ...                    YFS,5AQ,1DND,YFB,YFS,A                1\n",
              "35   5733    2417  ...                                 YFH,FMR,A                0\n",
              "36   6116   57800  ...                 ATFN,ATFN,FJ,FM,FYB,FYT,A                1\n",
              "37   6362   11525  ...            ATFN,ATFN,FJ,FM,FMB,FYT,3KLN,A                1\n",
              "38   6566   12143  ...                               FDB,FB,FL,A                0\n",
              "39   6677   42285  ...                                    FMB,,B                0\n",
              "\n",
              "[40 rows x 11 columns]"
            ]
          },
          "metadata": {
            "tags": []
          },
          "execution_count": 29
        }
      ]
    },
    {
      "cell_type": "code",
      "metadata": {
        "id": "e01bacfa-6f7d-4d37-9700-c4a218bb7b83"
      },
      "source": [
        "from sklearn.feature_extraction.text import TfidfVectorizer\n",
        "\n",
        "vectorizer = TfidfVectorizer(min_df=3, max_features=None,\n",
        "                            strip_accents='unicode', analyzer='word',token_pattern=r',',ngram_range=(1,3),stop_words='english')"
      ],
      "id": "e01bacfa-6f7d-4d37-9700-c4a218bb7b83",
      "execution_count": 30,
      "outputs": []
    },
    {
      "cell_type": "code",
      "metadata": {
        "id": "1a595c76-4811-4a8d-90b4-42f5c0d51d2e"
      },
      "source": [
        "parsedFeatureMatrix = vectorizer.fit_transform(book_rating['parsedFeatureStr'])"
      ],
      "id": "1a595c76-4811-4a8d-90b4-42f5c0d51d2e",
      "execution_count": 31,
      "outputs": []
    },
    {
      "cell_type": "code",
      "metadata": {
        "colab": {
          "base_uri": "https://localhost:8080/"
        },
        "id": "d432d7bb-fb54-4726-b15d-5cbdc2d51b6a",
        "outputId": "f3fb03b8-29ca-4132-aa04-edd84816a5ea"
      },
      "source": [
        "parsedFeatureMatrix"
      ],
      "id": "d432d7bb-fb54-4726-b15d-5cbdc2d51b6a",
      "execution_count": 32,
      "outputs": [
        {
          "output_type": "execute_result",
          "data": {
            "text/plain": [
              "<23534x3 sparse matrix of type '<class 'numpy.float64'>'\n",
              "\twith 59392 stored elements in Compressed Sparse Row format>"
            ]
          },
          "metadata": {
            "tags": []
          },
          "execution_count": 32
        }
      ]
    },
    {
      "cell_type": "code",
      "metadata": {
        "colab": {
          "base_uri": "https://localhost:8080/"
        },
        "id": "bf3e3401-2893-40cf-9f48-37c9f8d941b3",
        "outputId": "6aaf9ebf-76b7-4ddd-bd89-6d77119d42dd"
      },
      "source": [
        "parsedFeatureMatrix.shape"
      ],
      "id": "bf3e3401-2893-40cf-9f48-37c9f8d941b3",
      "execution_count": 33,
      "outputs": [
        {
          "output_type": "execute_result",
          "data": {
            "text/plain": [
              "(23534, 3)"
            ]
          },
          "metadata": {
            "tags": []
          },
          "execution_count": 33
        }
      ]
    },
    {
      "cell_type": "code",
      "metadata": {
        "id": "561b3f08-e8f4-4300-9ffc-d5c66d2ca171"
      },
      "source": [
        "from sklearn.metrics.pairwise import sigmoid_kernel \n",
        "\n",
        "sig = sigmoid_kernel(parsedFeatureMatrix, parsedFeatureMatrix)"
      ],
      "id": "561b3f08-e8f4-4300-9ffc-d5c66d2ca171",
      "execution_count": 34,
      "outputs": []
    },
    {
      "cell_type": "code",
      "metadata": {
        "id": "10915f86-511f-4dac-bf51-0e6c44b98eeb"
      },
      "source": [
        "#sig[0]"
      ],
      "id": "10915f86-511f-4dac-bf51-0e6c44b98eeb",
      "execution_count": null,
      "outputs": []
    },
    {
      "cell_type": "code",
      "metadata": {
        "id": "b90120ce-c1b4-45f3-9417-d6978bdc4a65"
      },
      "source": [
        "indices = pd.Series(book_rating.index, index = book_rating['title'])"
      ],
      "id": "b90120ce-c1b4-45f3-9417-d6978bdc4a65",
      "execution_count": 35,
      "outputs": []
    },
    {
      "cell_type": "code",
      "metadata": {
        "id": "ea61c826-5818-4801-b100-2eee8b3b1882"
      },
      "source": [
        "indices_df = pd.Series(book_rating.index, index = book_rating['title']).to_frame()"
      ],
      "id": "ea61c826-5818-4801-b100-2eee8b3b1882",
      "execution_count": 36,
      "outputs": []
    },
    {
      "cell_type": "code",
      "metadata": {
        "id": "8b77babe-086e-4d36-92b6-9a04346c76d8"
      },
      "source": [
        "indices_itemID_mapping = pd.merge(indices_df, book_rating, on=[\"title\"])"
      ],
      "id": "8b77babe-086e-4d36-92b6-9a04346c76d8",
      "execution_count": 37,
      "outputs": []
    },
    {
      "cell_type": "code",
      "metadata": {
        "colab": {
          "base_uri": "https://localhost:8080/",
          "height": 447
        },
        "id": "0e146454-df3e-41da-bab1-10b904f809d6",
        "outputId": "6ce02b35-0646-4bb1-a467-f293d7a14111"
      },
      "source": [
        "indices_df"
      ],
      "id": "0e146454-df3e-41da-bab1-10b904f809d6",
      "execution_count": 38,
      "outputs": [
        {
          "output_type": "execute_result",
          "data": {
            "text/html": [
              "<div>\n",
              "<style scoped>\n",
              "    .dataframe tbody tr th:only-of-type {\n",
              "        vertical-align: middle;\n",
              "    }\n",
              "\n",
              "    .dataframe tbody tr th {\n",
              "        vertical-align: top;\n",
              "    }\n",
              "\n",
              "    .dataframe thead th {\n",
              "        text-align: right;\n",
              "    }\n",
              "</style>\n",
              "<table border=\"1\" class=\"dataframe\">\n",
              "  <thead>\n",
              "    <tr style=\"text-align: right;\">\n",
              "      <th></th>\n",
              "      <th>0</th>\n",
              "    </tr>\n",
              "    <tr>\n",
              "      <th>title</th>\n",
              "      <th></th>\n",
              "    </tr>\n",
              "  </thead>\n",
              "  <tbody>\n",
              "    <tr>\n",
              "      <th>Princess Poppy: The Big Mix Up</th>\n",
              "      <td>0</td>\n",
              "    </tr>\n",
              "    <tr>\n",
              "      <th>Einfach zeichnen! Step by Step</th>\n",
              "      <td>1</td>\n",
              "    </tr>\n",
              "    <tr>\n",
              "      <th>Red Queen 1</th>\n",
              "      <td>2</td>\n",
              "    </tr>\n",
              "    <tr>\n",
              "      <th>Meine Kindergarten-Freunde (Pirat)</th>\n",
              "      <td>3</td>\n",
              "    </tr>\n",
              "    <tr>\n",
              "      <th>Mein großes Schablonen-Buch - Wilde Tiere</th>\n",
              "      <td>4</td>\n",
              "    </tr>\n",
              "    <tr>\n",
              "      <th>...</th>\n",
              "      <td>...</td>\n",
              "    </tr>\n",
              "    <tr>\n",
              "      <th>Soon</th>\n",
              "      <td>23529</td>\n",
              "    </tr>\n",
              "    <tr>\n",
              "      <th>Warum? Fragen u. Antworten f. Kleinkinder - In der Natur</th>\n",
              "      <td>23530</td>\n",
              "    </tr>\n",
              "    <tr>\n",
              "      <th>Tesla</th>\n",
              "      <td>23531</td>\n",
              "    </tr>\n",
              "    <tr>\n",
              "      <th>Hexenherz. Glühender Hass</th>\n",
              "      <td>23532</td>\n",
              "    </tr>\n",
              "    <tr>\n",
              "      <th>Everybody Sees the Ants</th>\n",
              "      <td>23533</td>\n",
              "    </tr>\n",
              "  </tbody>\n",
              "</table>\n",
              "<p>23534 rows × 1 columns</p>\n",
              "</div>"
            ],
            "text/plain": [
              "                                                        0\n",
              "title                                                    \n",
              "Princess Poppy: The Big Mix Up                          0\n",
              "Einfach zeichnen! Step by Step                          1\n",
              "Red Queen 1                                             2\n",
              "Meine Kindergarten-Freunde (Pirat)                      3\n",
              "Mein großes Schablonen-Buch - Wilde Tiere               4\n",
              "...                                                   ...\n",
              "Soon                                                23529\n",
              "Warum? Fragen u. Antworten f. Kleinkinder - In ...  23530\n",
              "Tesla                                               23531\n",
              "Hexenherz. Glühender Hass                           23532\n",
              "Everybody Sees the Ants                             23533\n",
              "\n",
              "[23534 rows x 1 columns]"
            ]
          },
          "metadata": {
            "tags": []
          },
          "execution_count": 38
        }
      ]
    },
    {
      "cell_type": "code",
      "metadata": {
        "id": "96a05edf-4a85-4b89-ba3f-7bad26c5b98d"
      },
      "source": [
        "indices_itemID_mapping = indices_itemID_mapping.drop(['index'], axis=1)"
      ],
      "id": "96a05edf-4a85-4b89-ba3f-7bad26c5b98d",
      "execution_count": 39,
      "outputs": []
    },
    {
      "cell_type": "code",
      "metadata": {
        "colab": {
          "base_uri": "https://localhost:8080/",
          "height": 756
        },
        "id": "6bde987c-45ee-4694-bb5e-874df5e29d41",
        "outputId": "13c8b9a2-0016-4f35-eacd-0ded1b1e3cc8"
      },
      "source": [
        "indices_itemID_mapping"
      ],
      "id": "6bde987c-45ee-4694-bb5e-874df5e29d41",
      "execution_count": 40,
      "outputs": [
        {
          "output_type": "execute_result",
          "data": {
            "text/html": [
              "<div>\n",
              "<style scoped>\n",
              "    .dataframe tbody tr th:only-of-type {\n",
              "        vertical-align: middle;\n",
              "    }\n",
              "\n",
              "    .dataframe tbody tr th {\n",
              "        vertical-align: top;\n",
              "    }\n",
              "\n",
              "    .dataframe thead th {\n",
              "        text-align: right;\n",
              "    }\n",
              "</style>\n",
              "<table border=\"1\" class=\"dataframe\">\n",
              "  <thead>\n",
              "    <tr style=\"text-align: right;\">\n",
              "      <th></th>\n",
              "      <th>title</th>\n",
              "      <th>0</th>\n",
              "      <th>itemID</th>\n",
              "      <th>basket</th>\n",
              "      <th>order</th>\n",
              "      <th>main topic</th>\n",
              "      <th>subtopics</th>\n",
              "      <th>log_frequency</th>\n",
              "      <th>Grade</th>\n",
              "      <th>parsedFeatureStr</th>\n",
              "      <th>relevance_score</th>\n",
              "    </tr>\n",
              "  </thead>\n",
              "  <tbody>\n",
              "    <tr>\n",
              "      <th>0</th>\n",
              "      <td>Princess Poppy: The Big Mix Up</td>\n",
              "      <td>0</td>\n",
              "      <td>21310</td>\n",
              "      <td>0</td>\n",
              "      <td>0</td>\n",
              "      <td>YFB</td>\n",
              "      <td>[5AH]</td>\n",
              "      <td>1.098612</td>\n",
              "      <td>C</td>\n",
              "      <td>YFB,5AH,C</td>\n",
              "      <td>0</td>\n",
              "    </tr>\n",
              "    <tr>\n",
              "      <th>1</th>\n",
              "      <td>Einfach zeichnen! Step by Step</td>\n",
              "      <td>1</td>\n",
              "      <td>73018</td>\n",
              "      <td>0</td>\n",
              "      <td>0</td>\n",
              "      <td>AGZ</td>\n",
              "      <td>[5AJ,AGZ,WFA,YBG,YBL,YNA,YPA]</td>\n",
              "      <td>4.077537</td>\n",
              "      <td>A</td>\n",
              "      <td>AGZ,5AJ,AGZ,WFA,YBG,YBL,YNA,YPA,A</td>\n",
              "      <td>0</td>\n",
              "    </tr>\n",
              "    <tr>\n",
              "      <th>2</th>\n",
              "      <td>Red Queen 1</td>\n",
              "      <td>2</td>\n",
              "      <td>19194</td>\n",
              "      <td>0</td>\n",
              "      <td>0</td>\n",
              "      <td>YFH</td>\n",
              "      <td>[5AP,FBA]</td>\n",
              "      <td>5.225747</td>\n",
              "      <td>A</td>\n",
              "      <td>YFH,5AP,FBA,A</td>\n",
              "      <td>0</td>\n",
              "    </tr>\n",
              "    <tr>\n",
              "      <th>3</th>\n",
              "      <td>Meine Kindergarten-Freunde (Pirat)</td>\n",
              "      <td>3</td>\n",
              "      <td>40250</td>\n",
              "      <td>0</td>\n",
              "      <td>0</td>\n",
              "      <td>YB</td>\n",
              "      <td>[5AC,5AD,YBG,YBL,YF]</td>\n",
              "      <td>5.826000</td>\n",
              "      <td>A</td>\n",
              "      <td>YB,5AC,5AD,YBG,YBL,YF,A</td>\n",
              "      <td>0</td>\n",
              "    </tr>\n",
              "    <tr>\n",
              "      <th>4</th>\n",
              "      <td>Mein großes Schablonen-Buch - Wilde Tiere</td>\n",
              "      <td>4</td>\n",
              "      <td>46107</td>\n",
              "      <td>0</td>\n",
              "      <td>0</td>\n",
              "      <td>WFTM</td>\n",
              "      <td>[WD,WFTM,YBG,YBL,YBLD,YBLN1]</td>\n",
              "      <td>3.218876</td>\n",
              "      <td>A</td>\n",
              "      <td>WFTM,WD,WFTM,YBG,YBL,YBLD,YBLN1,A</td>\n",
              "      <td>0</td>\n",
              "    </tr>\n",
              "    <tr>\n",
              "      <th>...</th>\n",
              "      <td>...</td>\n",
              "      <td>...</td>\n",
              "      <td>...</td>\n",
              "      <td>...</td>\n",
              "      <td>...</td>\n",
              "      <td>...</td>\n",
              "      <td>...</td>\n",
              "      <td>...</td>\n",
              "      <td>...</td>\n",
              "      <td>...</td>\n",
              "      <td>...</td>\n",
              "    </tr>\n",
              "    <tr>\n",
              "      <th>23529</th>\n",
              "      <td>Soon</td>\n",
              "      <td>23529</td>\n",
              "      <td>21264</td>\n",
              "      <td>0</td>\n",
              "      <td>0</td>\n",
              "      <td>YFN</td>\n",
              "      <td>[5AL]</td>\n",
              "      <td>0.000000</td>\n",
              "      <td>D</td>\n",
              "      <td>YFN,5AL,D</td>\n",
              "      <td>0</td>\n",
              "    </tr>\n",
              "    <tr>\n",
              "      <th>23530</th>\n",
              "      <td>Warum? Fragen u. Antworten f. Kleinkinder - In...</td>\n",
              "      <td>23530</td>\n",
              "      <td>22297</td>\n",
              "      <td>0</td>\n",
              "      <td>0</td>\n",
              "      <td>YBC</td>\n",
              "      <td>[YBL]</td>\n",
              "      <td>0.000000</td>\n",
              "      <td>D</td>\n",
              "      <td>YBC,YBL,D</td>\n",
              "      <td>0</td>\n",
              "    </tr>\n",
              "    <tr>\n",
              "      <th>23531</th>\n",
              "      <td>Tesla</td>\n",
              "      <td>23531</td>\n",
              "      <td>56041</td>\n",
              "      <td>0</td>\n",
              "      <td>0</td>\n",
              "      <td>FLM</td>\n",
              "      <td>[]</td>\n",
              "      <td>0.000000</td>\n",
              "      <td>D</td>\n",
              "      <td>FLM,,D</td>\n",
              "      <td>0</td>\n",
              "    </tr>\n",
              "    <tr>\n",
              "      <th>23532</th>\n",
              "      <td>Hexenherz. Glühender Hass</td>\n",
              "      <td>23532</td>\n",
              "      <td>67832</td>\n",
              "      <td>0</td>\n",
              "      <td>0</td>\n",
              "      <td>FMH</td>\n",
              "      <td>[1D,FMH,FMR]</td>\n",
              "      <td>0.000000</td>\n",
              "      <td>D</td>\n",
              "      <td>FMH,1D,FMH,FMR,D</td>\n",
              "      <td>0</td>\n",
              "    </tr>\n",
              "    <tr>\n",
              "      <th>23533</th>\n",
              "      <td>Everybody Sees the Ants</td>\n",
              "      <td>23533</td>\n",
              "      <td>73084</td>\n",
              "      <td>0</td>\n",
              "      <td>0</td>\n",
              "      <td>YXQF</td>\n",
              "      <td>[YF,YXD,YXE]</td>\n",
              "      <td>0.000000</td>\n",
              "      <td>D</td>\n",
              "      <td>YXQF,YF,YXD,YXE,D</td>\n",
              "      <td>0</td>\n",
              "    </tr>\n",
              "  </tbody>\n",
              "</table>\n",
              "<p>23534 rows × 11 columns</p>\n",
              "</div>"
            ],
            "text/plain": [
              "                                                   title  ...  relevance_score\n",
              "0                         Princess Poppy: The Big Mix Up  ...                0\n",
              "1                         Einfach zeichnen! Step by Step  ...                0\n",
              "2                                            Red Queen 1  ...                0\n",
              "3                     Meine Kindergarten-Freunde (Pirat)  ...                0\n",
              "4              Mein großes Schablonen-Buch - Wilde Tiere  ...                0\n",
              "...                                                  ...  ...              ...\n",
              "23529                                               Soon  ...                0\n",
              "23530  Warum? Fragen u. Antworten f. Kleinkinder - In...  ...                0\n",
              "23531                                              Tesla  ...                0\n",
              "23532                          Hexenherz. Glühender Hass  ...                0\n",
              "23533                            Everybody Sees the Ants  ...                0\n",
              "\n",
              "[23534 rows x 11 columns]"
            ]
          },
          "metadata": {
            "tags": []
          },
          "execution_count": 40
        }
      ]
    },
    {
      "cell_type": "code",
      "metadata": {
        "id": "28ddf27e-c07e-4c80-a011-4f4c3ba34e8c"
      },
      "source": [
        "def recommender(title, sig=sig):\n",
        "    index = indices[title]\n",
        "    print(index)\n",
        "    \n",
        "    # get similarity scores\n",
        "    sig_scores = list(enumerate(sig[index]))\n",
        "    #sort by scores\n",
        "    sig_scores = sorted(sig_scores, key=lambda x:x[1], reverse=True)\n",
        "    sig_scores = sig_scores[1:6]\n",
        "    \n",
        "    #relate to book\n",
        "    book_indices = [i[0] for i in sig_scores]\n",
        "    \n",
        "    return book_rating['itemID'].iloc[book_indices]\n",
        "    \n",
        "    \n",
        "    "
      ],
      "id": "28ddf27e-c07e-4c80-a011-4f4c3ba34e8c",
      "execution_count": 41,
      "outputs": []
    },
    {
      "cell_type": "code",
      "metadata": {
        "colab": {
          "base_uri": "https://localhost:8080/"
        },
        "id": "652a12d3-7bf3-4faf-bc8d-12bd49e59d88",
        "outputId": "c76931c8-6743-4d80-9428-edd53c138978"
      },
      "source": [
        "recommender_df = recommender('Princess Poppy: The Big Mix Up').to_frame()"
      ],
      "id": "652a12d3-7bf3-4faf-bc8d-12bd49e59d88",
      "execution_count": 42,
      "outputs": [
        {
          "output_type": "stream",
          "text": [
            "0\n"
          ],
          "name": "stdout"
        }
      ]
    },
    {
      "cell_type": "code",
      "metadata": {
        "colab": {
          "base_uri": "https://localhost:8080/",
          "height": 203
        },
        "id": "b06758e2-e079-4843-aa44-eb1c4374190a",
        "outputId": "03195bfa-5873-4913-e8f4-4ea26cd44e69"
      },
      "source": [
        "recommender_df"
      ],
      "id": "b06758e2-e079-4843-aa44-eb1c4374190a",
      "execution_count": 43,
      "outputs": [
        {
          "output_type": "execute_result",
          "data": {
            "text/html": [
              "<div>\n",
              "<style scoped>\n",
              "    .dataframe tbody tr th:only-of-type {\n",
              "        vertical-align: middle;\n",
              "    }\n",
              "\n",
              "    .dataframe tbody tr th {\n",
              "        vertical-align: top;\n",
              "    }\n",
              "\n",
              "    .dataframe thead th {\n",
              "        text-align: right;\n",
              "    }\n",
              "</style>\n",
              "<table border=\"1\" class=\"dataframe\">\n",
              "  <thead>\n",
              "    <tr style=\"text-align: right;\">\n",
              "      <th></th>\n",
              "      <th>itemID</th>\n",
              "    </tr>\n",
              "  </thead>\n",
              "  <tbody>\n",
              "    <tr>\n",
              "      <th>23</th>\n",
              "      <td>4892</td>\n",
              "    </tr>\n",
              "    <tr>\n",
              "      <th>24</th>\n",
              "      <td>44815</td>\n",
              "    </tr>\n",
              "    <tr>\n",
              "      <th>25</th>\n",
              "      <td>63847</td>\n",
              "    </tr>\n",
              "    <tr>\n",
              "      <th>31</th>\n",
              "      <td>64544</td>\n",
              "    </tr>\n",
              "    <tr>\n",
              "      <th>35</th>\n",
              "      <td>2417</td>\n",
              "    </tr>\n",
              "  </tbody>\n",
              "</table>\n",
              "</div>"
            ],
            "text/plain": [
              "    itemID\n",
              "23    4892\n",
              "24   44815\n",
              "25   63847\n",
              "31   64544\n",
              "35    2417"
            ]
          },
          "metadata": {
            "tags": []
          },
          "execution_count": 43
        }
      ]
    },
    {
      "cell_type": "code",
      "metadata": {
        "id": "38708178-71df-450b-b36c-ab78330cd59e"
      },
      "source": [
        "t = pd.merge(recommender_df, book_rating, on=[\"itemID\"])"
      ],
      "id": "38708178-71df-450b-b36c-ab78330cd59e",
      "execution_count": 44,
      "outputs": []
    },
    {
      "cell_type": "code",
      "metadata": {
        "colab": {
          "base_uri": "https://localhost:8080/",
          "height": 203
        },
        "id": "336b5d31-9ce1-42a4-b5e4-1938333c72e9",
        "outputId": "f2fc019f-1941-44e2-c2f2-571f89852817"
      },
      "source": [
        "t"
      ],
      "id": "336b5d31-9ce1-42a4-b5e4-1938333c72e9",
      "execution_count": 45,
      "outputs": [
        {
          "output_type": "execute_result",
          "data": {
            "text/html": [
              "<div>\n",
              "<style scoped>\n",
              "    .dataframe tbody tr th:only-of-type {\n",
              "        vertical-align: middle;\n",
              "    }\n",
              "\n",
              "    .dataframe tbody tr th {\n",
              "        vertical-align: top;\n",
              "    }\n",
              "\n",
              "    .dataframe thead th {\n",
              "        text-align: right;\n",
              "    }\n",
              "</style>\n",
              "<table border=\"1\" class=\"dataframe\">\n",
              "  <thead>\n",
              "    <tr style=\"text-align: right;\">\n",
              "      <th></th>\n",
              "      <th>itemID</th>\n",
              "      <th>index</th>\n",
              "      <th>basket</th>\n",
              "      <th>order</th>\n",
              "      <th>title</th>\n",
              "      <th>main topic</th>\n",
              "      <th>subtopics</th>\n",
              "      <th>log_frequency</th>\n",
              "      <th>Grade</th>\n",
              "      <th>parsedFeatureStr</th>\n",
              "      <th>relevance_score</th>\n",
              "    </tr>\n",
              "  </thead>\n",
              "  <tbody>\n",
              "    <tr>\n",
              "      <th>0</th>\n",
              "      <td>4892</td>\n",
              "      <td>2263</td>\n",
              "      <td>0</td>\n",
              "      <td>0</td>\n",
              "      <td>Harry Potter 4 and the Goblet of Fire</td>\n",
              "      <td>YFH</td>\n",
              "      <td>[5AK]</td>\n",
              "      <td>5.283204</td>\n",
              "      <td>A</td>\n",
              "      <td>YFH,5AK,A</td>\n",
              "      <td>0</td>\n",
              "    </tr>\n",
              "    <tr>\n",
              "      <th>1</th>\n",
              "      <td>44815</td>\n",
              "      <td>2460</td>\n",
              "      <td>0</td>\n",
              "      <td>0</td>\n",
              "      <td>Covet</td>\n",
              "      <td>YFHR</td>\n",
              "      <td>[]</td>\n",
              "      <td>4.317488</td>\n",
              "      <td>A</td>\n",
              "      <td>YFHR,,A</td>\n",
              "      <td>0</td>\n",
              "    </tr>\n",
              "    <tr>\n",
              "      <th>2</th>\n",
              "      <td>63847</td>\n",
              "      <td>2535</td>\n",
              "      <td>0</td>\n",
              "      <td>0</td>\n",
              "      <td>A Vow So Bold and Deadly</td>\n",
              "      <td>YFHR</td>\n",
              "      <td>[YFM]</td>\n",
              "      <td>4.709530</td>\n",
              "      <td>A</td>\n",
              "      <td>YFHR,YFM,A</td>\n",
              "      <td>0</td>\n",
              "    </tr>\n",
              "    <tr>\n",
              "      <th>3</th>\n",
              "      <td>64544</td>\n",
              "      <td>4819</td>\n",
              "      <td>0</td>\n",
              "      <td>0</td>\n",
              "      <td>Spiele-Klassiker Gummitwist-Set</td>\n",
              "      <td>YBL</td>\n",
              "      <td>[]</td>\n",
              "      <td>5.598422</td>\n",
              "      <td>A</td>\n",
              "      <td>YBL,,A</td>\n",
              "      <td>0</td>\n",
              "    </tr>\n",
              "    <tr>\n",
              "      <th>4</th>\n",
              "      <td>2417</td>\n",
              "      <td>5733</td>\n",
              "      <td>0</td>\n",
              "      <td>0</td>\n",
              "      <td>A Court of Thorns and Roses. Acotar Adult Edition</td>\n",
              "      <td>YFH</td>\n",
              "      <td>[FMR]</td>\n",
              "      <td>5.948035</td>\n",
              "      <td>A</td>\n",
              "      <td>YFH,FMR,A</td>\n",
              "      <td>0</td>\n",
              "    </tr>\n",
              "  </tbody>\n",
              "</table>\n",
              "</div>"
            ],
            "text/plain": [
              "   itemID  index  basket  ...  Grade parsedFeatureStr relevance_score\n",
              "0    4892   2263       0  ...      A        YFH,5AK,A               0\n",
              "1   44815   2460       0  ...      A          YFHR,,A               0\n",
              "2   63847   2535       0  ...      A       YFHR,YFM,A               0\n",
              "3   64544   4819       0  ...      A           YBL,,A               0\n",
              "4    2417   5733       0  ...      A        YFH,FMR,A               0\n",
              "\n",
              "[5 rows x 11 columns]"
            ]
          },
          "metadata": {
            "tags": []
          },
          "execution_count": 45
        }
      ]
    },
    {
      "cell_type": "code",
      "metadata": {
        "id": "4a3e850a-0156-48c1-ac36-adf9a1f1767d"
      },
      "source": [
        "def getSigScoreArray(num, title, sig=sig):\n",
        "    index = indices[title]\n",
        "    print(index)\n",
        "    \n",
        "    # get similarity scores\n",
        "    sig_scores = list(enumerate(sig[index]))\n",
        "    #sort by scores\n",
        "    sig_scores = sorted(sig_scores, key=lambda x:x[1], reverse=True)\n",
        "    sig_scores = sig_scores[1:num+1]\n",
        "    \n",
        "    test_sig_score_arr = []\n",
        "    test_sig_score_arr = sig_scores\n",
        "    \n",
        "    sig_score_array = []\n",
        "    for score in test_sig_score_arr:\n",
        "        sig_score_array.append(score[1])\n",
        "    return sig_score_array"
      ],
      "id": "4a3e850a-0156-48c1-ac36-adf9a1f1767d",
      "execution_count": 46,
      "outputs": []
    },
    {
      "cell_type": "code",
      "metadata": {
        "colab": {
          "base_uri": "https://localhost:8080/"
        },
        "id": "e36a0465-e707-47fb-8db9-044952b551fc",
        "outputId": "53eeba14-bcaa-4a90-81f7-a05a1f77f0de"
      },
      "source": [
        "sig_score_array = getSigScoreArray(5, \"Princess Poppy: The Big Mix Up\")"
      ],
      "id": "e36a0465-e707-47fb-8db9-044952b551fc",
      "execution_count": 47,
      "outputs": [
        {
          "output_type": "stream",
          "text": [
            "0\n"
          ],
          "name": "stdout"
        }
      ]
    },
    {
      "cell_type": "code",
      "metadata": {
        "id": "_xyQQJmAPd99"
      },
      "source": [
        "## Recommend with Evaluation dataset\n",
        "\n",
        "\n"
      ],
      "id": "_xyQQJmAPd99",
      "execution_count": null,
      "outputs": []
    },
    {
      "cell_type": "code",
      "metadata": {
        "id": "Mg1OFT-ZPeGS"
      },
      "source": [
        ""
      ],
      "id": "Mg1OFT-ZPeGS",
      "execution_count": null,
      "outputs": []
    },
    {
      "cell_type": "markdown",
      "metadata": {
        "id": "7ANPkI0MPfKJ"
      },
      "source": [
        "#Finish\n"
      ],
      "id": "7ANPkI0MPfKJ"
    },
    {
      "cell_type": "code",
      "metadata": {
        "colab": {
          "base_uri": "https://localhost:8080/",
          "height": 730
        },
        "id": "e8c2a625",
        "outputId": "2755d7f5-2d44-4603-821c-5c3afe63413f"
      },
      "source": [
        "##Create new column where order != 0 but basket and/or click is 0\n",
        "\n",
        "def identify(book_data):\n",
        "    if (book_data['order'] != 0 and (book_data['basket']  | book_data['click'] == 0)):\n",
        "        return 'Found'\n",
        "    else:\n",
        "        return 'Not found'\n",
        "\n",
        "book_data['test'] = book_data.apply(identify, axis = 1)\n",
        "\n",
        "book_data.head(10)"
      ],
      "id": "e8c2a625",
      "execution_count": 48,
      "outputs": [
        {
          "output_type": "execute_result",
          "data": {
            "text/html": [
              "<div>\n",
              "<style scoped>\n",
              "    .dataframe tbody tr th:only-of-type {\n",
              "        vertical-align: middle;\n",
              "    }\n",
              "\n",
              "    .dataframe tbody tr th {\n",
              "        vertical-align: top;\n",
              "    }\n",
              "\n",
              "    .dataframe thead th {\n",
              "        text-align: right;\n",
              "    }\n",
              "</style>\n",
              "<table border=\"1\" class=\"dataframe\">\n",
              "  <thead>\n",
              "    <tr style=\"text-align: right;\">\n",
              "      <th></th>\n",
              "      <th>sessionID</th>\n",
              "      <th>itemID</th>\n",
              "      <th>click</th>\n",
              "      <th>basket</th>\n",
              "      <th>order</th>\n",
              "      <th>title</th>\n",
              "      <th>author</th>\n",
              "      <th>publisher</th>\n",
              "      <th>main topic</th>\n",
              "      <th>subtopics</th>\n",
              "      <th>Interest</th>\n",
              "      <th>Frequency</th>\n",
              "      <th>Total_Interest</th>\n",
              "      <th>test</th>\n",
              "    </tr>\n",
              "  </thead>\n",
              "  <tbody>\n",
              "    <tr>\n",
              "      <th>0</th>\n",
              "      <td>0</td>\n",
              "      <td>21310</td>\n",
              "      <td>1</td>\n",
              "      <td>0</td>\n",
              "      <td>0</td>\n",
              "      <td>Princess Poppy: The Big Mix Up</td>\n",
              "      <td>Janey Louise Jones</td>\n",
              "      <td>Penguin Random House Children's UK</td>\n",
              "      <td>YFB</td>\n",
              "      <td>[5AH]</td>\n",
              "      <td>1</td>\n",
              "      <td>3</td>\n",
              "      <td>3</td>\n",
              "      <td>Not found</td>\n",
              "    </tr>\n",
              "    <tr>\n",
              "      <th>3</th>\n",
              "      <td>1</td>\n",
              "      <td>73018</td>\n",
              "      <td>1</td>\n",
              "      <td>0</td>\n",
              "      <td>0</td>\n",
              "      <td>Einfach zeichnen! Step by Step</td>\n",
              "      <td>Wiebke Krabbe</td>\n",
              "      <td>Schwager und Steinlein</td>\n",
              "      <td>AGZ</td>\n",
              "      <td>[5AJ,AGZ,WFA,YBG,YBL,YNA,YPA]</td>\n",
              "      <td>1</td>\n",
              "      <td>59</td>\n",
              "      <td>59</td>\n",
              "      <td>Not found</td>\n",
              "    </tr>\n",
              "    <tr>\n",
              "      <th>62</th>\n",
              "      <td>2</td>\n",
              "      <td>19194</td>\n",
              "      <td>1</td>\n",
              "      <td>0</td>\n",
              "      <td>0</td>\n",
              "      <td>Red Queen 1</td>\n",
              "      <td>Victoria Aveyard</td>\n",
              "      <td>Orion Publishing Group</td>\n",
              "      <td>YFH</td>\n",
              "      <td>[5AP,FBA]</td>\n",
              "      <td>1</td>\n",
              "      <td>186</td>\n",
              "      <td>186</td>\n",
              "      <td>Not found</td>\n",
              "    </tr>\n",
              "    <tr>\n",
              "      <th>248</th>\n",
              "      <td>3</td>\n",
              "      <td>40250</td>\n",
              "      <td>1</td>\n",
              "      <td>0</td>\n",
              "      <td>0</td>\n",
              "      <td>Meine Kindergarten-Freunde (Pirat)</td>\n",
              "      <td>NaN</td>\n",
              "      <td>Ars Edition GmbH</td>\n",
              "      <td>YB</td>\n",
              "      <td>[5AC,5AD,YBG,YBL,YF]</td>\n",
              "      <td>1</td>\n",
              "      <td>339</td>\n",
              "      <td>339</td>\n",
              "      <td>Not found</td>\n",
              "    </tr>\n",
              "    <tr>\n",
              "      <th>587</th>\n",
              "      <td>4</td>\n",
              "      <td>46107</td>\n",
              "      <td>1</td>\n",
              "      <td>0</td>\n",
              "      <td>0</td>\n",
              "      <td>Mein großes Schablonen-Buch - Wilde Tiere</td>\n",
              "      <td>Elizabeth Golding</td>\n",
              "      <td>Edition Michael Fischer</td>\n",
              "      <td>WFTM</td>\n",
              "      <td>[WD,WFTM,YBG,YBL,YBLD,YBLN1]</td>\n",
              "      <td>1</td>\n",
              "      <td>25</td>\n",
              "      <td>25</td>\n",
              "      <td>Not found</td>\n",
              "    </tr>\n",
              "    <tr>\n",
              "      <th>612</th>\n",
              "      <td>5</td>\n",
              "      <td>34217</td>\n",
              "      <td>1</td>\n",
              "      <td>0</td>\n",
              "      <td>0</td>\n",
              "      <td>Ewig geliebt</td>\n",
              "      <td>J. R. Ward</td>\n",
              "      <td>Heyne Taschenbuch</td>\n",
              "      <td>FMR</td>\n",
              "      <td>[1KBB-US-NAK,FMX,FRX,3MRBF]</td>\n",
              "      <td>1</td>\n",
              "      <td>93</td>\n",
              "      <td>93</td>\n",
              "      <td>Not found</td>\n",
              "    </tr>\n",
              "    <tr>\n",
              "      <th>705</th>\n",
              "      <td>6</td>\n",
              "      <td>31436</td>\n",
              "      <td>1</td>\n",
              "      <td>0</td>\n",
              "      <td>0</td>\n",
              "      <td>Meine Sticker-Tiere</td>\n",
              "      <td>NaN</td>\n",
              "      <td>Ars Edition GmbH</td>\n",
              "      <td>YBG</td>\n",
              "      <td>[5AD,YBG,YBLL]</td>\n",
              "      <td>1</td>\n",
              "      <td>28</td>\n",
              "      <td>28</td>\n",
              "      <td>Not found</td>\n",
              "    </tr>\n",
              "    <tr>\n",
              "      <th>733</th>\n",
              "      <td>7</td>\n",
              "      <td>14576</td>\n",
              "      <td>1</td>\n",
              "      <td>1</td>\n",
              "      <td>0</td>\n",
              "      <td>Unsterblich 01 - Tor der Dämmerung</td>\n",
              "      <td>Julie Kagawa</td>\n",
              "      <td>Heyne Taschenbuch</td>\n",
              "      <td>YFE</td>\n",
              "      <td>[5AQ,FM,YFE,YFH]</td>\n",
              "      <td>2</td>\n",
              "      <td>31</td>\n",
              "      <td>62</td>\n",
              "      <td>Not found</td>\n",
              "    </tr>\n",
              "    <tr>\n",
              "      <th>764</th>\n",
              "      <td>7</td>\n",
              "      <td>17731</td>\n",
              "      <td>2</td>\n",
              "      <td>1</td>\n",
              "      <td>0</td>\n",
              "      <td>Unsterblich 02 - Tor der Nacht</td>\n",
              "      <td>Julie Kagawa</td>\n",
              "      <td>Heyne Taschenbuch</td>\n",
              "      <td>YFH</td>\n",
              "      <td>[5AQ,FM,YFE,YFH]</td>\n",
              "      <td>3</td>\n",
              "      <td>18</td>\n",
              "      <td>54</td>\n",
              "      <td>Not found</td>\n",
              "    </tr>\n",
              "    <tr>\n",
              "      <th>782</th>\n",
              "      <td>8</td>\n",
              "      <td>58723</td>\n",
              "      <td>1</td>\n",
              "      <td>0</td>\n",
              "      <td>0</td>\n",
              "      <td>Pedro und die Bettler von Cartagena</td>\n",
              "      <td>Ursula Hasler</td>\n",
              "      <td>dtv Verlagsgesellschaft</td>\n",
              "      <td>YFB</td>\n",
              "      <td>[5AM,1KLSC]</td>\n",
              "      <td>1</td>\n",
              "      <td>12</td>\n",
              "      <td>12</td>\n",
              "      <td>Not found</td>\n",
              "    </tr>\n",
              "  </tbody>\n",
              "</table>\n",
              "</div>"
            ],
            "text/plain": [
              "     sessionID  itemID  click  ...  Frequency  Total_Interest       test\n",
              "0            0   21310      1  ...          3               3  Not found\n",
              "3            1   73018      1  ...         59              59  Not found\n",
              "62           2   19194      1  ...        186             186  Not found\n",
              "248          3   40250      1  ...        339             339  Not found\n",
              "587          4   46107      1  ...         25              25  Not found\n",
              "612          5   34217      1  ...         93              93  Not found\n",
              "705          6   31436      1  ...         28              28  Not found\n",
              "733          7   14576      1  ...         31              62  Not found\n",
              "764          7   17731      2  ...         18              54  Not found\n",
              "782          8   58723      1  ...         12              12  Not found\n",
              "\n",
              "[10 rows x 14 columns]"
            ]
          },
          "metadata": {
            "tags": []
          },
          "execution_count": 48
        }
      ]
    },
    {
      "cell_type": "code",
      "metadata": {
        "id": "ecbcf9a5"
      },
      "source": [
        "#Print how many counts for order column\n",
        "\n",
        "print(book_data['order'].value_counts())\n"
      ],
      "id": "ecbcf9a5",
      "execution_count": null,
      "outputs": []
    },
    {
      "cell_type": "code",
      "metadata": {
        "id": "4edf43d6"
      },
      "source": [
        "## Print how many counts for test column\n",
        "\n",
        "print(book_data['test'].value_counts())\n"
      ],
      "id": "4edf43d6",
      "execution_count": null,
      "outputs": []
    },
    {
      "cell_type": "code",
      "metadata": {
        "id": "94801d7a"
      },
      "source": [
        "## Print column where test == found\n",
        "\n",
        "test_column = book_data.loc[book_data['test'] == 'Found']\n",
        "\n",
        "test_column.head(10)\n"
      ],
      "id": "94801d7a",
      "execution_count": null,
      "outputs": []
    },
    {
      "cell_type": "code",
      "metadata": {
        "id": "a9721018"
      },
      "source": [
        "##clone dataframe\n",
        "sea_born_df = book_data.copy(deep=True)"
      ],
      "id": "a9721018",
      "execution_count": null,
      "outputs": []
    },
    {
      "cell_type": "code",
      "metadata": {
        "id": "c79422ad"
      },
      "source": [
        "sea_born_df.shape"
      ],
      "id": "c79422ad",
      "execution_count": null,
      "outputs": []
    },
    {
      "cell_type": "code",
      "metadata": {
        "id": "8c3e878e"
      },
      "source": [
        "## dropping unnessesary columns for pairplot\n",
        "sea_born_df = sea_born_df.filter(items = ['click', 'basket', 'order'])\n"
      ],
      "id": "8c3e878e",
      "execution_count": null,
      "outputs": []
    },
    {
      "cell_type": "code",
      "metadata": {
        "id": "e3ca9541"
      },
      "source": [
        "## Make pair plot using seaborn\n",
        "import seaborn as sns\n",
        "\n",
        "\n",
        "# sns.set(style=\"ticks\", color_codes=True)\n",
        "sns.pairplot(sea_born_df)\n",
        "\n",
        "\n",
        "import matplotlib.pyplot as plt\n",
        "plt.show()\n",
        "\n"
      ],
      "id": "e3ca9541",
      "execution_count": null,
      "outputs": []
    },
    {
      "cell_type": "code",
      "metadata": {
        "id": "ced9d596"
      },
      "source": [
        "#Create histogram -> edited\n",
        "\n",
        "x = book_data['Total_Interest'].value_counts()\n",
        "\n",
        "plt.hist(x, bins = 60)\n",
        "plt.show()"
      ],
      "id": "ced9d596",
      "execution_count": null,
      "outputs": []
    },
    {
      "cell_type": "code",
      "metadata": {
        "id": "8044c28f"
      },
      "source": [
        "## remove interest, total interest, click, basket, order from dataframe\n",
        "\n",
        "latest_data = book_data.drop(['Interest', 'Total_Interest', 'click', 'basket', 'order'], axis = 1)\n",
        "latest_data\n"
      ],
      "id": "8044c28f",
      "execution_count": null,
      "outputs": []
    },
    {
      "cell_type": "code",
      "metadata": {
        "id": "aa2c928d"
      },
      "source": [
        "## EDA main topic vs subtopic vs title and use only frequency\n"
      ],
      "id": "aa2c928d",
      "execution_count": null,
      "outputs": []
    },
    {
      "cell_type": "code",
      "metadata": {
        "id": "8e2bcede"
      },
      "source": [
        "#test on printing rows with one main topic\n",
        "\n",
        "latest_data.loc[latest_data['main topic'] == 'FM'].head(5)\n"
      ],
      "id": "8e2bcede",
      "execution_count": null,
      "outputs": []
    },
    {
      "cell_type": "code",
      "metadata": {
        "id": "b13aea09"
      },
      "source": [
        "# Show title, main topic & subtopics with frequency value in mean\n",
        "print(latest_data.groupby('title')['Frequency'].mean().sort_values(ascending=False).head(), '\\n')\n",
        "print(latest_data.groupby('main topic')['Frequency'].mean().sort_values(ascending=False).head(), '\\n')\n",
        "print(latest_data.groupby('subtopics')['Frequency'].mean().sort_values(ascending=False).head())\n"
      ],
      "id": "b13aea09",
      "execution_count": null,
      "outputs": []
    },
    {
      "cell_type": "code",
      "metadata": {
        "id": "91623bc5"
      },
      "source": [
        "# Show title, main topic & subtopics with frequency value in counts\n",
        "print(latest_data.groupby('title')['Frequency'].count().sort_values(ascending=False).head(), '\\n')\n",
        "print(latest_data.groupby('main topic')['Frequency'].count().sort_values(ascending=False).head(), '\\n')\n",
        "print(latest_data.groupby('subtopics')['Frequency'].count().sort_values(ascending=False).head())"
      ],
      "id": "91623bc5",
      "execution_count": null,
      "outputs": []
    },
    {
      "cell_type": "code",
      "metadata": {
        "id": "53bbb965"
      },
      "source": [
        "#Mean value for title\n",
        "title = pd.DataFrame(latest_data.groupby('title')['Frequency'].mean().sort_values(ascending=False))\n",
        "#Count value for title\n",
        "title['Counts'] = pd.DataFrame(latest_data.groupby('title')['Frequency'].count())\n",
        "title\n"
      ],
      "id": "53bbb965",
      "execution_count": null,
      "outputs": []
    },
    {
      "cell_type": "code",
      "metadata": {
        "id": "77149622"
      },
      "source": [
        "print(title['Counts'].value_counts(), '\\n')    #Counts\n",
        "print(title['Frequency'].value_counts(), '\\n') #Mean "
      ],
      "id": "77149622",
      "execution_count": null,
      "outputs": []
    },
    {
      "cell_type": "code",
      "metadata": {
        "id": "a736f019"
      },
      "source": [
        "import seaborn as sns\n",
        "sns.set_style('white')\n",
        "%matplotlib inline"
      ],
      "id": "a736f019",
      "execution_count": null,
      "outputs": []
    },
    {
      "cell_type": "code",
      "metadata": {
        "id": "c211d6de"
      },
      "source": [
        "plt.figure(figsize=(10,4))\n",
        "title['Counts'].hist(bins=30)\n",
        "\n",
        "plt.figure(figsize=(10,4))\n",
        "title['Frequency'].hist(bins=80)"
      ],
      "id": "c211d6de",
      "execution_count": null,
      "outputs": []
    },
    {
      "cell_type": "code",
      "metadata": {
        "id": "fea608a5"
      },
      "source": [
        "sns.jointplot(x='Counts', y='Frequency', data=title,  alpha=0.6)"
      ],
      "id": "fea608a5",
      "execution_count": null,
      "outputs": []
    },
    {
      "cell_type": "code",
      "metadata": {
        "id": "c60a6d4a"
      },
      "source": [
        "#Mean value for main topic\n",
        "main = pd.DataFrame(latest_data.groupby('main topic')['Frequency'].mean().sort_values(ascending=False))\n",
        "#Count value for main topic\n",
        "main['Counts'] = pd.DataFrame(latest_data.groupby('main topic')['Frequency'].count())\n",
        "main"
      ],
      "id": "c60a6d4a",
      "execution_count": null,
      "outputs": []
    },
    {
      "cell_type": "code",
      "metadata": {
        "id": "89401d4c"
      },
      "source": [
        "#Show latest data\n",
        "print(latest_data['main topic'].value_counts(), '\\n')    #Counts\n",
        "\n",
        "#Show the counts for duplicate main topic\n",
        "#You may ignore this ...... Not sure if this is good or not\n",
        "print('Number of duplicated rows:', latest_data.duplicated(['main topic'], keep='first').value_counts(), '\\n')\n",
        "\n",
        "#Show where total duplicated main topic more than 5\n",
        "duplicate = latest_data['main topic'].value_counts()\n",
        "print(duplicate.loc[duplicate > 5])\n",
        "\n",
        "#Show where total duplicated main topic less than or equal to 5\n",
        "duplicate.loc[duplicate <= 5]\n"
      ],
      "id": "89401d4c",
      "execution_count": null,
      "outputs": []
    },
    {
      "cell_type": "code",
      "metadata": {
        "id": "98aab28c"
      },
      "source": [
        "print(main['Counts'].value_counts(), '\\n')    #Counts\n",
        "print(main['Frequency'].value_counts(), '\\n') #Mean "
      ],
      "id": "98aab28c",
      "execution_count": null,
      "outputs": []
    },
    {
      "cell_type": "code",
      "metadata": {
        "id": "decac2b5"
      },
      "source": [
        "plt.figure(figsize=(10,4))\n",
        "main['Counts'].hist(bins=30)\n",
        "\n",
        "plt.figure(figsize=(10,4))\n",
        "main['Frequency'].hist(bins=70)"
      ],
      "id": "decac2b5",
      "execution_count": null,
      "outputs": []
    },
    {
      "cell_type": "code",
      "metadata": {
        "id": "73a2e821"
      },
      "source": [
        "sns.jointplot(x='Counts', y='Frequency', data=main,  alpha=0.6)"
      ],
      "id": "73a2e821",
      "execution_count": null,
      "outputs": []
    },
    {
      "cell_type": "code",
      "metadata": {
        "id": "911f8beb"
      },
      "source": [
        "#Mean value for subtopic\n",
        "sub = pd.DataFrame(latest_data.groupby('subtopics')['Frequency'].mean().sort_values(ascending=False))\n",
        "#Count value for subtopic\n",
        "sub['Counts'] = pd.DataFrame(latest_data.groupby('subtopics')['Frequency'].count())\n",
        "sub"
      ],
      "id": "911f8beb",
      "execution_count": null,
      "outputs": []
    },
    {
      "cell_type": "code",
      "metadata": {
        "id": "276ac50b"
      },
      "source": [
        "print(sub['Counts'].value_counts(), '\\n')    #Counts\n",
        "print(sub['Frequency'].value_counts(), '\\n') #Mean "
      ],
      "id": "276ac50b",
      "execution_count": null,
      "outputs": []
    },
    {
      "cell_type": "code",
      "metadata": {
        "id": "18f2ff2c"
      },
      "source": [
        "plt.figure(figsize=(10,4))\n",
        "sub['Counts'].hist(bins=10)\n",
        "\n",
        "plt.figure(figsize=(10,4))\n",
        "sub['Frequency'].hist(bins=70)"
      ],
      "id": "18f2ff2c",
      "execution_count": null,
      "outputs": []
    },
    {
      "cell_type": "code",
      "metadata": {
        "id": "11b1db0c"
      },
      "source": [
        "sns.jointplot(x='Counts', y='Frequency', data=sub,  alpha=0.6)"
      ],
      "id": "11b1db0c",
      "execution_count": null,
      "outputs": []
    },
    {
      "cell_type": "markdown",
      "metadata": {
        "id": "8464ee45"
      },
      "source": [
        "## Extra EDA"
      ],
      "id": "8464ee45"
    },
    {
      "cell_type": "code",
      "metadata": {
        "id": "71f80e29"
      },
      "source": [
        "transaction = pd.read_csv(\"transactions.csv\", delimiter=\"|\")\n",
        "items = pd.read_csv(\"items.csv\", delimiter=\"|\")"
      ],
      "id": "71f80e29",
      "execution_count": null,
      "outputs": []
    },
    {
      "cell_type": "code",
      "metadata": {
        "id": "dc1fdb0d"
      },
      "source": [
        "data = pd.merge(transaction, items, on=[\"itemID\"])"
      ],
      "id": "dc1fdb0d",
      "execution_count": null,
      "outputs": []
    },
    {
      "cell_type": "code",
      "metadata": {
        "id": "9a57038b"
      },
      "source": [
        "data[\"Interest\"] = data[\"click\"] + data[\"basket\"]+ data[\"order\"]"
      ],
      "id": "9a57038b",
      "execution_count": null,
      "outputs": []
    },
    {
      "cell_type": "code",
      "metadata": {
        "id": "3881d050",
        "outputId": "e610c5de-2e5c-4c31-eebb-f00fbd829a42"
      },
      "source": [
        "##generate frequency\n",
        "test = data.value_counts(['itemID']).reset_index(name='Frequency')\n",
        "print(test.head())"
      ],
      "id": "3881d050",
      "execution_count": null,
      "outputs": [
        {
          "output_type": "stream",
          "text": [
            "   itemID  Frequency\n",
            "0   58522       2291\n",
            "1   66247       1775\n",
            "2   10666       1749\n",
            "3   44220       1687\n",
            "4   69185       1290\n"
          ],
          "name": "stdout"
        }
      ]
    },
    {
      "cell_type": "code",
      "metadata": {
        "id": "660690b5",
        "outputId": "75a0803f-9371-4cc2-8b49-981d3dc34cbb"
      },
      "source": [
        "#Merging frequency \n",
        "book_data = pd.merge(data, test, on=[\"itemID\"])\n",
        "book_data.head()"
      ],
      "id": "660690b5",
      "execution_count": null,
      "outputs": [
        {
          "output_type": "execute_result",
          "data": {
            "text/html": [
              "<div>\n",
              "<style scoped>\n",
              "    .dataframe tbody tr th:only-of-type {\n",
              "        vertical-align: middle;\n",
              "    }\n",
              "\n",
              "    .dataframe tbody tr th {\n",
              "        vertical-align: top;\n",
              "    }\n",
              "\n",
              "    .dataframe thead th {\n",
              "        text-align: right;\n",
              "    }\n",
              "</style>\n",
              "<table border=\"1\" class=\"dataframe\">\n",
              "  <thead>\n",
              "    <tr style=\"text-align: right;\">\n",
              "      <th></th>\n",
              "      <th>sessionID</th>\n",
              "      <th>itemID</th>\n",
              "      <th>click</th>\n",
              "      <th>basket</th>\n",
              "      <th>order</th>\n",
              "      <th>title</th>\n",
              "      <th>author</th>\n",
              "      <th>publisher</th>\n",
              "      <th>main topic</th>\n",
              "      <th>subtopics</th>\n",
              "      <th>Interest</th>\n",
              "      <th>Frequency</th>\n",
              "    </tr>\n",
              "  </thead>\n",
              "  <tbody>\n",
              "    <tr>\n",
              "      <th>0</th>\n",
              "      <td>0</td>\n",
              "      <td>21310</td>\n",
              "      <td>1</td>\n",
              "      <td>0</td>\n",
              "      <td>0</td>\n",
              "      <td>Princess Poppy: The Big Mix Up</td>\n",
              "      <td>Janey Louise Jones</td>\n",
              "      <td>Penguin Random House Children's UK</td>\n",
              "      <td>YFB</td>\n",
              "      <td>[5AH]</td>\n",
              "      <td>1</td>\n",
              "      <td>3</td>\n",
              "    </tr>\n",
              "    <tr>\n",
              "      <th>1</th>\n",
              "      <td>89272</td>\n",
              "      <td>21310</td>\n",
              "      <td>1</td>\n",
              "      <td>0</td>\n",
              "      <td>0</td>\n",
              "      <td>Princess Poppy: The Big Mix Up</td>\n",
              "      <td>Janey Louise Jones</td>\n",
              "      <td>Penguin Random House Children's UK</td>\n",
              "      <td>YFB</td>\n",
              "      <td>[5AH]</td>\n",
              "      <td>1</td>\n",
              "      <td>3</td>\n",
              "    </tr>\n",
              "    <tr>\n",
              "      <th>2</th>\n",
              "      <td>183856</td>\n",
              "      <td>21310</td>\n",
              "      <td>1</td>\n",
              "      <td>0</td>\n",
              "      <td>0</td>\n",
              "      <td>Princess Poppy: The Big Mix Up</td>\n",
              "      <td>Janey Louise Jones</td>\n",
              "      <td>Penguin Random House Children's UK</td>\n",
              "      <td>YFB</td>\n",
              "      <td>[5AH]</td>\n",
              "      <td>1</td>\n",
              "      <td>3</td>\n",
              "    </tr>\n",
              "    <tr>\n",
              "      <th>3</th>\n",
              "      <td>1</td>\n",
              "      <td>73018</td>\n",
              "      <td>1</td>\n",
              "      <td>0</td>\n",
              "      <td>0</td>\n",
              "      <td>Einfach zeichnen! Step by Step</td>\n",
              "      <td>Wiebke Krabbe</td>\n",
              "      <td>Schwager und Steinlein</td>\n",
              "      <td>AGZ</td>\n",
              "      <td>[5AJ,AGZ,WFA,YBG,YBL,YNA,YPA]</td>\n",
              "      <td>1</td>\n",
              "      <td>59</td>\n",
              "    </tr>\n",
              "    <tr>\n",
              "      <th>4</th>\n",
              "      <td>771</td>\n",
              "      <td>73018</td>\n",
              "      <td>1</td>\n",
              "      <td>0</td>\n",
              "      <td>0</td>\n",
              "      <td>Einfach zeichnen! Step by Step</td>\n",
              "      <td>Wiebke Krabbe</td>\n",
              "      <td>Schwager und Steinlein</td>\n",
              "      <td>AGZ</td>\n",
              "      <td>[5AJ,AGZ,WFA,YBG,YBL,YNA,YPA]</td>\n",
              "      <td>1</td>\n",
              "      <td>59</td>\n",
              "    </tr>\n",
              "  </tbody>\n",
              "</table>\n",
              "</div>"
            ],
            "text/plain": [
              "   sessionID  itemID  click  basket  order                           title  \\\n",
              "0          0   21310      1       0      0  Princess Poppy: The Big Mix Up   \n",
              "1      89272   21310      1       0      0  Princess Poppy: The Big Mix Up   \n",
              "2     183856   21310      1       0      0  Princess Poppy: The Big Mix Up   \n",
              "3          1   73018      1       0      0  Einfach zeichnen! Step by Step   \n",
              "4        771   73018      1       0      0  Einfach zeichnen! Step by Step   \n",
              "\n",
              "               author                           publisher main topic  \\\n",
              "0  Janey Louise Jones  Penguin Random House Children's UK        YFB   \n",
              "1  Janey Louise Jones  Penguin Random House Children's UK        YFB   \n",
              "2  Janey Louise Jones  Penguin Random House Children's UK        YFB   \n",
              "3       Wiebke Krabbe              Schwager und Steinlein        AGZ   \n",
              "4       Wiebke Krabbe              Schwager und Steinlein        AGZ   \n",
              "\n",
              "                       subtopics  Interest  Frequency  \n",
              "0                          [5AH]         1          3  \n",
              "1                          [5AH]         1          3  \n",
              "2                          [5AH]         1          3  \n",
              "3  [5AJ,AGZ,WFA,YBG,YBL,YNA,YPA]         1         59  \n",
              "4  [5AJ,AGZ,WFA,YBG,YBL,YNA,YPA]         1         59  "
            ]
          },
          "metadata": {
            "tags": []
          },
          "execution_count": 96
        }
      ]
    },
    {
      "cell_type": "code",
      "metadata": {
        "id": "62b2491e"
      },
      "source": [
        "## removing unnnessesarry column\n",
        "del book_data[\"click\"]\n",
        "del book_data[\"basket\"]\n",
        "del book_data[\"order\"]"
      ],
      "id": "62b2491e",
      "execution_count": null,
      "outputs": []
    },
    {
      "cell_type": "code",
      "metadata": {
        "id": "6aefc58c",
        "outputId": "6afb9d87-8f74-4404-af26-0055d5a8bebc"
      },
      "source": [
        "book_data.head()"
      ],
      "id": "6aefc58c",
      "execution_count": null,
      "outputs": [
        {
          "output_type": "execute_result",
          "data": {
            "text/html": [
              "<div>\n",
              "<style scoped>\n",
              "    .dataframe tbody tr th:only-of-type {\n",
              "        vertical-align: middle;\n",
              "    }\n",
              "\n",
              "    .dataframe tbody tr th {\n",
              "        vertical-align: top;\n",
              "    }\n",
              "\n",
              "    .dataframe thead th {\n",
              "        text-align: right;\n",
              "    }\n",
              "</style>\n",
              "<table border=\"1\" class=\"dataframe\">\n",
              "  <thead>\n",
              "    <tr style=\"text-align: right;\">\n",
              "      <th></th>\n",
              "      <th>sessionID</th>\n",
              "      <th>itemID</th>\n",
              "      <th>title</th>\n",
              "      <th>author</th>\n",
              "      <th>publisher</th>\n",
              "      <th>main topic</th>\n",
              "      <th>subtopics</th>\n",
              "      <th>Interest</th>\n",
              "      <th>Frequency</th>\n",
              "    </tr>\n",
              "  </thead>\n",
              "  <tbody>\n",
              "    <tr>\n",
              "      <th>0</th>\n",
              "      <td>0</td>\n",
              "      <td>21310</td>\n",
              "      <td>Princess Poppy: The Big Mix Up</td>\n",
              "      <td>Janey Louise Jones</td>\n",
              "      <td>Penguin Random House Children's UK</td>\n",
              "      <td>YFB</td>\n",
              "      <td>[5AH]</td>\n",
              "      <td>1</td>\n",
              "      <td>3</td>\n",
              "    </tr>\n",
              "    <tr>\n",
              "      <th>1</th>\n",
              "      <td>89272</td>\n",
              "      <td>21310</td>\n",
              "      <td>Princess Poppy: The Big Mix Up</td>\n",
              "      <td>Janey Louise Jones</td>\n",
              "      <td>Penguin Random House Children's UK</td>\n",
              "      <td>YFB</td>\n",
              "      <td>[5AH]</td>\n",
              "      <td>1</td>\n",
              "      <td>3</td>\n",
              "    </tr>\n",
              "    <tr>\n",
              "      <th>2</th>\n",
              "      <td>183856</td>\n",
              "      <td>21310</td>\n",
              "      <td>Princess Poppy: The Big Mix Up</td>\n",
              "      <td>Janey Louise Jones</td>\n",
              "      <td>Penguin Random House Children's UK</td>\n",
              "      <td>YFB</td>\n",
              "      <td>[5AH]</td>\n",
              "      <td>1</td>\n",
              "      <td>3</td>\n",
              "    </tr>\n",
              "    <tr>\n",
              "      <th>3</th>\n",
              "      <td>1</td>\n",
              "      <td>73018</td>\n",
              "      <td>Einfach zeichnen! Step by Step</td>\n",
              "      <td>Wiebke Krabbe</td>\n",
              "      <td>Schwager und Steinlein</td>\n",
              "      <td>AGZ</td>\n",
              "      <td>[5AJ,AGZ,WFA,YBG,YBL,YNA,YPA]</td>\n",
              "      <td>1</td>\n",
              "      <td>59</td>\n",
              "    </tr>\n",
              "    <tr>\n",
              "      <th>4</th>\n",
              "      <td>771</td>\n",
              "      <td>73018</td>\n",
              "      <td>Einfach zeichnen! Step by Step</td>\n",
              "      <td>Wiebke Krabbe</td>\n",
              "      <td>Schwager und Steinlein</td>\n",
              "      <td>AGZ</td>\n",
              "      <td>[5AJ,AGZ,WFA,YBG,YBL,YNA,YPA]</td>\n",
              "      <td>1</td>\n",
              "      <td>59</td>\n",
              "    </tr>\n",
              "  </tbody>\n",
              "</table>\n",
              "</div>"
            ],
            "text/plain": [
              "   sessionID  itemID                           title              author  \\\n",
              "0          0   21310  Princess Poppy: The Big Mix Up  Janey Louise Jones   \n",
              "1      89272   21310  Princess Poppy: The Big Mix Up  Janey Louise Jones   \n",
              "2     183856   21310  Princess Poppy: The Big Mix Up  Janey Louise Jones   \n",
              "3          1   73018  Einfach zeichnen! Step by Step       Wiebke Krabbe   \n",
              "4        771   73018  Einfach zeichnen! Step by Step       Wiebke Krabbe   \n",
              "\n",
              "                            publisher main topic  \\\n",
              "0  Penguin Random House Children's UK        YFB   \n",
              "1  Penguin Random House Children's UK        YFB   \n",
              "2  Penguin Random House Children's UK        YFB   \n",
              "3              Schwager und Steinlein        AGZ   \n",
              "4              Schwager und Steinlein        AGZ   \n",
              "\n",
              "                       subtopics  Interest  Frequency  \n",
              "0                          [5AH]         1          3  \n",
              "1                          [5AH]         1          3  \n",
              "2                          [5AH]         1          3  \n",
              "3  [5AJ,AGZ,WFA,YBG,YBL,YNA,YPA]         1         59  \n",
              "4  [5AJ,AGZ,WFA,YBG,YBL,YNA,YPA]         1         59  "
            ]
          },
          "metadata": {
            "tags": []
          },
          "execution_count": 98
        }
      ]
    },
    {
      "cell_type": "code",
      "metadata": {
        "id": "48a423ec"
      },
      "source": [
        "import seaborn as sns\n",
        "sns.set_style('white')\n",
        "%matplotlib inline"
      ],
      "id": "48a423ec",
      "execution_count": null,
      "outputs": []
    },
    {
      "cell_type": "code",
      "metadata": {
        "id": "03e03cf2",
        "outputId": "0d277ae8-a090-4b11-8596-95a8f5b53677"
      },
      "source": [
        "book_data.groupby('title')['Interest'].mean().sort_values(ascending=False).head()"
      ],
      "id": "03e03cf2",
      "execution_count": null,
      "outputs": [
        {
          "output_type": "execute_result",
          "data": {
            "text/plain": [
              "title\n",
              "Aventurische Tiergefährten - Taschenbuch    38.5\n",
              "Ultima Ratio - der letzte Tag!              21.0\n",
              "Fußballstar 2: WM-Fieber                    17.0\n",
              "Eulen                                       13.0\n",
              "Email ans Universum                         13.0\n",
              "Name: Interest, dtype: float64"
            ]
          },
          "metadata": {
            "tags": []
          },
          "execution_count": 118
        }
      ]
    },
    {
      "cell_type": "code",
      "metadata": {
        "id": "c133c95a",
        "outputId": "237e4558-e979-4ee1-97cf-3518bffb4b93"
      },
      "source": [
        "book_data.groupby('title')['Interest'].count().sort_values(ascending=False).head()"
      ],
      "id": "c133c95a",
      "execution_count": null,
      "outputs": [
        {
          "output_type": "execute_result",
          "data": {
            "text/plain": [
              "title\n",
              "Harry Potter Box Set: The Complete Collection (Children's Paperback)                        2291\n",
              "Der Herr der Ringe                                                                          2066\n",
              "Der Geist in der British Library und andere Geschichten aus dem Folly                       1775\n",
              "Aus den Filmen zu Harry Potter: Eine magische Reise: Alles für deine Fahrt nach Hogwarts    1749\n",
              "Fingerstempel-Spaß Tiere                                                                    1687\n",
              "Name: Interest, dtype: int64"
            ]
          },
          "metadata": {
            "tags": []
          },
          "execution_count": 120
        }
      ]
    },
    {
      "cell_type": "code",
      "metadata": {
        "id": "75ea354d",
        "outputId": "147cc3ea-feb5-45c7-ea00-208d8e007e97"
      },
      "source": [
        "# interests = pd.DataFrame(book_data.groupby('title')['Interest'].mean())\n",
        "# interests = pd.DataFrame(book_data.groupby('title')['click'].mean())\n",
        "# #interests = pd.DataFrame(book_data.groupby('title')['basket'].mean())\n",
        "interests = pd.DataFrame(book_data.groupby('title')['Interest'].mean())\n",
        "interests.head()"
      ],
      "id": "75ea354d",
      "execution_count": null,
      "outputs": [
        {
          "output_type": "execute_result",
          "data": {
            "text/html": [
              "<div>\n",
              "<style scoped>\n",
              "    .dataframe tbody tr th:only-of-type {\n",
              "        vertical-align: middle;\n",
              "    }\n",
              "\n",
              "    .dataframe tbody tr th {\n",
              "        vertical-align: top;\n",
              "    }\n",
              "\n",
              "    .dataframe thead th {\n",
              "        text-align: right;\n",
              "    }\n",
              "</style>\n",
              "<table border=\"1\" class=\"dataframe\">\n",
              "  <thead>\n",
              "    <tr style=\"text-align: right;\">\n",
              "      <th></th>\n",
              "      <th>Interest</th>\n",
              "    </tr>\n",
              "    <tr>\n",
              "      <th>title</th>\n",
              "      <th></th>\n",
              "    </tr>\n",
              "  </thead>\n",
              "  <tbody>\n",
              "    <tr>\n",
              "      <th>#Basteln for Future</th>\n",
              "      <td>1.227273</td>\n",
              "    </tr>\n",
              "    <tr>\n",
              "      <th>#Instacat</th>\n",
              "      <td>1.000000</td>\n",
              "    </tr>\n",
              "    <tr>\n",
              "      <th>#Sticker for Future</th>\n",
              "      <td>1.000000</td>\n",
              "    </tr>\n",
              "    <tr>\n",
              "      <th>#Wir bleiben zuhause Kindermitmachbuch</th>\n",
              "      <td>1.418269</td>\n",
              "    </tr>\n",
              "    <tr>\n",
              "      <th>#selbstschuld - Was heißt schon privat</th>\n",
              "      <td>1.545455</td>\n",
              "    </tr>\n",
              "  </tbody>\n",
              "</table>\n",
              "</div>"
            ],
            "text/plain": [
              "                                        Interest\n",
              "title                                           \n",
              "#Basteln for Future                     1.227273\n",
              "#Instacat                               1.000000\n",
              "#Sticker for Future                     1.000000\n",
              "#Wir bleiben zuhause Kindermitmachbuch  1.418269\n",
              "#selbstschuld - Was heißt schon privat  1.545455"
            ]
          },
          "metadata": {
            "tags": []
          },
          "execution_count": 122
        }
      ]
    },
    {
      "cell_type": "code",
      "metadata": {
        "id": "4a176573",
        "outputId": "4d48e694-76ec-496a-d95b-b232c4ada13e"
      },
      "source": [
        "# interests['number of interests'] = pd.DataFrame(book_data.groupby('title')['Interest'].count())\n",
        "# interests['number of click'] = pd.DataFrame(book_data.groupby('title')['click'].count())\n",
        "# interests['number of basket'] = pd.DataFrame(book_data.groupby('title')['basket'].count())\n",
        "interests['number of order'] = pd.DataFrame(book_data.groupby('title')['Interest'].count())\n",
        "interests.head()"
      ],
      "id": "4a176573",
      "execution_count": null,
      "outputs": [
        {
          "output_type": "execute_result",
          "data": {
            "text/html": [
              "<div>\n",
              "<style scoped>\n",
              "    .dataframe tbody tr th:only-of-type {\n",
              "        vertical-align: middle;\n",
              "    }\n",
              "\n",
              "    .dataframe tbody tr th {\n",
              "        vertical-align: top;\n",
              "    }\n",
              "\n",
              "    .dataframe thead th {\n",
              "        text-align: right;\n",
              "    }\n",
              "</style>\n",
              "<table border=\"1\" class=\"dataframe\">\n",
              "  <thead>\n",
              "    <tr style=\"text-align: right;\">\n",
              "      <th></th>\n",
              "      <th>Interest</th>\n",
              "      <th>number of order</th>\n",
              "    </tr>\n",
              "    <tr>\n",
              "      <th>title</th>\n",
              "      <th></th>\n",
              "      <th></th>\n",
              "    </tr>\n",
              "  </thead>\n",
              "  <tbody>\n",
              "    <tr>\n",
              "      <th>#Basteln for Future</th>\n",
              "      <td>1.227273</td>\n",
              "      <td>22</td>\n",
              "    </tr>\n",
              "    <tr>\n",
              "      <th>#Instacat</th>\n",
              "      <td>1.000000</td>\n",
              "      <td>5</td>\n",
              "    </tr>\n",
              "    <tr>\n",
              "      <th>#Sticker for Future</th>\n",
              "      <td>1.000000</td>\n",
              "      <td>3</td>\n",
              "    </tr>\n",
              "    <tr>\n",
              "      <th>#Wir bleiben zuhause Kindermitmachbuch</th>\n",
              "      <td>1.418269</td>\n",
              "      <td>208</td>\n",
              "    </tr>\n",
              "    <tr>\n",
              "      <th>#selbstschuld - Was heißt schon privat</th>\n",
              "      <td>1.545455</td>\n",
              "      <td>11</td>\n",
              "    </tr>\n",
              "  </tbody>\n",
              "</table>\n",
              "</div>"
            ],
            "text/plain": [
              "                                        Interest  number of order\n",
              "title                                                            \n",
              "#Basteln for Future                     1.227273               22\n",
              "#Instacat                               1.000000                5\n",
              "#Sticker for Future                     1.000000                3\n",
              "#Wir bleiben zuhause Kindermitmachbuch  1.418269              208\n",
              "#selbstschuld - Was heißt schon privat  1.545455               11"
            ]
          },
          "metadata": {
            "tags": []
          },
          "execution_count": 124
        }
      ]
    },
    {
      "cell_type": "code",
      "metadata": {
        "id": "efdd09be",
        "outputId": "cd39059d-ade8-40e7-ffea-666049433cc1"
      },
      "source": [
        "plt.figure(figsize=(10,4))\n",
        "interests['number of interests'].hist(bins=70)"
      ],
      "id": "efdd09be",
      "execution_count": null,
      "outputs": [
        {
          "output_type": "execute_result",
          "data": {
            "text/plain": [
              "<AxesSubplot:>"
            ]
          },
          "metadata": {
            "tags": []
          },
          "execution_count": 110
        },
        {
          "output_type": "display_data",
          "data": {
            "image/png": "[encoded data removed]",
            "text/plain": [
              "<Figure size 720x288 with 1 Axes>"
            ]
          },
          "metadata": {
            "tags": [],
            "needs_background": "light"
          }
        }
      ]
    },
    {
      "cell_type": "code",
      "metadata": {
        "id": "fd54343d",
        "outputId": "68bba3f3-a61f-44a4-c472-5dfc6067c4ed"
      },
      "source": [
        "plt.figure(figsize=(10,4))\n",
        "interests['Interest'].hist(bins=70)"
      ],
      "id": "fd54343d",
      "execution_count": null,
      "outputs": [
        {
          "output_type": "execute_result",
          "data": {
            "text/plain": [
              "<AxesSubplot:>"
            ]
          },
          "metadata": {
            "tags": []
          },
          "execution_count": 105
        },
        {
          "output_type": "display_data",
          "data": {
            "image/png": "[encoded data removed]",
            "text/plain": [
              "<Figure size 720x288 with 1 Axes>"
            ]
          },
          "metadata": {
            "tags": [],
            "needs_background": "light"
          }
        }
      ]
    },
    {
      "cell_type": "code",
      "metadata": {
        "id": "44922905",
        "outputId": "cef15032-3fec-439e-d85a-ebc2e6b1ac90"
      },
      "source": [
        "sns.jointplot(x='Interest', y='number of interests', data=interests,  alpha=0.5)"
      ],
      "id": "44922905",
      "execution_count": null,
      "outputs": [
        {
          "output_type": "execute_result",
          "data": {
            "text/plain": [
              "<seaborn.axisgrid.JointGrid at 0x1ddcd3f5358>"
            ]
          },
          "metadata": {
            "tags": []
          },
          "execution_count": 112
        },
        {
          "output_type": "display_data",
          "data": {
            "image/png": "[encoded data removed]",
            "text/plain": [
              "<Figure size 432x432 with 3 Axes>"
            ]
          },
          "metadata": {
            "tags": [],
            "needs_background": "light"
          }
        }
      ]
    },
    {
      "cell_type": "code",
      "metadata": {
        "id": "46091f54",
        "outputId": "03d8d415-e368-4989-94cd-a6ecc8110792"
      },
      "source": [
        "sns.jointplot(x='order', y='number of basket', data=interests,  alpha=0.5)"
      ],
      "id": "46091f54",
      "execution_count": null,
      "outputs": [
        {
          "output_type": "error",
          "ename": "ValueError",
          "evalue": "Could not interpret value `order` for parameter `x`",
          "traceback": [
            "\u001b[1;31m---------------------------------------------------------------------------\u001b[0m",
            "\u001b[1;31mValueError\u001b[0m                                Traceback (most recent call last)",
            "\u001b[1;32m<ipython-input-114-71ae8c87e2a5>\u001b[0m in \u001b[0;36m<module>\u001b[1;34m\u001b[0m\n\u001b[1;32m----> 1\u001b[1;33m \u001b[0msns\u001b[0m\u001b[1;33m.\u001b[0m\u001b[0mjointplot\u001b[0m\u001b[1;33m(\u001b[0m\u001b[0mx\u001b[0m\u001b[1;33m=\u001b[0m\u001b[1;34m'order'\u001b[0m\u001b[1;33m,\u001b[0m \u001b[0my\u001b[0m\u001b[1;33m=\u001b[0m\u001b[1;34m'number of basket'\u001b[0m\u001b[1;33m,\u001b[0m \u001b[0mdata\u001b[0m\u001b[1;33m=\u001b[0m\u001b[0minterests\u001b[0m\u001b[1;33m,\u001b[0m  \u001b[0malpha\u001b[0m\u001b[1;33m=\u001b[0m\u001b[1;36m0.5\u001b[0m\u001b[1;33m)\u001b[0m\u001b[1;33m\u001b[0m\u001b[1;33m\u001b[0m\u001b[0m\n\u001b[0m",
            "\u001b[1;32m~\\.conda\\envs\\python36\\lib\\site-packages\\seaborn\\_decorators.py\u001b[0m in \u001b[0;36minner_f\u001b[1;34m(*args, **kwargs)\u001b[0m\n\u001b[0;32m     44\u001b[0m             )\n\u001b[0;32m     45\u001b[0m         \u001b[0mkwargs\u001b[0m\u001b[1;33m.\u001b[0m\u001b[0mupdate\u001b[0m\u001b[1;33m(\u001b[0m\u001b[1;33m{\u001b[0m\u001b[0mk\u001b[0m\u001b[1;33m:\u001b[0m \u001b[0marg\u001b[0m \u001b[1;32mfor\u001b[0m \u001b[0mk\u001b[0m\u001b[1;33m,\u001b[0m \u001b[0marg\u001b[0m \u001b[1;32min\u001b[0m \u001b[0mzip\u001b[0m\u001b[1;33m(\u001b[0m\u001b[0msig\u001b[0m\u001b[1;33m.\u001b[0m\u001b[0mparameters\u001b[0m\u001b[1;33m,\u001b[0m \u001b[0margs\u001b[0m\u001b[1;33m)\u001b[0m\u001b[1;33m}\u001b[0m\u001b[1;33m)\u001b[0m\u001b[1;33m\u001b[0m\u001b[1;33m\u001b[0m\u001b[0m\n\u001b[1;32m---> 46\u001b[1;33m         \u001b[1;32mreturn\u001b[0m \u001b[0mf\u001b[0m\u001b[1;33m(\u001b[0m\u001b[1;33m**\u001b[0m\u001b[0mkwargs\u001b[0m\u001b[1;33m)\u001b[0m\u001b[1;33m\u001b[0m\u001b[1;33m\u001b[0m\u001b[0m\n\u001b[0m\u001b[0;32m     47\u001b[0m     \u001b[1;32mreturn\u001b[0m \u001b[0minner_f\u001b[0m\u001b[1;33m\u001b[0m\u001b[1;33m\u001b[0m\u001b[0m\n\u001b[0;32m     48\u001b[0m \u001b[1;33m\u001b[0m\u001b[0m\n",
            "\u001b[1;32m~\\.conda\\envs\\python36\\lib\\site-packages\\seaborn\\axisgrid.py\u001b[0m in \u001b[0;36mjointplot\u001b[1;34m(x, y, data, kind, color, height, ratio, space, dropna, xlim, ylim, marginal_ticks, joint_kws, marginal_kws, hue, palette, hue_order, hue_norm, **kwargs)\u001b[0m\n\u001b[0;32m   2123\u001b[0m         \u001b[0mpalette\u001b[0m\u001b[1;33m=\u001b[0m\u001b[0mpalette\u001b[0m\u001b[1;33m,\u001b[0m \u001b[0mhue_order\u001b[0m\u001b[1;33m=\u001b[0m\u001b[0mhue_order\u001b[0m\u001b[1;33m,\u001b[0m \u001b[0mhue_norm\u001b[0m\u001b[1;33m=\u001b[0m\u001b[0mhue_norm\u001b[0m\u001b[1;33m,\u001b[0m\u001b[1;33m\u001b[0m\u001b[1;33m\u001b[0m\u001b[0m\n\u001b[0;32m   2124\u001b[0m         \u001b[0mdropna\u001b[0m\u001b[1;33m=\u001b[0m\u001b[0mdropna\u001b[0m\u001b[1;33m,\u001b[0m \u001b[0mheight\u001b[0m\u001b[1;33m=\u001b[0m\u001b[0mheight\u001b[0m\u001b[1;33m,\u001b[0m \u001b[0mratio\u001b[0m\u001b[1;33m=\u001b[0m\u001b[0mratio\u001b[0m\u001b[1;33m,\u001b[0m \u001b[0mspace\u001b[0m\u001b[1;33m=\u001b[0m\u001b[0mspace\u001b[0m\u001b[1;33m,\u001b[0m\u001b[1;33m\u001b[0m\u001b[1;33m\u001b[0m\u001b[0m\n\u001b[1;32m-> 2125\u001b[1;33m         \u001b[0mxlim\u001b[0m\u001b[1;33m=\u001b[0m\u001b[0mxlim\u001b[0m\u001b[1;33m,\u001b[0m \u001b[0mylim\u001b[0m\u001b[1;33m=\u001b[0m\u001b[0mylim\u001b[0m\u001b[1;33m,\u001b[0m \u001b[0mmarginal_ticks\u001b[0m\u001b[1;33m=\u001b[0m\u001b[0mmarginal_ticks\u001b[0m\u001b[1;33m,\u001b[0m\u001b[1;33m\u001b[0m\u001b[1;33m\u001b[0m\u001b[0m\n\u001b[0m\u001b[0;32m   2126\u001b[0m     )\n\u001b[0;32m   2127\u001b[0m \u001b[1;33m\u001b[0m\u001b[0m\n",
            "\u001b[1;32m~\\.conda\\envs\\python36\\lib\\site-packages\\seaborn\\_decorators.py\u001b[0m in \u001b[0;36minner_f\u001b[1;34m(*args, **kwargs)\u001b[0m\n\u001b[0;32m     44\u001b[0m             )\n\u001b[0;32m     45\u001b[0m         \u001b[0mkwargs\u001b[0m\u001b[1;33m.\u001b[0m\u001b[0mupdate\u001b[0m\u001b[1;33m(\u001b[0m\u001b[1;33m{\u001b[0m\u001b[0mk\u001b[0m\u001b[1;33m:\u001b[0m \u001b[0marg\u001b[0m \u001b[1;32mfor\u001b[0m \u001b[0mk\u001b[0m\u001b[1;33m,\u001b[0m \u001b[0marg\u001b[0m \u001b[1;32min\u001b[0m \u001b[0mzip\u001b[0m\u001b[1;33m(\u001b[0m\u001b[0msig\u001b[0m\u001b[1;33m.\u001b[0m\u001b[0mparameters\u001b[0m\u001b[1;33m,\u001b[0m \u001b[0margs\u001b[0m\u001b[1;33m)\u001b[0m\u001b[1;33m}\u001b[0m\u001b[1;33m)\u001b[0m\u001b[1;33m\u001b[0m\u001b[1;33m\u001b[0m\u001b[0m\n\u001b[1;32m---> 46\u001b[1;33m         \u001b[1;32mreturn\u001b[0m \u001b[0mf\u001b[0m\u001b[1;33m(\u001b[0m\u001b[1;33m**\u001b[0m\u001b[0mkwargs\u001b[0m\u001b[1;33m)\u001b[0m\u001b[1;33m\u001b[0m\u001b[1;33m\u001b[0m\u001b[0m\n\u001b[0m\u001b[0;32m     47\u001b[0m     \u001b[1;32mreturn\u001b[0m \u001b[0minner_f\u001b[0m\u001b[1;33m\u001b[0m\u001b[1;33m\u001b[0m\u001b[0m\n\u001b[0;32m     48\u001b[0m \u001b[1;33m\u001b[0m\u001b[0m\n",
            "\u001b[1;32m~\\.conda\\envs\\python36\\lib\\site-packages\\seaborn\\axisgrid.py\u001b[0m in \u001b[0;36m__init__\u001b[1;34m(self, x, y, data, height, ratio, space, dropna, xlim, ylim, size, marginal_ticks, hue, palette, hue_order, hue_norm)\u001b[0m\n\u001b[0;32m   1628\u001b[0m \u001b[1;33m\u001b[0m\u001b[0m\n\u001b[0;32m   1629\u001b[0m         \u001b[1;31m# Process the input variables\u001b[0m\u001b[1;33m\u001b[0m\u001b[1;33m\u001b[0m\u001b[1;33m\u001b[0m\u001b[0m\n\u001b[1;32m-> 1630\u001b[1;33m         \u001b[0mp\u001b[0m \u001b[1;33m=\u001b[0m \u001b[0mVectorPlotter\u001b[0m\u001b[1;33m(\u001b[0m\u001b[0mdata\u001b[0m\u001b[1;33m=\u001b[0m\u001b[0mdata\u001b[0m\u001b[1;33m,\u001b[0m \u001b[0mvariables\u001b[0m\u001b[1;33m=\u001b[0m\u001b[0mdict\u001b[0m\u001b[1;33m(\u001b[0m\u001b[0mx\u001b[0m\u001b[1;33m=\u001b[0m\u001b[0mx\u001b[0m\u001b[1;33m,\u001b[0m \u001b[0my\u001b[0m\u001b[1;33m=\u001b[0m\u001b[0my\u001b[0m\u001b[1;33m,\u001b[0m \u001b[0mhue\u001b[0m\u001b[1;33m=\u001b[0m\u001b[0mhue\u001b[0m\u001b[1;33m)\u001b[0m\u001b[1;33m)\u001b[0m\u001b[1;33m\u001b[0m\u001b[1;33m\u001b[0m\u001b[0m\n\u001b[0m\u001b[0;32m   1631\u001b[0m         \u001b[0mplot_data\u001b[0m \u001b[1;33m=\u001b[0m \u001b[0mp\u001b[0m\u001b[1;33m.\u001b[0m\u001b[0mplot_data\u001b[0m\u001b[1;33m.\u001b[0m\u001b[0mloc\u001b[0m\u001b[1;33m[\u001b[0m\u001b[1;33m:\u001b[0m\u001b[1;33m,\u001b[0m \u001b[0mp\u001b[0m\u001b[1;33m.\u001b[0m\u001b[0mplot_data\u001b[0m\u001b[1;33m.\u001b[0m\u001b[0mnotna\u001b[0m\u001b[1;33m(\u001b[0m\u001b[1;33m)\u001b[0m\u001b[1;33m.\u001b[0m\u001b[0many\u001b[0m\u001b[1;33m(\u001b[0m\u001b[1;33m)\u001b[0m\u001b[1;33m]\u001b[0m\u001b[1;33m\u001b[0m\u001b[1;33m\u001b[0m\u001b[0m\n\u001b[0;32m   1632\u001b[0m \u001b[1;33m\u001b[0m\u001b[0m\n",
            "\u001b[1;32m~\\.conda\\envs\\python36\\lib\\site-packages\\seaborn\\_core.py\u001b[0m in \u001b[0;36m__init__\u001b[1;34m(self, data, variables)\u001b[0m\n\u001b[0;32m    602\u001b[0m     \u001b[1;32mdef\u001b[0m \u001b[0m__init__\u001b[0m\u001b[1;33m(\u001b[0m\u001b[0mself\u001b[0m\u001b[1;33m,\u001b[0m \u001b[0mdata\u001b[0m\u001b[1;33m=\u001b[0m\u001b[1;32mNone\u001b[0m\u001b[1;33m,\u001b[0m \u001b[0mvariables\u001b[0m\u001b[1;33m=\u001b[0m\u001b[1;33m{\u001b[0m\u001b[1;33m}\u001b[0m\u001b[1;33m)\u001b[0m\u001b[1;33m:\u001b[0m\u001b[1;33m\u001b[0m\u001b[1;33m\u001b[0m\u001b[0m\n\u001b[0;32m    603\u001b[0m \u001b[1;33m\u001b[0m\u001b[0m\n\u001b[1;32m--> 604\u001b[1;33m         \u001b[0mself\u001b[0m\u001b[1;33m.\u001b[0m\u001b[0massign_variables\u001b[0m\u001b[1;33m(\u001b[0m\u001b[0mdata\u001b[0m\u001b[1;33m,\u001b[0m \u001b[0mvariables\u001b[0m\u001b[1;33m)\u001b[0m\u001b[1;33m\u001b[0m\u001b[1;33m\u001b[0m\u001b[0m\n\u001b[0m\u001b[0;32m    605\u001b[0m \u001b[1;33m\u001b[0m\u001b[0m\n\u001b[0;32m    606\u001b[0m         \u001b[1;32mfor\u001b[0m \u001b[0mvar\u001b[0m\u001b[1;33m,\u001b[0m \u001b[0mcls\u001b[0m \u001b[1;32min\u001b[0m \u001b[0mself\u001b[0m\u001b[1;33m.\u001b[0m\u001b[0m_semantic_mappings\u001b[0m\u001b[1;33m.\u001b[0m\u001b[0mitems\u001b[0m\u001b[1;33m(\u001b[0m\u001b[1;33m)\u001b[0m\u001b[1;33m:\u001b[0m\u001b[1;33m\u001b[0m\u001b[1;33m\u001b[0m\u001b[0m\n",
            "\u001b[1;32m~\\.conda\\envs\\python36\\lib\\site-packages\\seaborn\\_core.py\u001b[0m in \u001b[0;36massign_variables\u001b[1;34m(self, data, variables)\u001b[0m\n\u001b[0;32m    666\u001b[0m             \u001b[0mself\u001b[0m\u001b[1;33m.\u001b[0m\u001b[0minput_format\u001b[0m \u001b[1;33m=\u001b[0m \u001b[1;34m\"long\"\u001b[0m\u001b[1;33m\u001b[0m\u001b[1;33m\u001b[0m\u001b[0m\n\u001b[0;32m    667\u001b[0m             plot_data, variables = self._assign_variables_longform(\n\u001b[1;32m--> 668\u001b[1;33m                 \u001b[0mdata\u001b[0m\u001b[1;33m,\u001b[0m \u001b[1;33m**\u001b[0m\u001b[0mvariables\u001b[0m\u001b[1;33m,\u001b[0m\u001b[1;33m\u001b[0m\u001b[1;33m\u001b[0m\u001b[0m\n\u001b[0m\u001b[0;32m    669\u001b[0m             )\n\u001b[0;32m    670\u001b[0m \u001b[1;33m\u001b[0m\u001b[0m\n",
            "\u001b[1;32m~\\.conda\\envs\\python36\\lib\\site-packages\\seaborn\\_core.py\u001b[0m in \u001b[0;36m_assign_variables_longform\u001b[1;34m(self, data, **kwargs)\u001b[0m\n\u001b[0;32m    900\u001b[0m \u001b[1;33m\u001b[0m\u001b[0m\n\u001b[0;32m    901\u001b[0m                 \u001b[0merr\u001b[0m \u001b[1;33m=\u001b[0m \u001b[1;34mf\"Could not interpret value `{val}` for parameter `{key}`\"\u001b[0m\u001b[1;33m\u001b[0m\u001b[1;33m\u001b[0m\u001b[0m\n\u001b[1;32m--> 902\u001b[1;33m                 \u001b[1;32mraise\u001b[0m \u001b[0mValueError\u001b[0m\u001b[1;33m(\u001b[0m\u001b[0merr\u001b[0m\u001b[1;33m)\u001b[0m\u001b[1;33m\u001b[0m\u001b[1;33m\u001b[0m\u001b[0m\n\u001b[0m\u001b[0;32m    903\u001b[0m \u001b[1;33m\u001b[0m\u001b[0m\n\u001b[0;32m    904\u001b[0m             \u001b[1;32melse\u001b[0m\u001b[1;33m:\u001b[0m\u001b[1;33m\u001b[0m\u001b[1;33m\u001b[0m\u001b[0m\n",
            "\u001b[1;31mValueError\u001b[0m: Could not interpret value `order` for parameter `x`"
          ]
        },
        {
          "output_type": "display_data",
          "data": {
            "image/png": "[encoded data removed]",
            "text/plain": [
              "<Figure size 432x432 with 3 Axes>"
            ]
          },
          "metadata": {
            "tags": [],
            "needs_background": "light"
          }
        }
      ]
    },
    {
      "cell_type": "code",
      "metadata": {
        "id": "3235f041"
      },
      "source": [
        "sns.jointplot(x='basket', y='number of basket', data=interests,  alpha=0.5)"
      ],
      "id": "3235f041",
      "execution_count": null,
      "outputs": []
    },
    {
      "cell_type": "code",
      "metadata": {
        "id": "f39778ea"
      },
      "source": [
        "sns.jointplot(x='click', y='number of click', data=interests,  alpha=0.5)"
      ],
      "id": "f39778ea",
      "execution_count": null,
      "outputs": []
    },
    {
      "cell_type": "markdown",
      "metadata": {
        "id": "edf000e9"
      },
      "source": [
        "## Pivot Table"
      ],
      "id": "edf000e9"
    },
    {
      "cell_type": "code",
      "metadata": {
        "id": "a2a06b9a"
      },
      "source": [
        "book_pivot = book_data_test.pivot_table(index='sessionID', columns='title', values='Interest')\n",
        "book_pivot.head()"
      ],
      "id": "a2a06b9a",
      "execution_count": null,
      "outputs": []
    },
    {
      "cell_type": "code",
      "metadata": {
        "id": "b69fea64"
      },
      "source": [
        "book_data_test = book_data.head(100000)"
      ],
      "id": "b69fea64",
      "execution_count": null,
      "outputs": []
    },
    {
      "cell_type": "code",
      "metadata": {
        "id": "e7c076f1"
      },
      "source": [
        "interests.sort_values('number of interests', ascending=False).head(10)"
      ],
      "id": "e7c076f1",
      "execution_count": null,
      "outputs": []
    }
  ]
}