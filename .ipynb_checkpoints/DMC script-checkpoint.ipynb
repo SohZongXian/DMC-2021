{
 "cells": [
  {
   "cell_type": "code",
   "execution_count": 59,
   "id": "4f938abc-a95a-4c19-a82e-a3ed511cf78e",
   "metadata": {},
   "outputs": [],
   "source": [
    "import pandas as pd\n",
    "import numpy as np\n",
    "from datetime import datetime\n",
    "import matplotlib.pyplot as plt\n",
    "import csv"
   ]
  },
  {
   "cell_type": "code",
   "execution_count": 60,
   "id": "f72a48cb-14a1-4460-a477-eb7054ba8961",
   "metadata": {},
   "outputs": [],
   "source": [
    "transaction = pd.read_csv(\"transactions.csv\", delimiter=\"|\")\n",
    "items = pd.read_csv(\"items.csv\", delimiter=\"|\")"
   ]
  },
  {
   "cell_type": "code",
   "execution_count": 61,
   "id": "68263ebb-e705-46e0-a9fb-1f53b8925db4",
   "metadata": {},
   "outputs": [
    {
     "data": {
      "text/html": [
       "<div>\n",
       "<style scoped>\n",
       "    .dataframe tbody tr th:only-of-type {\n",
       "        vertical-align: middle;\n",
       "    }\n",
       "\n",
       "    .dataframe tbody tr th {\n",
       "        vertical-align: top;\n",
       "    }\n",
       "\n",
       "    .dataframe thead th {\n",
       "        text-align: right;\n",
       "    }\n",
       "</style>\n",
       "<table border=\"1\" class=\"dataframe\">\n",
       "  <thead>\n",
       "    <tr style=\"text-align: right;\">\n",
       "      <th></th>\n",
       "      <th>sessionID</th>\n",
       "      <th>itemID</th>\n",
       "      <th>click</th>\n",
       "      <th>basket</th>\n",
       "      <th>order</th>\n",
       "    </tr>\n",
       "  </thead>\n",
       "  <tbody>\n",
       "    <tr>\n",
       "      <th>0</th>\n",
       "      <td>0</td>\n",
       "      <td>21310</td>\n",
       "      <td>1</td>\n",
       "      <td>0</td>\n",
       "      <td>0</td>\n",
       "    </tr>\n",
       "    <tr>\n",
       "      <th>1</th>\n",
       "      <td>1</td>\n",
       "      <td>73018</td>\n",
       "      <td>1</td>\n",
       "      <td>0</td>\n",
       "      <td>0</td>\n",
       "    </tr>\n",
       "    <tr>\n",
       "      <th>2</th>\n",
       "      <td>2</td>\n",
       "      <td>19194</td>\n",
       "      <td>1</td>\n",
       "      <td>0</td>\n",
       "      <td>0</td>\n",
       "    </tr>\n",
       "    <tr>\n",
       "      <th>3</th>\n",
       "      <td>3</td>\n",
       "      <td>40250</td>\n",
       "      <td>1</td>\n",
       "      <td>0</td>\n",
       "      <td>0</td>\n",
       "    </tr>\n",
       "    <tr>\n",
       "      <th>4</th>\n",
       "      <td>4</td>\n",
       "      <td>46107</td>\n",
       "      <td>1</td>\n",
       "      <td>0</td>\n",
       "      <td>0</td>\n",
       "    </tr>\n",
       "  </tbody>\n",
       "</table>\n",
       "</div>"
      ],
      "text/plain": [
       "   sessionID  itemID  click  basket  order\n",
       "0          0   21310      1       0      0\n",
       "1          1   73018      1       0      0\n",
       "2          2   19194      1       0      0\n",
       "3          3   40250      1       0      0\n",
       "4          4   46107      1       0      0"
      ]
     },
     "execution_count": 61,
     "metadata": {},
     "output_type": "execute_result"
    }
   ],
   "source": [
    "transaction.head()"
   ]
  },
  {
   "cell_type": "code",
   "execution_count": 62,
   "id": "3273d140-34bb-4a55-81c5-966a68240873",
   "metadata": {},
   "outputs": [
    {
     "name": "stdout",
     "output_type": "stream",
     "text": [
      "(365143, 5)\n",
      "(78030, 6)\n"
     ]
    }
   ],
   "source": [
    "print(transaction.shape)\n",
    "print(items.shape)"
   ]
  },
  {
   "cell_type": "code",
   "execution_count": 63,
   "id": "22ef8f49-2978-435c-8d83-0cfd8d9bdc8f",
   "metadata": {},
   "outputs": [],
   "source": [
    "data = pd.merge(transaction, items, on=[\"itemID\"])"
   ]
  },
  {
   "cell_type": "code",
   "execution_count": 64,
   "id": "f5e12a29-89b7-4ffc-af1c-9e2b4dcdbc45",
   "metadata": {},
   "outputs": [
    {
     "data": {
      "text/plain": [
       "(365143, 10)"
      ]
     },
     "execution_count": 64,
     "metadata": {},
     "output_type": "execute_result"
    }
   ],
   "source": [
    "data.shape"
   ]
  },
  {
   "cell_type": "code",
   "execution_count": 65,
   "id": "bba3fe7c-24e3-4861-81b4-2c9c72e6e264",
   "metadata": {},
   "outputs": [
    {
     "name": "stdout",
     "output_type": "stream",
     "text": [
      "<class 'pandas.core.frame.DataFrame'>\n",
      "Int64Index: 365143 entries, 0 to 365142\n",
      "Data columns (total 10 columns):\n",
      " #   Column      Non-Null Count   Dtype \n",
      "---  ------      --------------   ----- \n",
      " 0   sessionID   365143 non-null  int64 \n",
      " 1   itemID      365143 non-null  int64 \n",
      " 2   click       365143 non-null  int64 \n",
      " 3   basket      365143 non-null  int64 \n",
      " 4   order       365143 non-null  int64 \n",
      " 5   title       365143 non-null  object\n",
      " 6   author      323809 non-null  object\n",
      " 7   publisher   365142 non-null  object\n",
      " 8   main topic  364248 non-null  object\n",
      " 9   subtopics   365143 non-null  object\n",
      "dtypes: int64(5), object(5)\n",
      "memory usage: 30.6+ MB\n"
     ]
    }
   ],
   "source": [
    "data.info()"
   ]
  },
  {
   "cell_type": "code",
   "execution_count": 66,
   "id": "5c311f01-d3f9-4e8c-88b5-a2fd9404465e",
   "metadata": {},
   "outputs": [
    {
     "name": "stdout",
     "output_type": "stream",
     "text": [
      "0     348237\n",
      "1      16593\n",
      "2        255\n",
      "3         18\n",
      "4          7\n",
      "5          7\n",
      "21         4\n",
      "10         2\n",
      "25         2\n",
      "7          2\n",
      "27         2\n",
      "12         2\n",
      "11         2\n",
      "6          1\n",
      "28         1\n",
      "14         1\n",
      "15         1\n",
      "19         1\n",
      "20         1\n",
      "22         1\n",
      "23         1\n",
      "26         1\n",
      "13         1\n",
      "Name: order, dtype: int64\n"
     ]
    }
   ],
   "source": [
    "# choosing Target variable\n",
    "#print(inner_merged_total['basket'].value_counts())\n",
    "#print(inner_merged_total['click'].value_counts())\n",
    "print(data['order'].value_counts())"
   ]
  },
  {
   "cell_type": "code",
   "execution_count": 67,
   "id": "598b865a-7b1e-4767-89fb-91dc3ca00158",
   "metadata": {},
   "outputs": [],
   "source": [
    "##data preprocessing \n",
    "##generate target variable interest\n",
    "data[\"Interest\"] = data[\"click\"] + data[\"basket\"]+ data[\"order\"]\n",
    "\n",
    "## dropping season ID\n",
    "del data[\"sessionID\"]\n",
    "\n",
    "## aggregrate (idea is to generate the frequencies of item id, and multiply it by interest, getting the total interest of the items)"
   ]
  },
  {
   "cell_type": "code",
   "execution_count": 68,
   "id": "17d6abe4-470f-454c-a024-86d60453b23b",
   "metadata": {},
   "outputs": [
    {
     "data": {
      "text/html": [
       "<div>\n",
       "<style scoped>\n",
       "    .dataframe tbody tr th:only-of-type {\n",
       "        vertical-align: middle;\n",
       "    }\n",
       "\n",
       "    .dataframe tbody tr th {\n",
       "        vertical-align: top;\n",
       "    }\n",
       "\n",
       "    .dataframe thead th {\n",
       "        text-align: right;\n",
       "    }\n",
       "</style>\n",
       "<table border=\"1\" class=\"dataframe\">\n",
       "  <thead>\n",
       "    <tr style=\"text-align: right;\">\n",
       "      <th></th>\n",
       "      <th>itemID</th>\n",
       "      <th>click</th>\n",
       "      <th>basket</th>\n",
       "      <th>order</th>\n",
       "      <th>title</th>\n",
       "      <th>author</th>\n",
       "      <th>publisher</th>\n",
       "      <th>main topic</th>\n",
       "      <th>subtopics</th>\n",
       "      <th>Interest</th>\n",
       "    </tr>\n",
       "  </thead>\n",
       "  <tbody>\n",
       "    <tr>\n",
       "      <th>0</th>\n",
       "      <td>21310</td>\n",
       "      <td>1</td>\n",
       "      <td>0</td>\n",
       "      <td>0</td>\n",
       "      <td>Princess Poppy: The Big Mix Up</td>\n",
       "      <td>Janey Louise Jones</td>\n",
       "      <td>Penguin Random House Children's UK</td>\n",
       "      <td>YFB</td>\n",
       "      <td>[5AH]</td>\n",
       "      <td>1</td>\n",
       "    </tr>\n",
       "    <tr>\n",
       "      <th>1</th>\n",
       "      <td>21310</td>\n",
       "      <td>1</td>\n",
       "      <td>0</td>\n",
       "      <td>0</td>\n",
       "      <td>Princess Poppy: The Big Mix Up</td>\n",
       "      <td>Janey Louise Jones</td>\n",
       "      <td>Penguin Random House Children's UK</td>\n",
       "      <td>YFB</td>\n",
       "      <td>[5AH]</td>\n",
       "      <td>1</td>\n",
       "    </tr>\n",
       "    <tr>\n",
       "      <th>2</th>\n",
       "      <td>21310</td>\n",
       "      <td>1</td>\n",
       "      <td>0</td>\n",
       "      <td>0</td>\n",
       "      <td>Princess Poppy: The Big Mix Up</td>\n",
       "      <td>Janey Louise Jones</td>\n",
       "      <td>Penguin Random House Children's UK</td>\n",
       "      <td>YFB</td>\n",
       "      <td>[5AH]</td>\n",
       "      <td>1</td>\n",
       "    </tr>\n",
       "    <tr>\n",
       "      <th>3</th>\n",
       "      <td>73018</td>\n",
       "      <td>1</td>\n",
       "      <td>0</td>\n",
       "      <td>0</td>\n",
       "      <td>Einfach zeichnen! Step by Step</td>\n",
       "      <td>Wiebke Krabbe</td>\n",
       "      <td>Schwager und Steinlein</td>\n",
       "      <td>AGZ</td>\n",
       "      <td>[5AJ,AGZ,WFA,YBG,YBL,YNA,YPA]</td>\n",
       "      <td>1</td>\n",
       "    </tr>\n",
       "    <tr>\n",
       "      <th>4</th>\n",
       "      <td>73018</td>\n",
       "      <td>1</td>\n",
       "      <td>0</td>\n",
       "      <td>0</td>\n",
       "      <td>Einfach zeichnen! Step by Step</td>\n",
       "      <td>Wiebke Krabbe</td>\n",
       "      <td>Schwager und Steinlein</td>\n",
       "      <td>AGZ</td>\n",
       "      <td>[5AJ,AGZ,WFA,YBG,YBL,YNA,YPA]</td>\n",
       "      <td>1</td>\n",
       "    </tr>\n",
       "  </tbody>\n",
       "</table>\n",
       "</div>"
      ],
      "text/plain": [
       "   itemID  click  basket  order                           title  \\\n",
       "0   21310      1       0      0  Princess Poppy: The Big Mix Up   \n",
       "1   21310      1       0      0  Princess Poppy: The Big Mix Up   \n",
       "2   21310      1       0      0  Princess Poppy: The Big Mix Up   \n",
       "3   73018      1       0      0  Einfach zeichnen! Step by Step   \n",
       "4   73018      1       0      0  Einfach zeichnen! Step by Step   \n",
       "\n",
       "               author                           publisher main topic  \\\n",
       "0  Janey Louise Jones  Penguin Random House Children's UK        YFB   \n",
       "1  Janey Louise Jones  Penguin Random House Children's UK        YFB   \n",
       "2  Janey Louise Jones  Penguin Random House Children's UK        YFB   \n",
       "3       Wiebke Krabbe              Schwager und Steinlein        AGZ   \n",
       "4       Wiebke Krabbe              Schwager und Steinlein        AGZ   \n",
       "\n",
       "                       subtopics  Interest  \n",
       "0                          [5AH]         1  \n",
       "1                          [5AH]         1  \n",
       "2                          [5AH]         1  \n",
       "3  [5AJ,AGZ,WFA,YBG,YBL,YNA,YPA]         1  \n",
       "4  [5AJ,AGZ,WFA,YBG,YBL,YNA,YPA]         1  "
      ]
     },
     "execution_count": 68,
     "metadata": {},
     "output_type": "execute_result"
    }
   ],
   "source": [
    "data.head()\n",
    "#print(inner_merged_total['Interest'].value_counts())"
   ]
  },
  {
   "cell_type": "code",
   "execution_count": 89,
   "id": "925cba45-771a-4f23-b20f-fc8e518bbe10",
   "metadata": {},
   "outputs": [
    {
     "name": "stdout",
     "output_type": "stream",
     "text": [
      "                                                   itemID\n",
      "                                                    count\n",
      "title                                                    \n",
      "#Basteln for Future                                    22\n",
      "#Instacat                                               5\n",
      "#Sticker for Future                                     3\n",
      "#Wir bleiben zuhause Kindermitmachbuch                208\n",
      "#selbstschuld - Was heißt schon privat                 11\n",
      "...                                                   ...\n",
      "Überlebensprogramm                                      3\n",
      "Überlebenstraining mit Leo da Vinci                   138\n",
      "Übernachtungs-Party                                     1\n",
      "Übungsheft Handlettering: Übungsbuch Für Hand L...      4\n",
      "Üxe, der Fischstäbchen-Troll                            1\n",
      "\n",
      "[23534 rows x 1 columns]\n"
     ]
    }
   ],
   "source": [
    "count = data[['itemID','title']].groupby(['title']).agg(['count'])\n",
    "print(count)"
   ]
  },
  {
   "cell_type": "code",
   "execution_count": null,
   "id": "87d32905-2437-4fa3-b1d8-b17b53a66933",
   "metadata": {},
   "outputs": [],
   "source": []
  }
 ],
 "metadata": {
  "kernelspec": {
   "display_name": "Python 3",
   "language": "python",
   "name": "python3"
  },
  "language_info": {
   "codemirror_mode": {
    "name": "ipython",
    "version": 3
   },
   "file_extension": ".py",
   "mimetype": "text/x-python",
   "name": "python",
   "nbconvert_exporter": "python",
   "pygments_lexer": "ipython3",
   "version": "3.6.12"
  }
 },
 "nbformat": 4,
 "nbformat_minor": 5
}
