{
  "nbformat": 4,
  "nbformat_minor": 0,
  "metadata": {
    "colab": {
      "name": "DMC script.ipynb",
      "provenance": [],
      "toc_visible": true,
      "authorship_tag": "ABX9TyOoLM+WYZzKnd0yKe1eszed",
      "include_colab_link": true
    },
    "kernelspec": {
      "name": "python3",
      "display_name": "Python 3"
    },
    "language_info": {
      "name": "python"
    }
  },
  "cells": [
    {
      "cell_type": "markdown",
      "metadata": {
        "id": "view-in-github",
        "colab_type": "text"
      },
      "source": [
        "<a href=\"https://colab.research.google.com/github/SohZongXian/DMC-2021/blob/DenisCode/DMC_script.ipynb\" target=\"_parent\"><img src=\"https://colab.research.google.com/assets/colab-badge.svg\" alt=\"Open In Colab\"/></a>"
      ]
    },
    {
      "cell_type": "code",
      "metadata": {
        "id": "HjjE4mL3ydt5"
      },
      "source": [
        "import pandas as pd\n",
        "import numpy as np\n",
        "from datetime import datetime\n",
        "import matplotlib.pyplot as plt\n",
        "import csv\n"
      ],
      "execution_count": 2,
      "outputs": []
    },
    {
      "cell_type": "code",
      "metadata": {
        "id": "pjiFD1Z9yt_b"
      },
      "source": [
        "transaction = pd.read_csv(\"transactions.csv\", delimiter=\"|\")\n",
        "items = pd.read_csv(\"items.csv\", delimiter=\"|\")\n",
        "evaluation = pd.read_csv(\"evaluation.csv\", delimiter=\"|\")\n"
      ],
      "execution_count": 3,
      "outputs": []
    },
    {
      "cell_type": "code",
      "metadata": {
        "colab": {
          "base_uri": "https://localhost:8080/",
          "height": 195
        },
        "id": "OzCFzbaJyuCC",
        "outputId": "491f33d3-0756-4134-b7e1-327a19f03d68"
      },
      "source": [
        "transaction.head()\n",
        "\n"
      ],
      "execution_count": 4,
      "outputs": [
        {
          "output_type": "execute_result",
          "data": {
            "text/html": [
              "<div>\n",
              "<style scoped>\n",
              "    .dataframe tbody tr th:only-of-type {\n",
              "        vertical-align: middle;\n",
              "    }\n",
              "\n",
              "    .dataframe tbody tr th {\n",
              "        vertical-align: top;\n",
              "    }\n",
              "\n",
              "    .dataframe thead th {\n",
              "        text-align: right;\n",
              "    }\n",
              "</style>\n",
              "<table border=\"1\" class=\"dataframe\">\n",
              "  <thead>\n",
              "    <tr style=\"text-align: right;\">\n",
              "      <th></th>\n",
              "      <th>sessionID</th>\n",
              "      <th>itemID</th>\n",
              "      <th>click</th>\n",
              "      <th>basket</th>\n",
              "      <th>order</th>\n",
              "    </tr>\n",
              "  </thead>\n",
              "  <tbody>\n",
              "    <tr>\n",
              "      <th>0</th>\n",
              "      <td>0</td>\n",
              "      <td>21310</td>\n",
              "      <td>1</td>\n",
              "      <td>0</td>\n",
              "      <td>0</td>\n",
              "    </tr>\n",
              "    <tr>\n",
              "      <th>1</th>\n",
              "      <td>1</td>\n",
              "      <td>73018</td>\n",
              "      <td>1</td>\n",
              "      <td>0</td>\n",
              "      <td>0</td>\n",
              "    </tr>\n",
              "    <tr>\n",
              "      <th>2</th>\n",
              "      <td>2</td>\n",
              "      <td>19194</td>\n",
              "      <td>1</td>\n",
              "      <td>0</td>\n",
              "      <td>0</td>\n",
              "    </tr>\n",
              "    <tr>\n",
              "      <th>3</th>\n",
              "      <td>3</td>\n",
              "      <td>40250</td>\n",
              "      <td>1</td>\n",
              "      <td>0</td>\n",
              "      <td>0</td>\n",
              "    </tr>\n",
              "    <tr>\n",
              "      <th>4</th>\n",
              "      <td>4</td>\n",
              "      <td>46107</td>\n",
              "      <td>1</td>\n",
              "      <td>0</td>\n",
              "      <td>0</td>\n",
              "    </tr>\n",
              "  </tbody>\n",
              "</table>\n",
              "</div>"
            ],
            "text/plain": [
              "   sessionID  itemID  click  basket  order\n",
              "0          0   21310      1       0      0\n",
              "1          1   73018      1       0      0\n",
              "2          2   19194      1       0      0\n",
              "3          3   40250      1       0      0\n",
              "4          4   46107      1       0      0"
            ]
          },
          "metadata": {
            "tags": []
          },
          "execution_count": 4
        }
      ]
    },
    {
      "cell_type": "code",
      "metadata": {
        "colab": {
          "base_uri": "https://localhost:8080/",
          "height": 195
        },
        "id": "b4TTz2-h6o60",
        "outputId": "b4819be2-052a-483a-a60e-24c447cc60c7"
      },
      "source": [
        "items.head()\n"
      ],
      "execution_count": 5,
      "outputs": [
        {
          "output_type": "execute_result",
          "data": {
            "text/html": [
              "<div>\n",
              "<style scoped>\n",
              "    .dataframe tbody tr th:only-of-type {\n",
              "        vertical-align: middle;\n",
              "    }\n",
              "\n",
              "    .dataframe tbody tr th {\n",
              "        vertical-align: top;\n",
              "    }\n",
              "\n",
              "    .dataframe thead th {\n",
              "        text-align: right;\n",
              "    }\n",
              "</style>\n",
              "<table border=\"1\" class=\"dataframe\">\n",
              "  <thead>\n",
              "    <tr style=\"text-align: right;\">\n",
              "      <th></th>\n",
              "      <th>itemID</th>\n",
              "      <th>title</th>\n",
              "      <th>author</th>\n",
              "      <th>publisher</th>\n",
              "      <th>main topic</th>\n",
              "      <th>subtopics</th>\n",
              "    </tr>\n",
              "  </thead>\n",
              "  <tbody>\n",
              "    <tr>\n",
              "      <th>0</th>\n",
              "      <td>21310</td>\n",
              "      <td>Princess Poppy: The Big Mix Up</td>\n",
              "      <td>Janey Louise Jones</td>\n",
              "      <td>Penguin Random House Children's UK</td>\n",
              "      <td>YFB</td>\n",
              "      <td>[5AH]</td>\n",
              "    </tr>\n",
              "    <tr>\n",
              "      <th>1</th>\n",
              "      <td>73018</td>\n",
              "      <td>Einfach zeichnen! Step by Step</td>\n",
              "      <td>Wiebke Krabbe</td>\n",
              "      <td>Schwager und Steinlein</td>\n",
              "      <td>AGZ</td>\n",
              "      <td>[5AJ,AGZ,WFA,YBG,YBL,YNA,YPA]</td>\n",
              "    </tr>\n",
              "    <tr>\n",
              "      <th>2</th>\n",
              "      <td>19194</td>\n",
              "      <td>Red Queen 1</td>\n",
              "      <td>Victoria Aveyard</td>\n",
              "      <td>Orion Publishing Group</td>\n",
              "      <td>YFH</td>\n",
              "      <td>[5AP,FBA]</td>\n",
              "    </tr>\n",
              "    <tr>\n",
              "      <th>3</th>\n",
              "      <td>40250</td>\n",
              "      <td>Meine Kindergarten-Freunde (Pirat)</td>\n",
              "      <td>NaN</td>\n",
              "      <td>Ars Edition GmbH</td>\n",
              "      <td>YB</td>\n",
              "      <td>[5AC,5AD,YBG,YBL,YF]</td>\n",
              "    </tr>\n",
              "    <tr>\n",
              "      <th>4</th>\n",
              "      <td>46107</td>\n",
              "      <td>Mein großes Schablonen-Buch - Wilde Tiere</td>\n",
              "      <td>Elizabeth Golding</td>\n",
              "      <td>Edition Michael Fischer</td>\n",
              "      <td>WFTM</td>\n",
              "      <td>[WD,WFTM,YBG,YBL,YBLD,YBLN1]</td>\n",
              "    </tr>\n",
              "  </tbody>\n",
              "</table>\n",
              "</div>"
            ],
            "text/plain": [
              "   itemID  ...                      subtopics\n",
              "0   21310  ...                          [5AH]\n",
              "1   73018  ...  [5AJ,AGZ,WFA,YBG,YBL,YNA,YPA]\n",
              "2   19194  ...                      [5AP,FBA]\n",
              "3   40250  ...           [5AC,5AD,YBG,YBL,YF]\n",
              "4   46107  ...   [WD,WFTM,YBG,YBL,YBLD,YBLN1]\n",
              "\n",
              "[5 rows x 6 columns]"
            ]
          },
          "metadata": {
            "tags": []
          },
          "execution_count": 5
        }
      ]
    },
    {
      "cell_type": "code",
      "metadata": {
        "colab": {
          "base_uri": "https://localhost:8080/"
        },
        "id": "Vst7sqC4yuEQ",
        "outputId": "311cd6ac-7dc8-4b22-a277-3cbb81c8f289"
      },
      "source": [
        "print(transaction.shape)\n",
        "print(items.shape)\n",
        "print(evaluation.shape)\n"
      ],
      "execution_count": 6,
      "outputs": [
        {
          "output_type": "stream",
          "text": [
            "(365143, 5)\n",
            "(78030, 6)\n",
            "(1000, 1)\n"
          ],
          "name": "stdout"
        }
      ]
    },
    {
      "cell_type": "code",
      "metadata": {
        "colab": {
          "base_uri": "https://localhost:8080/"
        },
        "id": "THq4-JWryuGq",
        "outputId": "ab30e622-4f03-4c8a-c65c-adf4d0d5cb2b"
      },
      "source": [
        "data = pd.merge(transaction, items, on=[\"itemID\"])\n",
        "\n",
        "data.shape\n"
      ],
      "execution_count": 7,
      "outputs": [
        {
          "output_type": "execute_result",
          "data": {
            "text/plain": [
              "(365143, 10)"
            ]
          },
          "metadata": {
            "tags": []
          },
          "execution_count": 7
        }
      ]
    },
    {
      "cell_type": "code",
      "metadata": {
        "colab": {
          "base_uri": "https://localhost:8080/"
        },
        "id": "ILW_qOi0ijCv",
        "outputId": "bbbadd78-3009-4ee3-e469-7ad09ac7f13c"
      },
      "source": [
        "data.dtypes\n"
      ],
      "execution_count": 8,
      "outputs": [
        {
          "output_type": "execute_result",
          "data": {
            "text/plain": [
              "sessionID      int64\n",
              "itemID         int64\n",
              "click          int64\n",
              "basket         int64\n",
              "order          int64\n",
              "title         object\n",
              "author        object\n",
              "publisher     object\n",
              "main topic    object\n",
              "subtopics     object\n",
              "dtype: object"
            ]
          },
          "metadata": {
            "tags": []
          },
          "execution_count": 8
        }
      ]
    },
    {
      "cell_type": "code",
      "metadata": {
        "colab": {
          "base_uri": "https://localhost:8080/"
        },
        "id": "6xsrQQ-maR8-",
        "outputId": "9ecbbcd6-789d-4c62-c0ad-2ad8983db7f9"
      },
      "source": [
        "# choosing Target variable\n",
        "#print(inner_merged_total['basket'].value_counts())\n",
        "#print(inner_merged_total['click'].value_counts())\n",
        "print(data['order'].value_counts())\n"
      ],
      "execution_count": 9,
      "outputs": [
        {
          "output_type": "stream",
          "text": [
            "0     348237\n",
            "1      16593\n",
            "2        255\n",
            "3         18\n",
            "4          7\n",
            "5          7\n",
            "21         4\n",
            "10         2\n",
            "25         2\n",
            "7          2\n",
            "27         2\n",
            "12         2\n",
            "11         2\n",
            "6          1\n",
            "28         1\n",
            "14         1\n",
            "15         1\n",
            "19         1\n",
            "20         1\n",
            "22         1\n",
            "23         1\n",
            "26         1\n",
            "13         1\n",
            "Name: order, dtype: int64\n"
          ],
          "name": "stdout"
        }
      ]
    },
    {
      "cell_type": "code",
      "metadata": {
        "id": "Ju8-mQSYaVMG"
      },
      "source": [
        "##data preprocessing \n",
        "##generate target variable interest\n",
        "data[\"Interest\"] = data[\"click\"] + data[\"basket\"]+ data[\"order\"]\n",
        "\n",
        "## dropping season ID input for dr raheem\n",
        "del data[\"sessionID\"]\n",
        "\n",
        "## aggregrate (idea is to generate the frequencies of item id, and multiply it by interest, getting the total interest of the items)"
      ],
      "execution_count": 10,
      "outputs": []
    },
    {
      "cell_type": "markdown",
      "metadata": {
        "id": "IREeuZRXaaRY"
      },
      "source": [
        "# **Group by item ID, and then count the item ID, and then interest * count of itemID = total interest column**\n"
      ]
    },
    {
      "cell_type": "code",
      "metadata": {
        "id": "58PUx80KbMGE",
        "colab": {
          "base_uri": "https://localhost:8080/"
        },
        "outputId": "59473800-68d7-4c83-a59c-8b66c2ea1361"
      },
      "source": [
        "\n",
        "##generate frequency\n",
        "test = data.value_counts(['itemID']).reset_index(name='Frequency')\n",
        "print(test)\n"
      ],
      "execution_count": 11,
      "outputs": [
        {
          "output_type": "stream",
          "text": [
            "       itemID  Frequency\n",
            "0       58522       2291\n",
            "1       66247       1775\n",
            "2       10666       1749\n",
            "3       44220       1687\n",
            "4       69185       1290\n",
            "...       ...        ...\n",
            "24904   18624          1\n",
            "24905   38565          1\n",
            "24906   61941          1\n",
            "24907   18650          1\n",
            "24908   72640          1\n",
            "\n",
            "[24909 rows x 2 columns]\n"
          ],
          "name": "stdout"
        }
      ]
    },
    {
      "cell_type": "code",
      "metadata": {
        "colab": {
          "base_uri": "https://localhost:8080/",
          "height": 346
        },
        "id": "pmAizQ0OavZP",
        "outputId": "13aba354-af54-4401-ba93-988ead58fe96"
      },
      "source": [
        "#Merging frequency \n",
        "book_data = pd.merge(data, test, on=[\"itemID\"])\n",
        "book_data.head()\n"
      ],
      "execution_count": 12,
      "outputs": [
        {
          "output_type": "execute_result",
          "data": {
            "text/html": [
              "<div>\n",
              "<style scoped>\n",
              "    .dataframe tbody tr th:only-of-type {\n",
              "        vertical-align: middle;\n",
              "    }\n",
              "\n",
              "    .dataframe tbody tr th {\n",
              "        vertical-align: top;\n",
              "    }\n",
              "\n",
              "    .dataframe thead th {\n",
              "        text-align: right;\n",
              "    }\n",
              "</style>\n",
              "<table border=\"1\" class=\"dataframe\">\n",
              "  <thead>\n",
              "    <tr style=\"text-align: right;\">\n",
              "      <th></th>\n",
              "      <th>itemID</th>\n",
              "      <th>click</th>\n",
              "      <th>basket</th>\n",
              "      <th>order</th>\n",
              "      <th>title</th>\n",
              "      <th>author</th>\n",
              "      <th>publisher</th>\n",
              "      <th>main topic</th>\n",
              "      <th>subtopics</th>\n",
              "      <th>Interest</th>\n",
              "      <th>Frequency</th>\n",
              "    </tr>\n",
              "  </thead>\n",
              "  <tbody>\n",
              "    <tr>\n",
              "      <th>0</th>\n",
              "      <td>21310</td>\n",
              "      <td>1</td>\n",
              "      <td>0</td>\n",
              "      <td>0</td>\n",
              "      <td>Princess Poppy: The Big Mix Up</td>\n",
              "      <td>Janey Louise Jones</td>\n",
              "      <td>Penguin Random House Children's UK</td>\n",
              "      <td>YFB</td>\n",
              "      <td>[5AH]</td>\n",
              "      <td>1</td>\n",
              "      <td>3</td>\n",
              "    </tr>\n",
              "    <tr>\n",
              "      <th>1</th>\n",
              "      <td>21310</td>\n",
              "      <td>1</td>\n",
              "      <td>0</td>\n",
              "      <td>0</td>\n",
              "      <td>Princess Poppy: The Big Mix Up</td>\n",
              "      <td>Janey Louise Jones</td>\n",
              "      <td>Penguin Random House Children's UK</td>\n",
              "      <td>YFB</td>\n",
              "      <td>[5AH]</td>\n",
              "      <td>1</td>\n",
              "      <td>3</td>\n",
              "    </tr>\n",
              "    <tr>\n",
              "      <th>2</th>\n",
              "      <td>21310</td>\n",
              "      <td>1</td>\n",
              "      <td>0</td>\n",
              "      <td>0</td>\n",
              "      <td>Princess Poppy: The Big Mix Up</td>\n",
              "      <td>Janey Louise Jones</td>\n",
              "      <td>Penguin Random House Children's UK</td>\n",
              "      <td>YFB</td>\n",
              "      <td>[5AH]</td>\n",
              "      <td>1</td>\n",
              "      <td>3</td>\n",
              "    </tr>\n",
              "    <tr>\n",
              "      <th>3</th>\n",
              "      <td>73018</td>\n",
              "      <td>1</td>\n",
              "      <td>0</td>\n",
              "      <td>0</td>\n",
              "      <td>Einfach zeichnen! Step by Step</td>\n",
              "      <td>Wiebke Krabbe</td>\n",
              "      <td>Schwager und Steinlein</td>\n",
              "      <td>AGZ</td>\n",
              "      <td>[5AJ,AGZ,WFA,YBG,YBL,YNA,YPA]</td>\n",
              "      <td>1</td>\n",
              "      <td>59</td>\n",
              "    </tr>\n",
              "    <tr>\n",
              "      <th>4</th>\n",
              "      <td>73018</td>\n",
              "      <td>1</td>\n",
              "      <td>0</td>\n",
              "      <td>0</td>\n",
              "      <td>Einfach zeichnen! Step by Step</td>\n",
              "      <td>Wiebke Krabbe</td>\n",
              "      <td>Schwager und Steinlein</td>\n",
              "      <td>AGZ</td>\n",
              "      <td>[5AJ,AGZ,WFA,YBG,YBL,YNA,YPA]</td>\n",
              "      <td>1</td>\n",
              "      <td>59</td>\n",
              "    </tr>\n",
              "  </tbody>\n",
              "</table>\n",
              "</div>"
            ],
            "text/plain": [
              "   itemID  click  basket  ...                      subtopics Interest Frequency\n",
              "0   21310      1       0  ...                          [5AH]        1         3\n",
              "1   21310      1       0  ...                          [5AH]        1         3\n",
              "2   21310      1       0  ...                          [5AH]        1         3\n",
              "3   73018      1       0  ...  [5AJ,AGZ,WFA,YBG,YBL,YNA,YPA]        1        59\n",
              "4   73018      1       0  ...  [5AJ,AGZ,WFA,YBG,YBL,YNA,YPA]        1        59\n",
              "\n",
              "[5 rows x 11 columns]"
            ]
          },
          "metadata": {
            "tags": []
          },
          "execution_count": 12
        }
      ]
    },
    {
      "cell_type": "code",
      "metadata": {
        "colab": {
          "base_uri": "https://localhost:8080/"
        },
        "id": "RB0jlIH4avbk",
        "outputId": "caecb8c6-bd23-4739-c1c6-b53e7468d38d"
      },
      "source": [
        "#remove dupicate rows \n",
        "print(book_data.shape)\n",
        "#book_data.drop_duplicates(subset =\"itemID\", keep = False,inplace=True) #False is to remove\n",
        "book_data.drop_duplicates(subset =\"itemID\", keep= 'first',inplace=True)\n",
        "\n",
        "print(book_data.shape)"
      ],
      "execution_count": 13,
      "outputs": [
        {
          "output_type": "stream",
          "text": [
            "(365143, 11)\n",
            "(24909, 11)\n"
          ],
          "name": "stdout"
        }
      ]
    },
    {
      "cell_type": "code",
      "metadata": {
        "id": "N3NvDJs4aygd"
      },
      "source": [
        "#Generate total interest\n",
        "\n",
        "book_data[\"Total_Interest\"] = book_data[\"Frequency\"] * book_data[\"Interest\"] \n"
      ],
      "execution_count": 14,
      "outputs": []
    },
    {
      "cell_type": "code",
      "metadata": {
        "colab": {
          "base_uri": "https://localhost:8080/",
          "height": 909
        },
        "id": "0F4GXSB1f-C1",
        "outputId": "1b3d2f79-0057-4d75-8c57-d17dd3569ae1"
      },
      "source": [
        "#Print latest book_data\n",
        "\n",
        "book_data \n"
      ],
      "execution_count": 15,
      "outputs": [
        {
          "output_type": "execute_result",
          "data": {
            "text/html": [
              "<div>\n",
              "<style scoped>\n",
              "    .dataframe tbody tr th:only-of-type {\n",
              "        vertical-align: middle;\n",
              "    }\n",
              "\n",
              "    .dataframe tbody tr th {\n",
              "        vertical-align: top;\n",
              "    }\n",
              "\n",
              "    .dataframe thead th {\n",
              "        text-align: right;\n",
              "    }\n",
              "</style>\n",
              "<table border=\"1\" class=\"dataframe\">\n",
              "  <thead>\n",
              "    <tr style=\"text-align: right;\">\n",
              "      <th></th>\n",
              "      <th>itemID</th>\n",
              "      <th>click</th>\n",
              "      <th>basket</th>\n",
              "      <th>order</th>\n",
              "      <th>title</th>\n",
              "      <th>author</th>\n",
              "      <th>publisher</th>\n",
              "      <th>main topic</th>\n",
              "      <th>subtopics</th>\n",
              "      <th>Interest</th>\n",
              "      <th>Frequency</th>\n",
              "      <th>Total_Interest</th>\n",
              "    </tr>\n",
              "  </thead>\n",
              "  <tbody>\n",
              "    <tr>\n",
              "      <th>0</th>\n",
              "      <td>21310</td>\n",
              "      <td>1</td>\n",
              "      <td>0</td>\n",
              "      <td>0</td>\n",
              "      <td>Princess Poppy: The Big Mix Up</td>\n",
              "      <td>Janey Louise Jones</td>\n",
              "      <td>Penguin Random House Children's UK</td>\n",
              "      <td>YFB</td>\n",
              "      <td>[5AH]</td>\n",
              "      <td>1</td>\n",
              "      <td>3</td>\n",
              "      <td>3</td>\n",
              "    </tr>\n",
              "    <tr>\n",
              "      <th>3</th>\n",
              "      <td>73018</td>\n",
              "      <td>1</td>\n",
              "      <td>0</td>\n",
              "      <td>0</td>\n",
              "      <td>Einfach zeichnen! Step by Step</td>\n",
              "      <td>Wiebke Krabbe</td>\n",
              "      <td>Schwager und Steinlein</td>\n",
              "      <td>AGZ</td>\n",
              "      <td>[5AJ,AGZ,WFA,YBG,YBL,YNA,YPA]</td>\n",
              "      <td>1</td>\n",
              "      <td>59</td>\n",
              "      <td>59</td>\n",
              "    </tr>\n",
              "    <tr>\n",
              "      <th>62</th>\n",
              "      <td>19194</td>\n",
              "      <td>1</td>\n",
              "      <td>0</td>\n",
              "      <td>0</td>\n",
              "      <td>Red Queen 1</td>\n",
              "      <td>Victoria Aveyard</td>\n",
              "      <td>Orion Publishing Group</td>\n",
              "      <td>YFH</td>\n",
              "      <td>[5AP,FBA]</td>\n",
              "      <td>1</td>\n",
              "      <td>186</td>\n",
              "      <td>186</td>\n",
              "    </tr>\n",
              "    <tr>\n",
              "      <th>248</th>\n",
              "      <td>40250</td>\n",
              "      <td>1</td>\n",
              "      <td>0</td>\n",
              "      <td>0</td>\n",
              "      <td>Meine Kindergarten-Freunde (Pirat)</td>\n",
              "      <td>NaN</td>\n",
              "      <td>Ars Edition GmbH</td>\n",
              "      <td>YB</td>\n",
              "      <td>[5AC,5AD,YBG,YBL,YF]</td>\n",
              "      <td>1</td>\n",
              "      <td>339</td>\n",
              "      <td>339</td>\n",
              "    </tr>\n",
              "    <tr>\n",
              "      <th>587</th>\n",
              "      <td>46107</td>\n",
              "      <td>1</td>\n",
              "      <td>0</td>\n",
              "      <td>0</td>\n",
              "      <td>Mein großes Schablonen-Buch - Wilde Tiere</td>\n",
              "      <td>Elizabeth Golding</td>\n",
              "      <td>Edition Michael Fischer</td>\n",
              "      <td>WFTM</td>\n",
              "      <td>[WD,WFTM,YBG,YBL,YBLD,YBLN1]</td>\n",
              "      <td>1</td>\n",
              "      <td>25</td>\n",
              "      <td>25</td>\n",
              "    </tr>\n",
              "    <tr>\n",
              "      <th>...</th>\n",
              "      <td>...</td>\n",
              "      <td>...</td>\n",
              "      <td>...</td>\n",
              "      <td>...</td>\n",
              "      <td>...</td>\n",
              "      <td>...</td>\n",
              "      <td>...</td>\n",
              "      <td>...</td>\n",
              "      <td>...</td>\n",
              "      <td>...</td>\n",
              "      <td>...</td>\n",
              "      <td>...</td>\n",
              "    </tr>\n",
              "    <tr>\n",
              "      <th>365138</th>\n",
              "      <td>21264</td>\n",
              "      <td>1</td>\n",
              "      <td>0</td>\n",
              "      <td>0</td>\n",
              "      <td>Soon</td>\n",
              "      <td>Morris Gleitzman</td>\n",
              "      <td>Penguin Random House Children's UK</td>\n",
              "      <td>YFN</td>\n",
              "      <td>[5AL]</td>\n",
              "      <td>1</td>\n",
              "      <td>1</td>\n",
              "      <td>1</td>\n",
              "    </tr>\n",
              "    <tr>\n",
              "      <th>365139</th>\n",
              "      <td>22297</td>\n",
              "      <td>1</td>\n",
              "      <td>0</td>\n",
              "      <td>0</td>\n",
              "      <td>Warum? Fragen u. Antworten f. Kleinkinder - In...</td>\n",
              "      <td>NaN</td>\n",
              "      <td>Yo Yo Books</td>\n",
              "      <td>YBC</td>\n",
              "      <td>[YBL]</td>\n",
              "      <td>1</td>\n",
              "      <td>1</td>\n",
              "      <td>1</td>\n",
              "    </tr>\n",
              "    <tr>\n",
              "      <th>365140</th>\n",
              "      <td>56041</td>\n",
              "      <td>1</td>\n",
              "      <td>0</td>\n",
              "      <td>0</td>\n",
              "      <td>Tesla</td>\n",
              "      <td>Mark Lingane</td>\n",
              "      <td>Insync Holdings Pty Ltd</td>\n",
              "      <td>FLM</td>\n",
              "      <td>[]</td>\n",
              "      <td>1</td>\n",
              "      <td>1</td>\n",
              "      <td>1</td>\n",
              "    </tr>\n",
              "    <tr>\n",
              "      <th>365141</th>\n",
              "      <td>67832</td>\n",
              "      <td>2</td>\n",
              "      <td>0</td>\n",
              "      <td>0</td>\n",
              "      <td>Hexenherz. Glühender Hass</td>\n",
              "      <td>Monika Loerchner</td>\n",
              "      <td>Acabus Verlag</td>\n",
              "      <td>FMH</td>\n",
              "      <td>[1D,FMH,FMR]</td>\n",
              "      <td>2</td>\n",
              "      <td>1</td>\n",
              "      <td>2</td>\n",
              "    </tr>\n",
              "    <tr>\n",
              "      <th>365142</th>\n",
              "      <td>73084</td>\n",
              "      <td>1</td>\n",
              "      <td>0</td>\n",
              "      <td>0</td>\n",
              "      <td>Everybody Sees the Ants</td>\n",
              "      <td>A. S. King</td>\n",
              "      <td>LITTLE BROWN &amp; CO</td>\n",
              "      <td>YXQF</td>\n",
              "      <td>[YF,YXD,YXE]</td>\n",
              "      <td>1</td>\n",
              "      <td>1</td>\n",
              "      <td>1</td>\n",
              "    </tr>\n",
              "  </tbody>\n",
              "</table>\n",
              "<p>24909 rows × 12 columns</p>\n",
              "</div>"
            ],
            "text/plain": [
              "        itemID  click  basket  ...  Interest Frequency Total_Interest\n",
              "0        21310      1       0  ...         1         3              3\n",
              "3        73018      1       0  ...         1        59             59\n",
              "62       19194      1       0  ...         1       186            186\n",
              "248      40250      1       0  ...         1       339            339\n",
              "587      46107      1       0  ...         1        25             25\n",
              "...        ...    ...     ...  ...       ...       ...            ...\n",
              "365138   21264      1       0  ...         1         1              1\n",
              "365139   22297      1       0  ...         1         1              1\n",
              "365140   56041      1       0  ...         1         1              1\n",
              "365141   67832      2       0  ...         2         1              2\n",
              "365142   73084      1       0  ...         1         1              1\n",
              "\n",
              "[24909 rows x 12 columns]"
            ]
          },
          "metadata": {
            "tags": []
          },
          "execution_count": 15
        }
      ]
    },
    {
      "cell_type": "markdown",
      "metadata": {
        "id": "GzQhHZFcgEax"
      },
      "source": [
        "# **Explanatory Data Analysis**\n"
      ]
    },
    {
      "cell_type": "code",
      "metadata": {
        "colab": {
          "base_uri": "https://localhost:8080/"
        },
        "id": "sPu49KPOgxWY",
        "outputId": "53b35542-6980-475e-bf1e-02bf61c8ecef"
      },
      "source": [
        "book_data.dtypes\n"
      ],
      "execution_count": 16,
      "outputs": [
        {
          "output_type": "execute_result",
          "data": {
            "text/plain": [
              "itemID             int64\n",
              "click              int64\n",
              "basket             int64\n",
              "order              int64\n",
              "title             object\n",
              "author            object\n",
              "publisher         object\n",
              "main topic        object\n",
              "subtopics         object\n",
              "Interest           int64\n",
              "Frequency          int64\n",
              "Total_Interest     int64\n",
              "dtype: object"
            ]
          },
          "metadata": {
            "tags": []
          },
          "execution_count": 16
        }
      ]
    },
    {
      "cell_type": "code",
      "metadata": {
        "colab": {
          "base_uri": "https://localhost:8080/"
        },
        "id": "hhYsL0bBqHmT",
        "outputId": "93770171-0260-4537-f8e7-23e35e645d1b"
      },
      "source": [
        "#Count total number for frequency and Total Interest\n",
        "print(book_data['Total_Interest'].value_counts())\n"
      ],
      "execution_count": 17,
      "outputs": [
        {
          "output_type": "stream",
          "text": [
            "1       6781\n",
            "2       3569\n",
            "3       2006\n",
            "4       1614\n",
            "6       1053\n",
            "        ... \n",
            "1687       1\n",
            "983        1\n",
            "727        1\n",
            "599        1\n",
            "3870       1\n",
            "Name: Total_Interest, Length: 456, dtype: int64\n"
          ],
          "name": "stdout"
        }
      ]
    },
    {
      "cell_type": "code",
      "metadata": {
        "colab": {
          "base_uri": "https://localhost:8080/"
        },
        "id": "SlP2cDelR-PQ",
        "outputId": "ad5a3b2c-d2ff-43a6-b24a-e3c069f40040"
      },
      "source": [
        "print(book_data['click'].value_counts())\n"
      ],
      "execution_count": 18,
      "outputs": [
        {
          "output_type": "stream",
          "text": [
            "1     20601\n",
            "2      1573\n",
            "0      1439\n",
            "3       668\n",
            "4       216\n",
            "5       182\n",
            "6        86\n",
            "7        64\n",
            "9        24\n",
            "8        20\n",
            "11       10\n",
            "10        9\n",
            "13        7\n",
            "12        2\n",
            "16        2\n",
            "17        1\n",
            "15        1\n",
            "21        1\n",
            "14        1\n",
            "23        1\n",
            "22        1\n",
            "Name: click, dtype: int64\n"
          ],
          "name": "stdout"
        }
      ]
    },
    {
      "cell_type": "code",
      "metadata": {
        "colab": {
          "base_uri": "https://localhost:8080/",
          "height": 265
        },
        "id": "6uoi5nHAEsCH",
        "outputId": "c416d887-59c9-4ea9-d5b5-fdf9c2e003bd"
      },
      "source": [
        "#Create histogram \n",
        "\n",
        "x = book_data['Total_Interest'].value_counts()\n",
        "\n",
        "plt.hist(x)\n",
        "plt.show()\n"
      ],
      "execution_count": 24,
      "outputs": [
        {
          "output_type": "display_data",
          "data": {
            "image/png": "[encoded data removed]",
            "text/plain": [
              "<Figure size 432x288 with 1 Axes>"
            ]
          },
          "metadata": {
            "tags": []
          }
        }
      ]
    },
    {
      "cell_type": "code",
      "metadata": {
        "colab": {
          "base_uri": "https://localhost:8080/"
        },
        "id": "zyP97mi6RhSX",
        "outputId": "10b75719-45e5-4b42-e0f3-2159adce4560"
      },
      "source": [
        "#Check if there is any missing data\n",
        "book_data.isnull().sum()"
      ],
      "execution_count": 25,
      "outputs": [
        {
          "output_type": "execute_result",
          "data": {
            "text/plain": [
              "itemID               0\n",
              "click                0\n",
              "basket               0\n",
              "order                0\n",
              "title                0\n",
              "author            2017\n",
              "publisher            1\n",
              "main topic         128\n",
              "subtopics            0\n",
              "Interest             0\n",
              "Frequency            0\n",
              "Total_Interest       0\n",
              "dtype: int64"
            ]
          },
          "metadata": {
            "tags": []
          },
          "execution_count": 25
        }
      ]
    },
    {
      "cell_type": "code",
      "metadata": {
        "colab": {
          "base_uri": "https://localhost:8080/",
          "height": 312
        },
        "id": "PM9ZnbKxSwUa",
        "outputId": "8bfa3642-3143-4782-e473-a0f28edb9215"
      },
      "source": [
        "# create a figure and axis\n",
        "fig, ax = plt.subplots()\n",
        "\n",
        "# scatter the sepal_length against the sepal_width\n",
        "ax.scatter(book_data['click'], book_data['Total_Interest'])\n",
        "\n",
        "# set a title and labels\n",
        "ax.set_title('Scatterplot between Total Interest & No. of Click')\n",
        "ax.set_xlabel('Number of clicks')\n",
        "ax.set_ylabel('Total Interest')"
      ],
      "execution_count": 26,
      "outputs": [
        {
          "output_type": "execute_result",
          "data": {
            "text/plain": [
              "Text(0, 0.5, 'Total Interest')"
            ]
          },
          "metadata": {
            "tags": []
          },
          "execution_count": 26
        },
        {
          "output_type": "display_data",
          "data": {
            "image/png": "[encoded data removed]",
            "text/plain": [
              "<Figure size 432x288 with 1 Axes>"
            ]
          },
          "metadata": {
            "tags": []
          }
        }
      ]
    }
  ]
}