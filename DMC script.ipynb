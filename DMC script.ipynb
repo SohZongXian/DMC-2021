{
 "cells": [
  {
   "cell_type": "code",
   "execution_count": null,
   "id": "4f938abc-a95a-4c19-a82e-a3ed511cf78e",
   "metadata": {},
   "outputs": [],
   "source": [
    "import pandas as pd\n",
    "import numpy as np\n",
    "from datetime import datetime\n",
    "import matplotlib.pyplot as plt\n",
    "import csv"
   ]
  },
  {
   "cell_type": "code",
   "execution_count": null,
   "id": "f72a48cb-14a1-4460-a477-eb7054ba8961",
   "metadata": {},
   "outputs": [],
   "source": [
    "transaction = pd.read_csv(\"transactions.csv\", delimiter=\"|\")\n",
    "items = pd.read_csv(\"items.csv\", delimiter=\"|\")"
   ]
  },
  {
   "cell_type": "code",
   "execution_count": null,
   "id": "68263ebb-e705-46e0-a9fb-1f53b8925db4",
   "metadata": {},
   "outputs": [],
   "source": [
    "transaction.head()"
   ]
  },
  {
   "cell_type": "code",
   "execution_count": null,
   "id": "3273d140-34bb-4a55-81c5-966a68240873",
   "metadata": {},
   "outputs": [],
   "source": [
    "print(transaction.shape)\n",
    "print(items.shape)"
   ]
  },
  {
   "cell_type": "code",
   "execution_count": null,
   "id": "22ef8f49-2978-435c-8d83-0cfd8d9bdc8f",
   "metadata": {},
   "outputs": [],
   "source": [
    "data = pd.merge(transaction, items, on=[\"itemID\"])"
   ]
  },
  {
   "cell_type": "code",
   "execution_count": null,
   "id": "f5e12a29-89b7-4ffc-af1c-9e2b4dcdbc45",
   "metadata": {},
   "outputs": [],
   "source": [
    "data.shape"
   ]
  },
  {
   "cell_type": "code",
   "execution_count": null,
   "id": "bba3fe7c-24e3-4861-81b4-2c9c72e6e264",
   "metadata": {},
   "outputs": [],
   "source": [
    "data.info()"
   ]
  },
  {
   "cell_type": "code",
   "execution_count": null,
   "id": "5c311f01-d3f9-4e8c-88b5-a2fd9404465e",
   "metadata": {},
   "outputs": [],
   "source": [
    "# choosing Target variable\n",
    "#print(inner_merged_total['basket'].value_counts())\n",
    "#print(inner_merged_total['click'].value_counts())\n",
    "print(data['order'].value_counts())"
   ]
  },
  {
   "cell_type": "code",
   "execution_count": null,
   "id": "598b865a-7b1e-4767-89fb-91dc3ca00158",
   "metadata": {},
   "outputs": [],
   "source": [
    "##data preprocessing \n",
    "##generate target variable interest\n",
    "data[\"Interest\"] = data[\"click\"] + data[\"basket\"]+ data[\"order\"]\n",
    "\n",
    "## dropping season ID input for dr raheem\n",
    "del data[\"sessionID\"]\n",
    "\n",
    "## aggregrate (idea is to generate the frequencies of item id, and multiply it by interest, getting the total interest of the items)"
   ]
  },
  {
   "cell_type": "code",
   "execution_count": null,
   "id": "17d6abe4-470f-454c-a024-86d60453b23b",
   "metadata": {},
   "outputs": [],
   "source": [
    "data.head()\n",
    "#print(inner_merged_total['Interest'].value_counts())"
   ]
  },
  {
   "cell_type": "markdown",
   "id": "4f7236e1-a0ff-4e66-9300-c5ba97881af7",
   "metadata": {},
   "source": [
    "## Group by item ID, and then count the item ID, and then interest * count of itemID = total interest column"
   ]
  },
  {
   "cell_type": "code",
   "execution_count": null,
   "id": "87d32905-2437-4fa3-b1d8-b17b53a66933",
   "metadata": {},
   "outputs": [],
   "source": [
    "##generate frequency\n",
    "test = data.value_counts(['itemID']).reset_index(name='Frequency')\n",
    "print(test.head())"
   ]
  },
  {
   "cell_type": "code",
   "execution_count": null,
   "id": "9edb72bd-bacc-4caf-8bc8-502957d9327d",
   "metadata": {},
   "outputs": [],
   "source": [
    "#Merging frequency \n",
    "book_data = pd.merge(data, test, on=[\"itemID\"])\n",
    "book_data.head()"
   ]
  },
  {
   "cell_type": "code",
   "execution_count": null,
   "id": "3ea9cbb5-3405-4708-a9ed-8dc4a1bbcbd8",
   "metadata": {},
   "outputs": [],
   "source": [
    "#remove dupicate rows \n",
    "print(book_data.shape)\n",
    "book_data.drop_duplicates(subset =\"itemID\", keep=False,inplace=True)\n",
    "print(book_data.shape)"
   ]
  },
  {
   "cell_type": "code",
   "execution_count": null,
   "id": "5659a073-5c5c-4cb7-8906-0c3b2fb28c0c",
   "metadata": {},
   "outputs": [],
   "source": [
    "book_data.head()"
   ]
  },
  {
   "cell_type": "code",
   "execution_count": null,
   "id": "28e7342c-7f5a-4189-9c3b-ceeefc70ffdb",
   "metadata": {},
   "outputs": [],
   "source": [
    "##compute total interest (interest*frequency)"
   ]
  }
 ],
 "metadata": {
  "kernelspec": {
   "display_name": "Python 3",
   "language": "python",
   "name": "python3"
  },
  "language_info": {
   "codemirror_mode": {
    "name": "ipython",
    "version": 3
   },
   "file_extension": ".py",
   "mimetype": "text/x-python",
   "name": "python",
   "nbconvert_exporter": "python",
   "pygments_lexer": "ipython3",
   "version": "3.6.12"
  }
 },
 "nbformat": 4,
 "nbformat_minor": 5
}
