{
  "nbformat": 4,
  "nbformat_minor": 5,
  "metadata": {
    "kernelspec": {
      "display_name": "Python 3",
      "language": "python",
      "name": "python3"
    },
    "language_info": {
      "codemirror_mode": {
        "name": "ipython",
        "version": 3
      },
      "file_extension": ".py",
      "mimetype": "text/x-python",
      "name": "python",
      "nbconvert_exporter": "python",
      "pygments_lexer": "ipython3",
      "version": "3.6.12"
    },
    "colab": {
      "name": "DMC script.ipynb",
      "provenance": []
    }
  },
  "cells": [
    {
      "cell_type": "code",
      "metadata": {
        "id": "7d2c22a6"
      },
      "source": [
        "import pandas as pd\n",
        "import numpy as np\n",
        "from datetime import datetime\n",
        "import matplotlib.pyplot as plt\n",
        "import csv"
      ],
      "id": "7d2c22a6",
      "execution_count": null,
      "outputs": []
    },
    {
      "cell_type": "code",
      "metadata": {
        "id": "d4781400"
      },
      "source": [
        "transaction = pd.read_csv(\"transactions.csv\", delimiter=\"|\")\n",
        "items = pd.read_csv(\"items.csv\", delimiter=\"|\")"
      ],
      "id": "d4781400",
      "execution_count": null,
      "outputs": []
    },
    {
      "cell_type": "code",
      "metadata": {
        "id": "757616fc"
      },
      "source": [
        "transaction.head()"
      ],
      "id": "757616fc",
      "execution_count": null,
      "outputs": []
    },
    {
      "cell_type": "code",
      "metadata": {
        "id": "c37aaba7"
      },
      "source": [
        "print(transaction.shape)\n",
        "print(items.shape)"
      ],
      "id": "c37aaba7",
      "execution_count": null,
      "outputs": []
    },
    {
      "cell_type": "code",
      "metadata": {
        "id": "95494932"
      },
      "source": [
        "data = pd.merge(items, transaction, on=[\"itemID\"])"
      ],
      "id": "95494932",
      "execution_count": null,
      "outputs": []
    },
    {
      "cell_type": "code",
      "metadata": {
        "id": "24c966e9"
      },
      "source": [
        "data.shape"
      ],
      "id": "24c966e9",
      "execution_count": null,
      "outputs": []
    },
    {
      "cell_type": "code",
      "metadata": {
        "id": "b160e6b4"
      },
      "source": [
        "data.info()"
      ],
      "id": "b160e6b4",
      "execution_count": null,
      "outputs": []
    },
    {
      "cell_type": "code",
      "metadata": {
        "id": "07cf02c3"
      },
      "source": [
        "# choosing Target variable\n",
        "#print(inner_merged_total['basket'].value_counts())\n",
        "#print(inner_merged_total['click'].value_counts())\n",
        "print(data['order'].value_counts())"
      ],
      "id": "07cf02c3",
      "execution_count": null,
      "outputs": []
    },
    {
      "cell_type": "code",
      "metadata": {
        "id": "b1d78f30"
      },
      "source": [
        "data.head()\n",
        "#print(inner_merged_total['Interest'].value_counts())"
      ],
      "id": "b1d78f30",
      "execution_count": null,
      "outputs": []
    },
    {
      "cell_type": "code",
      "metadata": {
        "id": "dd64db43"
      },
      "source": [
        "##generate frequency\n",
        "test = data.value_counts(['itemID']).reset_index(name='Frequency')\n",
        "print(test.head())"
      ],
      "id": "dd64db43",
      "execution_count": null,
      "outputs": []
    },
    {
      "cell_type": "code",
      "metadata": {
        "id": "c049122d"
      },
      "source": [
        "#Merging frequency \n",
        "book_data = pd.merge(data, test, on=[\"itemID\"])\n",
        "book_data.head()"
      ],
      "id": "c049122d",
      "execution_count": null,
      "outputs": []
    },
    {
      "cell_type": "code",
      "metadata": {
        "id": "f73a5ea2"
      },
      "source": [
        "#remove dupicate rows \n",
        "print(book_data.shape)\n",
        "# book_data.drop_duplicates(subset =\"itemID\", keep='first' ,inplace=True)\n",
        "# print(book_data.shape)"
      ],
      "id": "f73a5ea2",
      "execution_count": null,
      "outputs": []
    },
    {
      "cell_type": "code",
      "metadata": {
        "id": "f34bb2d6-1675-4f84-b5a3-b4c960fe05c5"
      },
      "source": [
        "book_data[\"itemID\"].value_counts()"
      ],
      "id": "f34bb2d6-1675-4f84-b5a3-b4c960fe05c5",
      "execution_count": null,
      "outputs": []
    },
    {
      "cell_type": "code",
      "metadata": {
        "id": "af6d9dec"
      },
      "source": [
        "book_data.head()"
      ],
      "id": "af6d9dec",
      "execution_count": null,
      "outputs": []
    },
    {
      "cell_type": "code",
      "metadata": {
        "id": "3df832bf-510a-4e84-9035-e20912b0b8fd"
      },
      "source": [
        "book_rating= book_data.copy()\n",
        "book_rating = book_rating.drop(['sessionID','author','publisher'], axis=1)"
      ],
      "id": "3df832bf-510a-4e84-9035-e20912b0b8fd",
      "execution_count": null,
      "outputs": []
    },
    {
      "cell_type": "code",
      "metadata": {
        "id": "39e8c73f-57a7-4058-a5eb-f03d083d2cb9"
      },
      "source": [
        "import numpy as np\n",
        "book_rating['log_frequency'] = np.log(book_data['Frequency'])"
      ],
      "id": "39e8c73f-57a7-4058-a5eb-f03d083d2cb9",
      "execution_count": null,
      "outputs": []
    },
    {
      "cell_type": "code",
      "metadata": {
        "id": "0c56ee57-5b35-4d0a-9399-4eb1292f1b5b"
      },
      "source": [
        "print(book_rating['log_frequency'].value_counts())"
      ],
      "id": "0c56ee57-5b35-4d0a-9399-4eb1292f1b5b",
      "execution_count": null,
      "outputs": []
    },
    {
      "cell_type": "code",
      "metadata": {
        "id": "e0bde788-50a4-4dff-bac1-95b19f976b4a"
      },
      "source": [
        "book_rating['basket'].value_counts()"
      ],
      "id": "e0bde788-50a4-4dff-bac1-95b19f976b4a",
      "execution_count": null,
      "outputs": []
    },
    {
      "cell_type": "code",
      "metadata": {
        "id": "22570470-0ef1-431d-9a1b-11aba15115b2"
      },
      "source": [
        "bin_labels_5 = ['E','D','C', 'B', 'A']\n",
        "book_rating['Grade'] = pd.qcut(book_rating['log_frequency'],\n",
        "                              q=[0, .2, .4, .6, .8, 1],\n",
        "                              labels=bin_labels_5, duplicates='drop')\n",
        "book_rating\n"
      ],
      "id": "22570470-0ef1-431d-9a1b-11aba15115b2",
      "execution_count": null,
      "outputs": []
    },
    {
      "cell_type": "code",
      "metadata": {
        "id": "fd3fdf64-8af7-465d-a77c-d26dd41bbdc2"
      },
      "source": [
        "book_rating.drop_duplicates(subset =\"title\", keep='first' ,inplace=True)"
      ],
      "id": "fd3fdf64-8af7-465d-a77c-d26dd41bbdc2",
      "execution_count": null,
      "outputs": []
    },
    {
      "cell_type": "code",
      "metadata": {
        "id": "1bec9a43-b2cc-4a12-81a4-81ad524ca33c"
      },
      "source": [
        "book_rating.reset_index()"
      ],
      "id": "1bec9a43-b2cc-4a12-81a4-81ad524ca33c",
      "execution_count": null,
      "outputs": []
    },
    {
      "cell_type": "code",
      "metadata": {
        "id": "9fee640f-78a6-441d-8f3e-6a73be02d99d"
      },
      "source": [
        "##data cleaning\n",
        "values = {'basket': 0, 'order': 0,'click':0}\n",
        "book_rating = book_rating.fillna(value=values)"
      ],
      "id": "9fee640f-78a6-441d-8f3e-6a73be02d99d",
      "execution_count": null,
      "outputs": []
    },
    {
      "cell_type": "code",
      "metadata": {
        "id": "0db48303-0d4d-4dae-8274-b33415bff19b"
      },
      "source": [
        "#calculate relevance score\n",
        "\n",
        "def relevance(book_rating):\n",
        "    if (book_rating['order'] != 0.0 and book_rating['basket'] != 0.0):\n",
        "        return \"A\"\n",
        "    elif (book_rating['order'] != 0.0 and  book_rating['basket'] == 0.0):\n",
        "        return \"B\"\n",
        "    elif (book_rating['order'] == 0.0 and  book_rating['basket'] != 0.0):\n",
        "        return \"C\"\n",
        "    else:\n",
        "        return \"D\"\n",
        "    \n",
        "\n",
        "book_rating['relevance_score'] = book_rating.apply(relevance, axis = 1)\n"
      ],
      "id": "0db48303-0d4d-4dae-8274-b33415bff19b",
      "execution_count": null,
      "outputs": []
    },
    {
      "cell_type": "markdown",
      "metadata": {
        "id": "2e0a96a0-bbbe-4c66-a0d8-3ce050f19478"
      },
      "source": [
        "# Split data based on Frequency"
      ],
      "id": "2e0a96a0-bbbe-4c66-a0d8-3ce050f19478"
    },
    {
      "cell_type": "code",
      "metadata": {
        "id": "f0828ee2-d250-4bfd-8cec-6e2db85ebfa4"
      },
      "source": [
        "##relevant book\n",
        "book_rating_G = book_rating[book_rating['relevance_score'] != \"D\"]\n",
        "print(book_rating_G.shape)\n",
        "\n",
        "## books arent transacted pt 1\n",
        "book_rating_B1 = book_rating[book_rating['relevance_score'] == \"D\"]\n",
        "book_rating_B1 = book_rating_B1.head(34602)\n",
        "print(book_rating_B1.shape)\n",
        "\n",
        "## books arent transacted pt 2\n",
        "book_rating_B2 = book_rating_B1.tail(34602)\n",
        "print(book_rating_B2.shape)"
      ],
      "id": "f0828ee2-d250-4bfd-8cec-6e2db85ebfa4",
      "execution_count": null,
      "outputs": []
    },
    {
      "cell_type": "markdown",
      "metadata": {
        "id": "b7373997-0941-4d81-bcdf-849cc122c02d"
      },
      "source": [
        "# Matrix part 1"
      ],
      "id": "b7373997-0941-4d81-bcdf-849cc122c02d"
    },
    {
      "cell_type": "code",
      "metadata": {
        "id": "44b72de0-4aa3-48e1-b98d-41cb163ae42e"
      },
      "source": [
        "#creating combined target feature\n",
        "def parseFeatureA(book_rating):\n",
        "    data = str(book_rating[\"main topic\"]) + ','\n",
        "    data += str(book_rating[\"subtopics\"]) + ','\n",
        "    data += str(book_rating[\"Grade\"]) + ','\n",
        "    data += str(book_rating[\"relevance_score\"])\n",
        "    x = data.replace('[','')\n",
        "    y = x.replace(']','')\n",
        "    return y"
      ],
      "id": "44b72de0-4aa3-48e1-b98d-41cb163ae42e",
      "execution_count": null,
      "outputs": []
    },
    {
      "cell_type": "code",
      "metadata": {
        "id": "79825d7e-e054-47a8-ba18-4f73c9d97a20"
      },
      "source": [
        "book_rating['parsedFeatureStr'] = book_rating.apply(parseFeatureA, axis = 1)"
      ],
      "id": "79825d7e-e054-47a8-ba18-4f73c9d97a20",
      "execution_count": null,
      "outputs": []
    },
    {
      "cell_type": "code",
      "metadata": {
        "id": "e4221b50-20f3-4d3e-9e23-5c1f8cd0a389"
      },
      "source": [
        "book_rating.head(5)"
      ],
      "id": "e4221b50-20f3-4d3e-9e23-5c1f8cd0a389",
      "execution_count": null,
      "outputs": []
    },
    {
      "cell_type": "code",
      "metadata": {
        "id": "a27b3275-0fbe-4180-92b3-1643c9f1f9e8"
      },
      "source": [
        "book_rating = book_rating.reset_index(drop=True)"
      ],
      "id": "a27b3275-0fbe-4180-92b3-1643c9f1f9e8",
      "execution_count": null,
      "outputs": []
    },
    {
      "cell_type": "code",
      "metadata": {
        "id": "e01bacfa-6f7d-4d37-9700-c4a218bb7b83"
      },
      "source": [
        "from sklearn.feature_extraction.text import TfidfVectorizer\n",
        "\n",
        "\n",
        "\n",
        "vectorizer = TfidfVectorizer(min_df=3, max_features=None,\n",
        "                            strip_accents='unicode', analyzer='word',token_pattern=r',',ngram_range=(1,3),stop_words='english')\n"
      ],
      "id": "e01bacfa-6f7d-4d37-9700-c4a218bb7b83",
      "execution_count": null,
      "outputs": []
    },
    {
      "cell_type": "code",
      "metadata": {
        "id": "1a595c76-4811-4a8d-90b4-42f5c0d51d2e"
      },
      "source": [
        "parsedFeatureMatrix = vectorizer.fit_transform(book_rating['parsedFeatureStr'])"
      ],
      "id": "1a595c76-4811-4a8d-90b4-42f5c0d51d2e",
      "execution_count": null,
      "outputs": []
    },
    {
      "cell_type": "code",
      "metadata": {
        "id": "d432d7bb-fb54-4726-b15d-5cbdc2d51b6a"
      },
      "source": [
        "parsedFeatureMatrix"
      ],
      "id": "d432d7bb-fb54-4726-b15d-5cbdc2d51b6a",
      "execution_count": null,
      "outputs": []
    },
    {
      "cell_type": "code",
      "metadata": {
        "id": "bf3e3401-2893-40cf-9f48-37c9f8d941b3"
      },
      "source": [
        "parsedFeatureMatrix.shape"
      ],
      "id": "bf3e3401-2893-40cf-9f48-37c9f8d941b3",
      "execution_count": null,
      "outputs": []
    },
    {
      "cell_type": "code",
      "metadata": {
        "id": "561b3f08-e8f4-4300-9ffc-d5c66d2ca171"
      },
      "source": [
        "from sklearn.metrics.pairwise import sigmoid_kernel \n",
        "from sklearn.metrics.pairwise import cosine_similarity \n",
        "\n",
        "sig = sigmoid_kernel(parsedFeatureMatrix, parsedFeatureMatrix)\n",
        "# cos = cosine_similarity(parsedFeatureMatrix, parsedFeatureMatrix)"
      ],
      "id": "561b3f08-e8f4-4300-9ffc-d5c66d2ca171",
      "execution_count": null,
      "outputs": []
    },
    {
      "cell_type": "code",
      "metadata": {
        "id": "b90120ce-c1b4-45f3-9417-d6978bdc4a65"
      },
      "source": [
        "indices = pd.Series(book_rating.index, index = book_rating['title'])"
      ],
      "id": "b90120ce-c1b4-45f3-9417-d6978bdc4a65",
      "execution_count": null,
      "outputs": []
    },
    {
      "cell_type": "code",
      "metadata": {
        "id": "ea61c826-5818-4801-b100-2eee8b3b1882"
      },
      "source": [
        "indices_df = pd.Series(book_rating.index, index = book_rating['title']).to_frame()"
      ],
      "id": "ea61c826-5818-4801-b100-2eee8b3b1882",
      "execution_count": null,
      "outputs": []
    },
    {
      "cell_type": "code",
      "metadata": {
        "id": "8b77babe-086e-4d36-92b6-9a04346c76d8"
      },
      "source": [
        "indices_itemID_mapping = pd.merge(indices_df, book_rating, on=[\"title\"])"
      ],
      "id": "8b77babe-086e-4d36-92b6-9a04346c76d8",
      "execution_count": null,
      "outputs": []
    },
    {
      "cell_type": "code",
      "metadata": {
        "id": "96a05edf-4a85-4b89-ba3f-7bad26c5b98d"
      },
      "source": [
        "indices_itemID_mapping = indices_itemID_mapping.drop(['index'], axis=1)"
      ],
      "id": "96a05edf-4a85-4b89-ba3f-7bad26c5b98d",
      "execution_count": null,
      "outputs": []
    },
    {
      "cell_type": "code",
      "metadata": {
        "id": "6bde987c-45ee-4694-bb5e-874df5e29d41"
      },
      "source": [
        "indices_itemID_mapping\n",
        "# print(indices_df)"
      ],
      "id": "6bde987c-45ee-4694-bb5e-874df5e29d41",
      "execution_count": null,
      "outputs": []
    },
    {
      "cell_type": "code",
      "metadata": {
        "id": "28ddf27e-c07e-4c80-a011-4f4c3ba34e8c"
      },
      "source": [
        "def recommender(title, sig=sig):\n",
        "    index = indices[title]\n",
        "    print(index)\n",
        "    \n",
        "    # get similarity scores\n",
        "    sig_scores = list(enumerate(sig[index]))\n",
        "    #sort by scores\n",
        "    sig_scores = sorted(sig_scores, key=lambda x:x[1], reverse=True)\n",
        "    sig_scores = sig_scores[1:6]\n",
        "    \n",
        "    #relate to book\n",
        "    book_indices = [i[0] for i in sig_scores]\n",
        "    \n",
        "    return book_rating['itemID'].iloc[book_indices]\n",
        "    \n",
        "    \n",
        "    "
      ],
      "id": "28ddf27e-c07e-4c80-a011-4f4c3ba34e8c",
      "execution_count": null,
      "outputs": []
    },
    {
      "cell_type": "code",
      "metadata": {
        "id": "652a12d3-7bf3-4faf-bc8d-12bd49e59d88"
      },
      "source": [
        "recommender_df = recommender('Red Queen 1').to_frame()"
      ],
      "id": "652a12d3-7bf3-4faf-bc8d-12bd49e59d88",
      "execution_count": null,
      "outputs": []
    },
    {
      "cell_type": "code",
      "metadata": {
        "id": "b06758e2-e079-4843-aa44-eb1c4374190a"
      },
      "source": [
        "recommender_df"
      ],
      "id": "b06758e2-e079-4843-aa44-eb1c4374190a",
      "execution_count": null,
      "outputs": []
    },
    {
      "cell_type": "markdown",
      "metadata": {
        "id": "90aee164-d1b6-4b20-a27b-e2ef6dfc0605"
      },
      "source": [
        "## Populate evaluation DF Part 1\n"
      ],
      "id": "90aee164-d1b6-4b20-a27b-e2ef6dfc0605"
    },
    {
      "cell_type": "code",
      "metadata": {
        "id": "2a7356e1-a20d-433f-a8f1-beaec4a5b26a"
      },
      "source": [
        "## Use Evaluation dataset to recommend 5 itemID\n",
        "\n",
        "evaluation_df = pd.read_csv(\"evaluation.csv\", delimiter=\"|\")\n",
        "\n",
        "evaluation_df"
      ],
      "id": "2a7356e1-a20d-433f-a8f1-beaec4a5b26a",
      "execution_count": null,
      "outputs": []
    },
    {
      "cell_type": "code",
      "metadata": {
        "id": "c7ef27f8-6053-4a4b-80ce-8d359ba1db6c"
      },
      "source": [
        "title_df = book_rating.drop(['basket','order','main topic','subtopics','log_frequency','Grade', 'relevance_score', 'click','Frequency'], axis=1)\n",
        "title_df"
      ],
      "id": "c7ef27f8-6053-4a4b-80ce-8d359ba1db6c",
      "execution_count": null,
      "outputs": []
    },
    {
      "cell_type": "code",
      "metadata": {
        "id": "e84b5080-9acd-4c3a-a897-224453738498"
      },
      "source": [
        "submission_df = pd.merge(evaluation_df, title_df, on=[\"itemID\"]) \n",
        "# submission_df_p1 = submission_df_p1.drop(['author','publisher','main topic','subtopics'], axis=1)\n",
        "# submission_df_p1 = submission_df_p1.drop('index')\n",
        "submission_df.reset_index(drop=True, inplace=True)"
      ],
      "id": "e84b5080-9acd-4c3a-a897-224453738498",
      "execution_count": null,
      "outputs": []
    },
    {
      "cell_type": "code",
      "metadata": {
        "id": "b42a59fd-237f-436a-bca0-aa8a3d26ef21"
      },
      "source": [
        "submission_df = submission_df.drop(\"parsedFeatureStr\", axis=1)\n",
        "submission_df"
      ],
      "id": "b42a59fd-237f-436a-bca0-aa8a3d26ef21",
      "execution_count": null,
      "outputs": []
    },
    {
      "cell_type": "code",
      "metadata": {
        "id": "834f1f85-f85e-4037-8e9f-3aee47bd2ff9"
      },
      "source": [
        "def rec(submission_df, num):\n",
        "    recommended_books = []\n",
        "    recommender_df = recommender(submission_df['title']).to_frame()\n",
        "    recommender_df = recommender_df.reset_index(drop=True)\n",
        "    for ind,row in recommender_df.iterrows():\n",
        "        recommended_books.append(row['itemID'])\n",
        "        \n",
        "    return recommended_books[num]"
      ],
      "id": "834f1f85-f85e-4037-8e9f-3aee47bd2ff9",
      "execution_count": null,
      "outputs": []
    },
    {
      "cell_type": "code",
      "metadata": {
        "id": "1b1a80c2-8c6d-4cd5-86fc-90dc555d9e5c"
      },
      "source": [
        "recommend = ['rec1','rec2','rec3','rec4','rec5']\n",
        "for i in range(0,5):\n",
        "    key = recommend[i]\n",
        "    submission_df[key] = submission_df.apply(rec,num=i, axis=1)\n",
        "    "
      ],
      "id": "1b1a80c2-8c6d-4cd5-86fc-90dc555d9e5c",
      "execution_count": null,
      "outputs": []
    },
    {
      "cell_type": "code",
      "metadata": {
        "id": "ab9405bc-afba-40d8-ab33-0c8b7440f1cc"
      },
      "source": [
        "submission_df.head()"
      ],
      "id": "ab9405bc-afba-40d8-ab33-0c8b7440f1cc",
      "execution_count": null,
      "outputs": []
    },
    {
      "cell_type": "code",
      "metadata": {
        "id": "4bbb4880-835c-43f9-875f-b29f4721b06d"
      },
      "source": [
        "submission_df = submission_df.drop(\"title\", axis=1)"
      ],
      "id": "4bbb4880-835c-43f9-875f-b29f4721b06d",
      "execution_count": null,
      "outputs": []
    },
    {
      "cell_type": "code",
      "metadata": {
        "id": "16381daa-2281-4a26-abf5-c8a0aef3b38f"
      },
      "source": [
        "Export_csv_p1 = submission_df.to_csv(\"final_submission_df_p1.csv\", index=False)"
      ],
      "id": "16381daa-2281-4a26-abf5-c8a0aef3b38f",
      "execution_count": null,
      "outputs": []
    },
    {
      "cell_type": "markdown",
      "metadata": {
        "id": "32699d4f-3059-4227-9315-74d96ba8d938"
      },
      "source": [
        "## Matrix Part 2"
      ],
      "id": "32699d4f-3059-4227-9315-74d96ba8d938"
    },
    {
      "cell_type": "code",
      "metadata": {
        "id": "4aa3900b-4a93-409d-ab78-d030148de731"
      },
      "source": [
        "#creating combined target feature\n",
        "def parseFeatureB1(book_rating_B1):\n",
        "    data = str(book_rating_B1[\"main topic\"]) + ','\n",
        "    data += str(book_rating_B1[\"subtopics\"]) + ','\n",
        "    data += str(book_rating_B1[\"Grade\"]) + ','\n",
        "    data += str(book_rating_B1[\"relevance_score\"])\n",
        "    x = data.replace('[','')\n",
        "    y = x.replace(']','')\n",
        "    return y"
      ],
      "id": "4aa3900b-4a93-409d-ab78-d030148de731",
      "execution_count": null,
      "outputs": []
    },
    {
      "cell_type": "code",
      "metadata": {
        "id": "2c275abb-e784-468a-9a6e-8e902b24732f"
      },
      "source": [
        "book_rating_B1.head(5)"
      ],
      "id": "2c275abb-e784-468a-9a6e-8e902b24732f",
      "execution_count": null,
      "outputs": []
    },
    {
      "cell_type": "code",
      "metadata": {
        "id": "f94637fe-2dfd-4137-9db5-8b72c9ba9748"
      },
      "source": [
        "book_rating_B1['parsedFeatureStr'] = book_rating_B1.apply(parseFeatureB1, axis = 1)"
      ],
      "id": "f94637fe-2dfd-4137-9db5-8b72c9ba9748",
      "execution_count": null,
      "outputs": []
    },
    {
      "cell_type": "code",
      "metadata": {
        "id": "d3cf1222-589c-4c71-b934-1d4ba02e9947"
      },
      "source": [
        "book_rating_B1 = book_rating_B1.reset_index(drop=True)"
      ],
      "id": "d3cf1222-589c-4c71-b934-1d4ba02e9947",
      "execution_count": null,
      "outputs": []
    },
    {
      "cell_type": "code",
      "metadata": {
        "id": "6a32be60-9cb5-4f78-92c7-1bedc7424004"
      },
      "source": [
        "from sklearn.feature_extraction.text import TfidfVectorizer\n",
        "\n",
        "\n",
        "\n",
        "vectorizer = TfidfVectorizer(min_df=3, max_features=None,\n",
        "                            strip_accents='unicode', analyzer='word',token_pattern=r',',ngram_range=(1,3),stop_words='english')"
      ],
      "id": "6a32be60-9cb5-4f78-92c7-1bedc7424004",
      "execution_count": null,
      "outputs": []
    },
    {
      "cell_type": "code",
      "metadata": {
        "id": "cf3048dd-23ee-4d9f-98d4-f992700e2b01"
      },
      "source": [
        "parsedFeatureMatrix = vectorizer.fit_transform(book_rating_B1['parsedFeatureStr'])"
      ],
      "id": "cf3048dd-23ee-4d9f-98d4-f992700e2b01",
      "execution_count": null,
      "outputs": []
    },
    {
      "cell_type": "code",
      "metadata": {
        "id": "f73c9f38-ad64-4536-a3fa-dc865287de4f"
      },
      "source": [
        "parsedFeatureMatrix.shape"
      ],
      "id": "f73c9f38-ad64-4536-a3fa-dc865287de4f",
      "execution_count": null,
      "outputs": []
    },
    {
      "cell_type": "code",
      "metadata": {
        "id": "00b2ec04-9367-49a6-87d3-22b6ebf1b112"
      },
      "source": [
        "from sklearn.metrics.pairwise import sigmoid_kernel \n",
        "from sklearn.metrics.pairwise import cosine_similarity \n",
        "\n",
        "sig = sigmoid_kernel(parsedFeatureMatrix, parsedFeatureMatrix)"
      ],
      "id": "00b2ec04-9367-49a6-87d3-22b6ebf1b112",
      "execution_count": null,
      "outputs": []
    },
    {
      "cell_type": "code",
      "metadata": {
        "id": "74f322fd-59c4-4e9f-a9c1-592207564e2f"
      },
      "source": [
        "indices = pd.Series(book_rating_B1.index, index = book_rating_B1['title'])"
      ],
      "id": "74f322fd-59c4-4e9f-a9c1-592207564e2f",
      "execution_count": null,
      "outputs": []
    },
    {
      "cell_type": "code",
      "metadata": {
        "id": "d9eb3e64-7f0e-4316-92f9-138ff38095e2"
      },
      "source": [
        "indices_df = pd.Series(book_rating_B1.index, index = book_rating_B1['title']).to_frame()"
      ],
      "id": "d9eb3e64-7f0e-4316-92f9-138ff38095e2",
      "execution_count": null,
      "outputs": []
    },
    {
      "cell_type": "code",
      "metadata": {
        "id": "bbc4dee7-e1ac-40d6-9c06-cd8f86474a47"
      },
      "source": [
        "indices_itemID_mapping = pd.merge(indices_df, book_rating_B1, on=[\"title\"])"
      ],
      "id": "bbc4dee7-e1ac-40d6-9c06-cd8f86474a47",
      "execution_count": null,
      "outputs": []
    },
    {
      "cell_type": "code",
      "metadata": {
        "id": "411e4d48-2a0a-48a4-bb06-bc7601a6d7a4"
      },
      "source": [
        "indices_itemID_mapping = indices_itemID_mapping.drop(['index'], axis=1)"
      ],
      "id": "411e4d48-2a0a-48a4-bb06-bc7601a6d7a4",
      "execution_count": null,
      "outputs": []
    },
    {
      "cell_type": "code",
      "metadata": {
        "id": "4aef0a24-1219-45c0-93d4-038beb9c83cc"
      },
      "source": [
        "indices_itemID_mapping"
      ],
      "id": "4aef0a24-1219-45c0-93d4-038beb9c83cc",
      "execution_count": null,
      "outputs": []
    },
    {
      "cell_type": "code",
      "metadata": {
        "id": "a313df42-b492-4f63-8689-251c4e0044a5"
      },
      "source": [
        "def recommender(title, sig=sig):\n",
        "    index = indices[title]\n",
        "    print(index)\n",
        "    \n",
        "    # get similarity scores\n",
        "    sig_scores = list(enumerate(sig[index]))\n",
        "    #sort by scores\n",
        "    sig_scores = sorted(sig_scores, key=lambda x:x[1], reverse=True)\n",
        "    sig_scores = sig_scores[1:6]\n",
        "    \n",
        "    #relate to book\n",
        "    book_indices = [i[0] for i in sig_scores]\n",
        "    \n",
        "    return book_rating['itemID'].iloc[book_indices]"
      ],
      "id": "a313df42-b492-4f63-8689-251c4e0044a5",
      "execution_count": null,
      "outputs": []
    },
    {
      "cell_type": "code",
      "metadata": {
        "id": "4fcc1fd7-dc80-4a95-828c-5178e53f0fd7"
      },
      "source": [
        "recommender_df = recommender('Einfach zeichnen! Step by Step').to_frame()"
      ],
      "id": "4fcc1fd7-dc80-4a95-828c-5178e53f0fd7",
      "execution_count": null,
      "outputs": []
    },
    {
      "cell_type": "code",
      "metadata": {
        "id": "cfcc0210-cbad-4a00-8486-8376e6b48058"
      },
      "source": [
        "recommender_df"
      ],
      "id": "cfcc0210-cbad-4a00-8486-8376e6b48058",
      "execution_count": null,
      "outputs": []
    },
    {
      "cell_type": "markdown",
      "metadata": {
        "id": "660d8473-fccc-43fc-afaf-ed7d022e4087"
      },
      "source": [
        "## Populate evaluation DF Part 2"
      ],
      "id": "660d8473-fccc-43fc-afaf-ed7d022e4087"
    },
    {
      "cell_type": "code",
      "metadata": {
        "id": "b12051e9-c562-4d45-bbd8-d5206d7e0657"
      },
      "source": [
        "evaluation_df"
      ],
      "id": "b12051e9-c562-4d45-bbd8-d5206d7e0657",
      "execution_count": null,
      "outputs": []
    },
    {
      "cell_type": "code",
      "metadata": {
        "id": "b332c531-73e5-4a08-a538-855070074283"
      },
      "source": [
        "title_df = book_rating_B1.drop(['basket','order','main topic','subtopics','log_frequency','Grade', 'relevance_score', 'click','Frequency'], axis=1)\n",
        "title_df"
      ],
      "id": "b332c531-73e5-4a08-a538-855070074283",
      "execution_count": null,
      "outputs": []
    },
    {
      "cell_type": "code",
      "metadata": {
        "id": "42370289-327b-44ee-85ee-a6d31d948a2a"
      },
      "source": [
        "submission_df_p2 = pd.merge(evaluation_df, title_df, on=[\"itemID\"]) \n",
        "# submission_df_p1 = submission_df_p1.drop(['author','publisher','main topic','subtopics'], axis=1)\n",
        "# submission_df_p1 = submission_df_p1.drop('index')\n",
        "submission_df_p2.reset_index(drop=True, inplace=True)"
      ],
      "id": "42370289-327b-44ee-85ee-a6d31d948a2a",
      "execution_count": null,
      "outputs": []
    },
    {
      "cell_type": "code",
      "metadata": {
        "id": "bbc098e2-d9a9-4ca4-9b3c-91c181b7fb71"
      },
      "source": [
        "def rec2(submission_df_p2, num):\n",
        "    recommended_books = []\n",
        "    recommender_df = recommender(submission_df_p2['title']).to_frame()\n",
        "    recommender_df = recommender_df.reset_index(drop=True)\n",
        "    for ind,row in recommender_df.iterrows():\n",
        "        recommended_books.append(row['itemID'])\n",
        "        \n",
        "    return recommended_books[num]"
      ],
      "id": "bbc098e2-d9a9-4ca4-9b3c-91c181b7fb71",
      "execution_count": null,
      "outputs": []
    },
    {
      "cell_type": "code",
      "metadata": {
        "id": "f139f41d-fdcf-4fa2-bedf-41fd15daed6d"
      },
      "source": [
        "recommend = ['rec1','rec2','rec3','rec4','rec5']\n",
        "for i in range(0,5):\n",
        "    key = recommend[i]\n",
        "    submission_df_p2[key] = submission_df_p2.apply(rec2,num=i, axis=1)"
      ],
      "id": "f139f41d-fdcf-4fa2-bedf-41fd15daed6d",
      "execution_count": null,
      "outputs": []
    },
    {
      "cell_type": "code",
      "metadata": {
        "id": "92d48bfb-8be9-4edc-ad29-2e64e2daab68"
      },
      "source": [
        "submission_df_p2 = submission_df_p2.drop(['title','parsedFeatureStr'], axis=1)"
      ],
      "id": "92d48bfb-8be9-4edc-ad29-2e64e2daab68",
      "execution_count": null,
      "outputs": []
    },
    {
      "cell_type": "code",
      "metadata": {
        "id": "e82faa58-0e72-48a9-81b4-fe5d925c0313"
      },
      "source": [
        "submission_df_p2"
      ],
      "id": "e82faa58-0e72-48a9-81b4-fe5d925c0313",
      "execution_count": null,
      "outputs": []
    },
    {
      "cell_type": "code",
      "metadata": {
        "id": "ee72273e-6d8a-4a27-a76b-cd922e1c7d4d"
      },
      "source": [
        "Export_csv_p2 = submission_df_p2.to_csv(\"submission_df_p2.csv\", index=False)"
      ],
      "id": "ee72273e-6d8a-4a27-a76b-cd922e1c7d4d",
      "execution_count": null,
      "outputs": []
    },
    {
      "cell_type": "markdown",
      "metadata": {
        "id": "836b1d4b-bab7-40d0-a3ad-ca288a59c770"
      },
      "source": [
        "## Matrix part 3"
      ],
      "id": "836b1d4b-bab7-40d0-a3ad-ca288a59c770"
    },
    {
      "cell_type": "code",
      "metadata": {
        "id": "80c3d019-1299-4816-b859-33d518740d03"
      },
      "source": [
        "#creating combined target feature\n",
        "def parseFeatureB2(book_rating_B2):\n",
        "    data = str(book_rating_B2[\"main topic\"]) + ','\n",
        "    data += str(book_rating_B2[\"subtopics\"]) + ','\n",
        "    data += str(book_rating_B2[\"Grade\"]) + ','\n",
        "    data += str(book_rating_B2[\"relevance_score\"])\n",
        "    x = data.replace('[','')\n",
        "    y = x.replace(']','')\n",
        "    return y"
      ],
      "id": "80c3d019-1299-4816-b859-33d518740d03",
      "execution_count": null,
      "outputs": []
    },
    {
      "cell_type": "code",
      "metadata": {
        "id": "4f223ddf-b9fb-4582-a7f3-df42a04903bf"
      },
      "source": [
        "book_rating_B2.head(5)"
      ],
      "id": "4f223ddf-b9fb-4582-a7f3-df42a04903bf",
      "execution_count": null,
      "outputs": []
    },
    {
      "cell_type": "code",
      "metadata": {
        "id": "242c4b43-5e98-42de-8345-2dab95033c33"
      },
      "source": [
        "book_rating_B2['parsedFeatureStr'] = book_rating_B2.apply(parseFeatureB2, axis = 1)"
      ],
      "id": "242c4b43-5e98-42de-8345-2dab95033c33",
      "execution_count": null,
      "outputs": []
    },
    {
      "cell_type": "code",
      "metadata": {
        "id": "e01ab9ff-b6fc-4423-a848-1027e97ab9bb"
      },
      "source": [
        "book_rating_B2 = book_rating_B2.reset_index(drop=True)"
      ],
      "id": "e01ab9ff-b6fc-4423-a848-1027e97ab9bb",
      "execution_count": null,
      "outputs": []
    },
    {
      "cell_type": "code",
      "metadata": {
        "id": "af44e918-39b2-4efc-99d2-830a17915b44"
      },
      "source": [
        "from sklearn.feature_extraction.text import TfidfVectorizer\n",
        "\n",
        "\n",
        "\n",
        "vectorizer = TfidfVectorizer(min_df=3, max_features=None,\n",
        "                            strip_accents='unicode', analyzer='word',token_pattern=r',',ngram_range=(1,3),stop_words='english')"
      ],
      "id": "af44e918-39b2-4efc-99d2-830a17915b44",
      "execution_count": null,
      "outputs": []
    },
    {
      "cell_type": "code",
      "metadata": {
        "id": "0bbb04d8-3ac0-4bd2-837f-959c94a17ad6"
      },
      "source": [
        "parsedFeatureMatrix = vectorizer.fit_transform(book_rating_B2['parsedFeatureStr'])"
      ],
      "id": "0bbb04d8-3ac0-4bd2-837f-959c94a17ad6",
      "execution_count": null,
      "outputs": []
    },
    {
      "cell_type": "code",
      "metadata": {
        "id": "4a9abcec-2efc-4d33-b912-a4636712cdb6"
      },
      "source": [
        "parsedFeatureMatrix.shape"
      ],
      "id": "4a9abcec-2efc-4d33-b912-a4636712cdb6",
      "execution_count": null,
      "outputs": []
    },
    {
      "cell_type": "code",
      "metadata": {
        "id": "7909a3ba-f587-4f74-8b28-0b523fc21c1a"
      },
      "source": [
        "from sklearn.metrics.pairwise import sigmoid_kernel \n",
        "from sklearn.metrics.pairwise import cosine_similarity \n",
        "\n",
        "sig = sigmoid_kernel(parsedFeatureMatrix, parsedFeatureMatrix)"
      ],
      "id": "7909a3ba-f587-4f74-8b28-0b523fc21c1a",
      "execution_count": null,
      "outputs": []
    },
    {
      "cell_type": "code",
      "metadata": {
        "id": "4f630381-d4a5-4d16-90b2-d007d8d56897"
      },
      "source": [
        "indices = pd.Series(book_rating_B2.index, index = book_rating_B2['title'])"
      ],
      "id": "4f630381-d4a5-4d16-90b2-d007d8d56897",
      "execution_count": null,
      "outputs": []
    },
    {
      "cell_type": "code",
      "metadata": {
        "id": "f9ef0be3-d058-4c61-bf59-18627a570034"
      },
      "source": [
        "indices_df = pd.Series(book_rating_B2.index, index = book_rating_B2['title']).to_frame()"
      ],
      "id": "f9ef0be3-d058-4c61-bf59-18627a570034",
      "execution_count": null,
      "outputs": []
    },
    {
      "cell_type": "code",
      "metadata": {
        "id": "2b4a56ad-9126-4bb2-8639-c5fd54e00adf"
      },
      "source": [
        "indices_itemID_mapping = pd.merge(indices_df, book_rating_B2, on=[\"title\"])"
      ],
      "id": "2b4a56ad-9126-4bb2-8639-c5fd54e00adf",
      "execution_count": null,
      "outputs": []
    },
    {
      "cell_type": "code",
      "metadata": {
        "id": "d420c980-cbde-4a2e-ad4c-c045ac4e4b09"
      },
      "source": [
        "indices_itemID_mapping = indices_itemID_mapping.drop(['index'], axis=1)"
      ],
      "id": "d420c980-cbde-4a2e-ad4c-c045ac4e4b09",
      "execution_count": null,
      "outputs": []
    },
    {
      "cell_type": "code",
      "metadata": {
        "id": "b7ee76ab-edb2-4280-9e34-1c2184400fda"
      },
      "source": [
        "indices_itemID_mapping"
      ],
      "id": "b7ee76ab-edb2-4280-9e34-1c2184400fda",
      "execution_count": null,
      "outputs": []
    },
    {
      "cell_type": "code",
      "metadata": {
        "id": "cfb97d6f-fb20-4f11-90de-ec0beba38203"
      },
      "source": [
        "def recommender(title, sig=sig):\n",
        "    index = indices[title]\n",
        "    print(index)\n",
        "    \n",
        "    # get similarity scores\n",
        "    sig_scores = list(enumerate(sig[index]))\n",
        "    #sort by scores\n",
        "    sig_scores = sorted(sig_scores, key=lambda x:x[1], reverse=True)\n",
        "    sig_scores = sig_scores[1:6]\n",
        "    \n",
        "    #relate to book\n",
        "    book_indices = [i[0] for i in sig_scores]\n",
        "    \n",
        "    return book_rating['itemID'].iloc[book_indices]"
      ],
      "id": "cfb97d6f-fb20-4f11-90de-ec0beba38203",
      "execution_count": null,
      "outputs": []
    },
    {
      "cell_type": "code",
      "metadata": {
        "id": "b923e213-f15b-4040-b354-7d4a9b3a2004"
      },
      "source": [
        "recommender_df = recommender('Einfach zeichnen! Step by Step').to_frame()"
      ],
      "id": "b923e213-f15b-4040-b354-7d4a9b3a2004",
      "execution_count": null,
      "outputs": []
    },
    {
      "cell_type": "code",
      "metadata": {
        "id": "d7edabee-212b-480e-84fa-34967eba9d00"
      },
      "source": [
        "recommender_df"
      ],
      "id": "d7edabee-212b-480e-84fa-34967eba9d00",
      "execution_count": null,
      "outputs": []
    },
    {
      "cell_type": "markdown",
      "metadata": {
        "id": "4647bfe1-d8f1-4d4d-b7e4-daa1f0c351cb"
      },
      "source": [
        "## Populate evaluation DF Part 3"
      ],
      "id": "4647bfe1-d8f1-4d4d-b7e4-daa1f0c351cb"
    },
    {
      "cell_type": "code",
      "metadata": {
        "id": "15292cab-0528-4a31-9797-bda9659be9bd"
      },
      "source": [
        "evaluation_df"
      ],
      "id": "15292cab-0528-4a31-9797-bda9659be9bd",
      "execution_count": null,
      "outputs": []
    },
    {
      "cell_type": "code",
      "metadata": {
        "id": "749acac3-72c6-4928-9120-575517bb16c4"
      },
      "source": [
        "title_df = book_rating_B2.drop(['basket','order','main topic','subtopics','log_frequency','Grade', 'relevance_score', 'click','Frequency'], axis=1)\n",
        "title_df"
      ],
      "id": "749acac3-72c6-4928-9120-575517bb16c4",
      "execution_count": null,
      "outputs": []
    },
    {
      "cell_type": "code",
      "metadata": {
        "id": "3c8a071f-a6e5-479e-8f85-07c44961e65f"
      },
      "source": [
        "submission_df_p3 = pd.merge(evaluation_df, title_df, on=[\"itemID\"]) \n",
        "# submission_df_p1 = submission_df_p1.drop(['author','publisher','main topic','subtopics'], axis=1)\n",
        "# submission_df_p1 = submission_df_p1.drop('index')\n",
        "submission_df_p3.reset_index(drop=True, inplace=True)"
      ],
      "id": "3c8a071f-a6e5-479e-8f85-07c44961e65f",
      "execution_count": null,
      "outputs": []
    },
    {
      "cell_type": "code",
      "metadata": {
        "id": "b0ca7e77-f697-4b62-89ae-907b29d3f545"
      },
      "source": [
        "def rec3(submission_df_p3, num):\n",
        "    recommended_books = []\n",
        "    recommender_df = recommender(submission_df_p3['title']).to_frame()\n",
        "    recommender_df = recommender_df.reset_index(drop=True)\n",
        "    for ind,row in recommender_df.iterrows():\n",
        "        recommended_books.append(row['itemID'])\n",
        "        \n",
        "    return recommended_books[num]"
      ],
      "id": "b0ca7e77-f697-4b62-89ae-907b29d3f545",
      "execution_count": null,
      "outputs": []
    },
    {
      "cell_type": "code",
      "metadata": {
        "id": "04ff945a-ee67-44e1-8d1a-4dab593c7b67"
      },
      "source": [
        "recommend = ['rec1','rec2','rec3','rec4','rec5']\n",
        "for i in range(0,5):\n",
        "    key = recommend[i]\n",
        "    submission_df_p3[key] = submission_df_p3.apply(rec3,num=i, axis=1)"
      ],
      "id": "04ff945a-ee67-44e1-8d1a-4dab593c7b67",
      "execution_count": null,
      "outputs": []
    },
    {
      "cell_type": "code",
      "metadata": {
        "id": "0e8bca03-6a00-49f2-ab15-1385545f0f30"
      },
      "source": [
        "submission_df_p3 = submission_df_p3.drop(['title','parsedFeatureStr'], axis=1)"
      ],
      "id": "0e8bca03-6a00-49f2-ab15-1385545f0f30",
      "execution_count": null,
      "outputs": []
    },
    {
      "cell_type": "code",
      "metadata": {
        "id": "810e5a76-4868-4192-b811-41c01309baf7"
      },
      "source": [
        "submission_df_p3"
      ],
      "id": "810e5a76-4868-4192-b811-41c01309baf7",
      "execution_count": null,
      "outputs": []
    },
    {
      "cell_type": "code",
      "metadata": {
        "id": "b7e50374-8d3b-47d7-9284-73ae7a9c7492"
      },
      "source": [
        "Export_csv_p3 = submission_df_p3.to_csv(\"submission_df_p3.csv\", index=False)"
      ],
      "id": "b7e50374-8d3b-47d7-9284-73ae7a9c7492",
      "execution_count": null,
      "outputs": []
    },
    {
      "cell_type": "markdown",
      "metadata": {
        "id": "fc174329-c933-40b1-a8eb-29cd0533dd42"
      },
      "source": [
        "## Combine CSV"
      ],
      "id": "fc174329-c933-40b1-a8eb-29cd0533dd42"
    },
    {
      "cell_type": "code",
      "metadata": {
        "id": "1d484a25-6e80-4fc1-8a8f-8b84f77b4101"
      },
      "source": [
        "final_df_A = pd.read_csv(\"submission_df_p2.csv\")\n",
        "final_df_B = pd.read_csv(\"submission_df_p3.csv\")"
      ],
      "id": "1d484a25-6e80-4fc1-8a8f-8b84f77b4101",
      "execution_count": null,
      "outputs": []
    },
    {
      "cell_type": "code",
      "metadata": {
        "id": "a836e3d1-4e8f-450c-a5c2-c760e954d0ed"
      },
      "source": [
        "final_df = pd.DataFrame()\n",
        "\n",
        "final_df = final_df.append(final_df_A)\n",
        "final_df = final_df.append(final_df_B)"
      ],
      "id": "a836e3d1-4e8f-450c-a5c2-c760e954d0ed",
      "execution_count": null,
      "outputs": []
    },
    {
      "cell_type": "code",
      "metadata": {
        "id": "de04b516-0368-4bb5-91af-c9eee6d4ecc2"
      },
      "source": [
        "final_df.drop_duplicates(keep='first' ,inplace=True)\n",
        "final_df"
      ],
      "id": "de04b516-0368-4bb5-91af-c9eee6d4ecc2",
      "execution_count": null,
      "outputs": []
    },
    {
      "cell_type": "code",
      "metadata": {
        "id": "9a6f440d-24a0-4db4-ab56-df485e42669a"
      },
      "source": [
        "Export_csv_p2 = final_df.to_csv(\"final_submission_df_p2.csv\", index=False)"
      ],
      "id": "9a6f440d-24a0-4db4-ab56-df485e42669a",
      "execution_count": null,
      "outputs": []
    },
    {
      "cell_type": "code",
      "metadata": {
        "id": "dff49f85-3d30-4482-b851-c2c63c8f02f2"
      },
      "source": [
        "import os \n",
        "import pandas as pd\n",
        "\n",
        "final_submission = pd.DataFrame()\n",
        "\n",
        "for file in os.listdir(os.getcwd()):\n",
        "    if file.startswith('final'):\n",
        "        print(file)\n",
        "        final_submission = final_submission.append(pd.read_csv(file))\n",
        "\n",
        "final_submission.to_csv('Uni_Asia_Pacific_1.csv', index=False, sep='|')"
      ],
      "id": "dff49f85-3d30-4482-b851-c2c63c8f02f2",
      "execution_count": null,
      "outputs": []
    },
    {
      "cell_type": "code",
      "metadata": {
        "id": "bd5840f8-0117-4938-b02a-2bc6a7fcdf35"
      },
      "source": [
        ""
      ],
      "id": "bd5840f8-0117-4938-b02a-2bc6a7fcdf35",
      "execution_count": null,
      "outputs": []
    }
  ]
}