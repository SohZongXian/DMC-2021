{
 "cells": [
  {
   "cell_type": "code",
   "execution_count": null,
   "id": "7d2c22a6",
   "metadata": {},
   "outputs": [],
   "source": [
    "import pandas as pd\n",
    "import numpy as np\n",
    "from datetime import datetime\n",
    "import matplotlib.pyplot as plt\n",
    "import csv"
   ]
  },
  {
   "cell_type": "code",
   "execution_count": null,
   "id": "d4781400",
   "metadata": {},
   "outputs": [],
   "source": [
    "transaction = pd.read_csv(\"transactions.csv\", delimiter=\"|\")\n",
    "items = pd.read_csv(\"items.csv\", delimiter=\"|\")"
   ]
  },
  {
   "cell_type": "code",
   "execution_count": null,
   "id": "757616fc",
   "metadata": {},
   "outputs": [],
   "source": [
    "transaction.head()"
   ]
  },
  {
   "cell_type": "code",
   "execution_count": null,
   "id": "c37aaba7",
   "metadata": {},
   "outputs": [],
   "source": [
    "print(transaction.shape)\n",
    "print(items.shape)"
   ]
  },
  {
   "cell_type": "code",
   "execution_count": null,
   "id": "95494932",
   "metadata": {},
   "outputs": [],
   "source": [
    "data = pd.merge(items, transaction, on=[\"itemID\"], how=\"outer\")"
   ]
  },
  {
   "cell_type": "code",
   "execution_count": null,
   "id": "24c966e9",
   "metadata": {},
   "outputs": [],
   "source": [
    "data.shape"
   ]
  },
  {
   "cell_type": "code",
   "execution_count": null,
   "id": "b160e6b4",
   "metadata": {},
   "outputs": [],
   "source": [
    "data.info()"
   ]
  },
  {
   "cell_type": "code",
   "execution_count": null,
   "id": "07cf02c3",
   "metadata": {},
   "outputs": [],
   "source": [
    "# choosing Target variable\n",
    "#print(inner_merged_total['basket'].value_counts())\n",
    "#print(inner_merged_total['click'].value_counts())\n",
    "print(data['order'].value_counts())"
   ]
  },
  {
   "cell_type": "code",
   "execution_count": null,
   "id": "d8b8e4f7",
   "metadata": {},
   "outputs": [],
   "source": [
    "##data preprocessing \n",
    "##generate target variable interest\n",
    "data[\"Interest\"] = data[\"click\"] + data[\"basket\"]+ data[\"order\"]\n",
    "\n",
    "\n",
    "## aggregrate (idea is to generate the frequencies of item id, and multiply it by interest, getting the total interest of the items)"
   ]
  },
  {
   "cell_type": "code",
   "execution_count": null,
   "id": "b1d78f30",
   "metadata": {},
   "outputs": [],
   "source": [
    "data.head()\n",
    "#print(inner_merged_total['Interest'].value_counts())"
   ]
  },
  {
   "cell_type": "markdown",
   "id": "6b5f8559",
   "metadata": {},
   "source": [
    "## Group by item ID, and then count the item ID, and then interest * count of itemID = total interest column"
   ]
  },
  {
   "cell_type": "code",
   "execution_count": null,
   "id": "dd64db43",
   "metadata": {},
   "outputs": [],
   "source": [
    "##generate frequency\n",
    "test = data.value_counts(['itemID']).reset_index(name='Frequency')\n",
    "print(test.head())"
   ]
  },
  {
   "cell_type": "code",
   "execution_count": null,
   "id": "c049122d",
   "metadata": {},
   "outputs": [],
   "source": [
    "#Merging frequency \n",
    "book_data = pd.merge(data, test, on=[\"itemID\"])\n",
    "book_data.head()"
   ]
  },
  {
   "cell_type": "code",
   "execution_count": null,
   "id": "f73a5ea2",
   "metadata": {},
   "outputs": [],
   "source": [
    "#remove dupicate rows \n",
    "print(book_data.shape)\n",
    "# book_data.drop_duplicates(subset =\"itemID\", keep='first' ,inplace=True)\n",
    "# print(book_data.shape)"
   ]
  },
  {
   "cell_type": "code",
   "execution_count": null,
   "id": "f34bb2d6-1675-4f84-b5a3-b4c960fe05c5",
   "metadata": {},
   "outputs": [],
   "source": [
    "book_data[\"itemID\"].value_counts()"
   ]
  },
  {
   "cell_type": "code",
   "execution_count": null,
   "id": "af6d9dec",
   "metadata": {},
   "outputs": [],
   "source": [
    "book_data.head()"
   ]
  },
  {
   "cell_type": "code",
   "execution_count": null,
   "id": "3df832bf-510a-4e84-9035-e20912b0b8fd",
   "metadata": {},
   "outputs": [],
   "source": [
    "book_rating= book_data.copy()\n",
    "book_rating.drop(['sessionID', 'click','author','publisher'], axis=1)"
   ]
  },
  {
   "cell_type": "code",
   "execution_count": null,
   "id": "c19b6c9d-d4fc-4ae0-96ba-0c922421bf07",
   "metadata": {},
   "outputs": [],
   "source": [
    "##data cleaning\n",
    "values = {'basket': 0, 'order': 0}\n",
    "book_rating.fillna(value=values)"
   ]
  },
  {
   "cell_type": "code",
   "execution_count": null,
   "id": "39e8c73f-57a7-4058-a5eb-f03d083d2cb9",
   "metadata": {},
   "outputs": [],
   "source": [
    "import numpy as np\n",
    "book_rating['log_frequency'] = np.log(book_data['Frequency'])"
   ]
  },
  {
   "cell_type": "code",
   "execution_count": null,
   "id": "0c56ee57-5b35-4d0a-9399-4eb1292f1b5b",
   "metadata": {},
   "outputs": [],
   "source": [
    "print(book_rating['log_frequency'].value_counts())"
   ]
  },
  {
   "cell_type": "code",
   "execution_count": null,
   "id": "e0bde788-50a4-4dff-bac1-95b19f976b4a",
   "metadata": {},
   "outputs": [],
   "source": [
    "book_rating['log_frequency'].describe()"
   ]
  },
  {
   "cell_type": "code",
   "execution_count": null,
   "id": "22570470-0ef1-431d-9a1b-11aba15115b2",
   "metadata": {},
   "outputs": [],
   "source": [
    "bin_labels_5 = ['E','D','C', 'B', 'A']\n",
    "book_rating['Grade'] = pd.qcut(book_rating['log_frequency'],\n",
    "                              q=[0, .2, .4, .6, .8, 1],\n",
    "                              labels=bin_labels_5, duplicates='drop')\n",
    "book_rating\n"
   ]
  },
  {
   "cell_type": "code",
   "execution_count": null,
   "id": "d907e04c-6beb-473f-9b01-e1c50ba07386",
   "metadata": {},
   "outputs": [],
   "source": [
    "book_rating = book_rating.drop(['sessionID', 'click','author','publisher','Frequency'], axis=1)"
   ]
  },
  {
   "cell_type": "code",
   "execution_count": null,
   "id": "fd3fdf64-8af7-465d-a77c-d26dd41bbdc2",
   "metadata": {},
   "outputs": [],
   "source": [
    "book_rating.drop_duplicates(subset =\"title\", keep='first' ,inplace=True)"
   ]
  },
  {
   "cell_type": "code",
   "execution_count": null,
   "id": "50f1501c-7aef-4931-8c7d-950f072cdd20",
   "metadata": {},
   "outputs": [],
   "source": [
    "book_rating = book_rating.reset_index()"
   ]
  },
  {
   "cell_type": "code",
   "execution_count": null,
   "id": "f84deb9c-0b55-4d46-8f14-cdcf3cbc9dca",
   "metadata": {},
   "outputs": [],
   "source": [
    "book_rating"
   ]
  },
  {
   "cell_type": "code",
   "execution_count": null,
   "id": "5c574915-286c-4fe1-99f6-0e796246e1be",
   "metadata": {},
   "outputs": [],
   "source": [
    "#creating combined target feature\n",
    "def parseFeature(book_rating):\n",
    "    data = str(book_rating[\"main topic\"]) + ','\n",
    "    data += str(book_rating[\"subtopics\"]) + ','\n",
    "    data += str(book_rating['relevance_score'])\n",
    "    x = data.replace('[','')\n",
    "    y = x.replace(']','')\n",
    "    return y\n",
    "    \n",
    "    "
   ]
  },
  {
   "cell_type": "code",
   "execution_count": null,
   "id": "0db48303-0d4d-4dae-8274-b33415bff19b",
   "metadata": {},
   "outputs": [],
   "source": [
    "#calculate relevance score\n",
    "\n",
    "def relevance(book_rating):\n",
    "    if (book_rating['order'] != 0):\n",
    "        return \"A\"\n",
    "    elif (book_rating['order'] == 0 and  book_rating['basket'] != 0):\n",
    "        return \"B\"\n",
    "    else:\n",
    "        return \"C\"\n",
    "    \n",
    "\n",
    "book_rating['relevance_score'] = book_rating.apply(relevance, axis = 1)\n"
   ]
  },
  {
   "cell_type": "code",
   "execution_count": null,
   "id": "79825d7e-e054-47a8-ba18-4f73c9d97a20",
   "metadata": {},
   "outputs": [],
   "source": [
    "book_rating['parsedFeatureStr'] = book_rating.apply(parseFeature, axis = 1)"
   ]
  },
  {
   "cell_type": "code",
   "execution_count": null,
   "id": "e4221b50-20f3-4d3e-9e23-5c1f8cd0a389",
   "metadata": {},
   "outputs": [],
   "source": [
    "book_rating.head(40)"
   ]
  },
  {
   "cell_type": "code",
   "execution_count": null,
   "id": "5d62a4f3-b89a-475c-a9ac-eef2d3e916d6",
   "metadata": {},
   "outputs": [],
   "source": [
    "book_rating.drop_duplicates(subset =\"itemID\", keep='first' ,inplace=True)"
   ]
  },
  {
   "cell_type": "code",
   "execution_count": null,
   "id": "e01bacfa-6f7d-4d37-9700-c4a218bb7b83",
   "metadata": {},
   "outputs": [],
   "source": [
    "from sklearn.feature_extraction.text import TfidfVectorizer\n",
    "from sklearn.feature_extraction.text import CountVectorizer\n",
    "from sklearn.feature_extraction.text import HashingVectorizer\n",
    "\n",
    "c_vectorizer = CountVectorizer(min_df=1,\n",
    "                            strip_accents='unicode', analyzer='word',token_pattern=r',',ngram_range=(1,3),stop_words='english')\n",
    "\n",
    "vectorizer = TfidfVectorizer(min_df=3, max_features=None,\n",
    "                            strip_accents='unicode', analyzer='word',token_pattern=r',',ngram_range=(1,3),stop_words='english')\n",
    "\n",
    "h_vectorizer = HashingVectorizer(n_features=2**1,\n",
    "                            strip_accents='unicode', analyzer='word',token_pattern=r',',ngram_range=(1,3),stop_words='english')"
   ]
  },
  {
   "cell_type": "code",
   "execution_count": null,
   "id": "1a595c76-4811-4a8d-90b4-42f5c0d51d2e",
   "metadata": {},
   "outputs": [],
   "source": [
    "parsedFeatureMatrix = vectorizer.fit_transform(book_rating['parsedFeatureStr'])"
   ]
  },
  {
   "cell_type": "code",
   "execution_count": null,
   "id": "d432d7bb-fb54-4726-b15d-5cbdc2d51b6a",
   "metadata": {},
   "outputs": [],
   "source": [
    "parsedFeatureMatrix"
   ]
  },
  {
   "cell_type": "code",
   "execution_count": null,
   "id": "bf3e3401-2893-40cf-9f48-37c9f8d941b3",
   "metadata": {},
   "outputs": [],
   "source": [
    "parsedFeatureMatrix.shape"
   ]
  },
  {
   "cell_type": "code",
   "execution_count": null,
   "id": "561b3f08-e8f4-4300-9ffc-d5c66d2ca171",
   "metadata": {},
   "outputs": [],
   "source": [
    "from sklearn.metrics.pairwise import sigmoid_kernel \n",
    "from sklearn.metrics.pairwise import cosine_similarity \n",
    "\n",
    "sig = sigmoid_kernel(parsedFeatureMatrix, parsedFeatureMatrix)\n",
    "# cos = cosine_similarity(parsedFeatureMatrix, parsedFeatureMatrix)"
   ]
  },
  {
   "cell_type": "code",
   "execution_count": null,
   "id": "10915f86-511f-4dac-bf51-0e6c44b98eeb",
   "metadata": {},
   "outputs": [],
   "source": [
    "sig[0]"
   ]
  },
  {
   "cell_type": "code",
   "execution_count": null,
   "id": "b90120ce-c1b4-45f3-9417-d6978bdc4a65",
   "metadata": {},
   "outputs": [],
   "source": [
    "indices = pd.Series(book_rating.index, index = book_rating['title'])"
   ]
  },
  {
   "cell_type": "code",
   "execution_count": null,
   "id": "ea61c826-5818-4801-b100-2eee8b3b1882",
   "metadata": {},
   "outputs": [],
   "source": [
    "indices_df = pd.Series(book_rating.index, index = book_rating['title']).to_frame()"
   ]
  },
  {
   "cell_type": "code",
   "execution_count": null,
   "id": "8b77babe-086e-4d36-92b6-9a04346c76d8",
   "metadata": {},
   "outputs": [],
   "source": [
    "indices_itemID_mapping = pd.merge(indices_df, book_rating, on=[\"title\"])"
   ]
  },
  {
   "cell_type": "code",
   "execution_count": null,
   "id": "0e146454-df3e-41da-bab1-10b904f809d6",
   "metadata": {},
   "outputs": [],
   "source": [
    "indices_df"
   ]
  },
  {
   "cell_type": "code",
   "execution_count": null,
   "id": "96a05edf-4a85-4b89-ba3f-7bad26c5b98d",
   "metadata": {},
   "outputs": [],
   "source": [
    "indices_itemID_mapping = indices_itemID_mapping.drop(['index'], axis=1)"
   ]
  },
  {
   "cell_type": "code",
   "execution_count": null,
   "id": "6bde987c-45ee-4694-bb5e-874df5e29d41",
   "metadata": {},
   "outputs": [],
   "source": [
    "indices_itemID_mapping"
   ]
  },
  {
   "cell_type": "code",
   "execution_count": null,
   "id": "28ddf27e-c07e-4c80-a011-4f4c3ba34e8c",
   "metadata": {},
   "outputs": [],
   "source": [
    "def recommender(title, sig=sig):\n",
    "    index = indices[title]\n",
    "    print(index)\n",
    "    \n",
    "    # get similarity scores\n",
    "    sig_scores = list(enumerate(sig[index]))\n",
    "    #sort by scores\n",
    "    sig_scores = sorted(sig_scores, key=lambda x:x[1], reverse=True)\n",
    "    sig_scores = sig_scores[1:6]\n",
    "    \n",
    "    #relate to book\n",
    "    book_indices = [i[0] for i in sig_scores]\n",
    "    \n",
    "    return book_rating['itemID'].iloc[book_indices]\n",
    "    \n",
    "    \n",
    "    "
   ]
  },
  {
   "cell_type": "code",
   "execution_count": null,
   "id": "652a12d3-7bf3-4faf-bc8d-12bd49e59d88",
   "metadata": {},
   "outputs": [],
   "source": [
    "recommender_df = recommender('Mein großes Schablonen-Buch - Wilde Tiere').to_frame()"
   ]
  },
  {
   "cell_type": "code",
   "execution_count": null,
   "id": "b06758e2-e079-4843-aa44-eb1c4374190a",
   "metadata": {},
   "outputs": [],
   "source": [
    "recommender_df"
   ]
  },
  {
   "cell_type": "code",
   "execution_count": null,
   "id": "38708178-71df-450b-b36c-ab78330cd59e",
   "metadata": {},
   "outputs": [],
   "source": [
    "t = pd.merge(recommender_df, book_rating, on=[\"itemID\"])"
   ]
  },
  {
   "cell_type": "code",
   "execution_count": null,
   "id": "336b5d31-9ce1-42a4-b5e4-1938333c72e9",
   "metadata": {},
   "outputs": [],
   "source": [
    "t"
   ]
  },
  {
   "cell_type": "markdown",
   "id": "90aee164-d1b6-4b20-a27b-e2ef6dfc0605",
   "metadata": {},
   "source": [
    "## Populate evaluation DF\n"
   ]
  },
  {
   "cell_type": "code",
   "execution_count": null,
   "id": "2a7356e1-a20d-433f-a8f1-beaec4a5b26a",
   "metadata": {},
   "outputs": [],
   "source": [
    "## Use Evaluation dataset to recommend 5 itemID\n",
    "\n",
    "evaluation_df = pd.read_csv(\"evaluation.csv\", delimiter=\"|\")\n",
    "\n",
    "evaluation_df"
   ]
  },
  {
   "cell_type": "code",
   "execution_count": null,
   "id": "c7ef27f8-6053-4a4b-80ce-8d359ba1db6c",
   "metadata": {},
   "outputs": [],
   "source": [
    "title_df = indices_itemID_mapping.drop(['basket','order','main topic','subtopics','log_frequency','Grade', 'relevance_score', 0, 'parsedFeatureStr'], axis=1)\n",
    "title_df"
   ]
  },
  {
   "cell_type": "code",
   "execution_count": null,
   "id": "e84b5080-9acd-4c3a-a897-224453738498",
   "metadata": {},
   "outputs": [],
   "source": [
    "submission_df = pd.merge(evaluation_df, items, on=[\"itemID\"]) \n",
    "submission_df = submission_df.drop(['author','publisher','main topic','subtopics'], axis=1)\n",
    "submission_df"
   ]
  },
  {
   "cell_type": "code",
   "execution_count": null,
   "id": "4a3e850a-0156-48c1-ac36-adf9a1f1767d",
   "metadata": {},
   "outputs": [],
   "source": [
    "def getSigScoreArray(num, title, sig=sig):\n",
    "    index = indices[title]\n",
    "    print(index)\n",
    "    \n",
    "    # get similarity scores\n",
    "    sig_scores = list(enumerate(sig[index]))\n",
    "    #sort by scores\n",
    "    sig_scores = sorted(sig_scores, key=lambda x:x[1], reverse=True)\n",
    "    sig_scores = sig_scores[1:num+1]\n",
    "    \n",
    "    test_sig_score_arr = []\n",
    "    test_sig_score_arr = sig_scores\n",
    "    \n",
    "    sig_score_array = []\n",
    "    for score in test_sig_score_arr:\n",
    "        sig_score_array.append(score[1])\n",
    "    return sig_score_array"
   ]
  },
  {
   "cell_type": "code",
   "execution_count": null,
   "id": "e36a0465-e707-47fb-8db9-044952b551fc",
   "metadata": {},
   "outputs": [],
   "source": [
    "sig_score_array = getSigScoreArray(5, \"Princess Poppy: The Big Mix Up\")"
   ]
  },
  {
   "cell_type": "code",
   "execution_count": null,
   "id": "e8c2a625",
   "metadata": {},
   "outputs": [],
   "source": [
    "##Create new column where order != 0 but basket and/or click is 0\n",
    "\n",
    "def identify(book_data):\n",
    "    if (book_data['order'] != 0 and (book_data['basket']  | book_data['click'] == 0)):\n",
    "        return 'Found'\n",
    "    else:\n",
    "        return 'Not found'\n",
    "\n",
    "book_data['test'] = book_data.apply(identify, axis = 1)\n",
    "\n",
    "book_data.head(10)"
   ]
  },
  {
   "cell_type": "code",
   "execution_count": null,
   "id": "ecbcf9a5",
   "metadata": {},
   "outputs": [],
   "source": [
    "#Print how many counts for order column\n",
    "\n",
    "print(book_data['order'].value_counts())\n"
   ]
  },
  {
   "cell_type": "code",
   "execution_count": null,
   "id": "4edf43d6",
   "metadata": {},
   "outputs": [],
   "source": [
    "## Print how many counts for test column\n",
    "\n",
    "print(book_data['test'].value_counts())\n"
   ]
  },
  {
   "cell_type": "code",
   "execution_count": null,
   "id": "94801d7a",
   "metadata": {},
   "outputs": [],
   "source": [
    "## Print column where test == found\n",
    "\n",
    "test_column = book_data.loc[book_data['test'] == 'Found']\n",
    "\n",
    "test_column.head(10)\n"
   ]
  },
  {
   "cell_type": "code",
   "execution_count": null,
   "id": "a9721018",
   "metadata": {},
   "outputs": [],
   "source": [
    "##clone dataframe\n",
    "sea_born_df = book_data.copy(deep=True)"
   ]
  },
  {
   "cell_type": "code",
   "execution_count": null,
   "id": "c79422ad",
   "metadata": {},
   "outputs": [],
   "source": [
    "sea_born_df.shape"
   ]
  },
  {
   "cell_type": "code",
   "execution_count": null,
   "id": "8c3e878e",
   "metadata": {},
   "outputs": [],
   "source": [
    "## dropping unnessesary columns for pairplot\n",
    "sea_born_df = sea_born_df.filter(items = ['click', 'basket', 'order'])\n"
   ]
  },
  {
   "cell_type": "code",
   "execution_count": null,
   "id": "e3ca9541",
   "metadata": {},
   "outputs": [],
   "source": [
    "## Make pair plot using seaborn\n",
    "import seaborn as sns\n",
    "\n",
    "\n",
    "# sns.set(style=\"ticks\", color_codes=True)\n",
    "sns.pairplot(sea_born_df)\n",
    "\n",
    "\n",
    "import matplotlib.pyplot as plt\n",
    "plt.show()\n",
    "\n"
   ]
  },
  {
   "cell_type": "code",
   "execution_count": null,
   "id": "ced9d596",
   "metadata": {},
   "outputs": [],
   "source": [
    "#Create histogram -> edited\n",
    "\n",
    "x = book_data['Total_Interest'].value_counts()\n",
    "\n",
    "plt.hist(x, bins = 60)\n",
    "plt.show()"
   ]
  },
  {
   "cell_type": "code",
   "execution_count": null,
   "id": "8044c28f",
   "metadata": {},
   "outputs": [],
   "source": [
    "## remove interest, total interest, click, basket, order from dataframe\n",
    "\n",
    "latest_data = book_data.drop(['Interest', 'Total_Interest', 'click', 'basket', 'order'], axis = 1)\n",
    "latest_data\n"
   ]
  },
  {
   "cell_type": "code",
   "execution_count": null,
   "id": "aa2c928d",
   "metadata": {},
   "outputs": [],
   "source": [
    "## EDA main topic vs subtopic vs title and use only frequency\n"
   ]
  },
  {
   "cell_type": "code",
   "execution_count": null,
   "id": "8e2bcede",
   "metadata": {},
   "outputs": [],
   "source": [
    "#test on printing rows with one main topic\n",
    "\n",
    "latest_data.loc[latest_data['main topic'] == 'FM'].head(5)\n"
   ]
  },
  {
   "cell_type": "code",
   "execution_count": null,
   "id": "b13aea09",
   "metadata": {},
   "outputs": [],
   "source": [
    "# Show title, main topic & subtopics with frequency value in mean\n",
    "print(latest_data.groupby('title')['Frequency'].mean().sort_values(ascending=False).head(), '\\n')\n",
    "print(latest_data.groupby('main topic')['Frequency'].mean().sort_values(ascending=False).head(), '\\n')\n",
    "print(latest_data.groupby('subtopics')['Frequency'].mean().sort_values(ascending=False).head())\n"
   ]
  },
  {
   "cell_type": "code",
   "execution_count": null,
   "id": "91623bc5",
   "metadata": {},
   "outputs": [],
   "source": [
    "# Show title, main topic & subtopics with frequency value in counts\n",
    "print(latest_data.groupby('title')['Frequency'].count().sort_values(ascending=False).head(), '\\n')\n",
    "print(latest_data.groupby('main topic')['Frequency'].count().sort_values(ascending=False).head(), '\\n')\n",
    "print(latest_data.groupby('subtopics')['Frequency'].count().sort_values(ascending=False).head())"
   ]
  },
  {
   "cell_type": "code",
   "execution_count": null,
   "id": "53bbb965",
   "metadata": {},
   "outputs": [],
   "source": [
    "#Mean value for title\n",
    "title = pd.DataFrame(latest_data.groupby('title')['Frequency'].mean().sort_values(ascending=False))\n",
    "#Count value for title\n",
    "title['Counts'] = pd.DataFrame(latest_data.groupby('title')['Frequency'].count())\n",
    "title\n"
   ]
  },
  {
   "cell_type": "code",
   "execution_count": null,
   "id": "77149622",
   "metadata": {},
   "outputs": [],
   "source": [
    "print(title['Counts'].value_counts(), '\\n')    #Counts\n",
    "print(title['Frequency'].value_counts(), '\\n') #Mean "
   ]
  },
  {
   "cell_type": "code",
   "execution_count": null,
   "id": "a736f019",
   "metadata": {},
   "outputs": [],
   "source": [
    "import seaborn as sns\n",
    "sns.set_style('white')\n",
    "%matplotlib inline"
   ]
  },
  {
   "cell_type": "code",
   "execution_count": null,
   "id": "c211d6de",
   "metadata": {},
   "outputs": [],
   "source": [
    "plt.figure(figsize=(10,4))\n",
    "title['Counts'].hist(bins=30)\n",
    "\n",
    "plt.figure(figsize=(10,4))\n",
    "title['Frequency'].hist(bins=80)"
   ]
  },
  {
   "cell_type": "code",
   "execution_count": null,
   "id": "fea608a5",
   "metadata": {},
   "outputs": [],
   "source": [
    "sns.jointplot(x='Counts', y='Frequency', data=title,  alpha=0.6)"
   ]
  },
  {
   "cell_type": "code",
   "execution_count": null,
   "id": "c60a6d4a",
   "metadata": {},
   "outputs": [],
   "source": [
    "#Mean value for main topic\n",
    "main = pd.DataFrame(latest_data.groupby('main topic')['Frequency'].mean().sort_values(ascending=False))\n",
    "#Count value for main topic\n",
    "main['Counts'] = pd.DataFrame(latest_data.groupby('main topic')['Frequency'].count())\n",
    "main"
   ]
  },
  {
   "cell_type": "code",
   "execution_count": null,
   "id": "89401d4c",
   "metadata": {},
   "outputs": [],
   "source": [
    "#Show latest data\n",
    "print(latest_data['main topic'].value_counts(), '\\n')    #Counts\n",
    "\n",
    "#Show the counts for duplicate main topic\n",
    "#You may ignore this ...... Not sure if this is good or not\n",
    "print('Number of duplicated rows:', latest_data.duplicated(['main topic'], keep='first').value_counts(), '\\n')\n",
    "\n",
    "#Show where total duplicated main topic more than 5\n",
    "duplicate = latest_data['main topic'].value_counts()\n",
    "print(duplicate.loc[duplicate > 5])\n",
    "\n",
    "#Show where total duplicated main topic less than or equal to 5\n",
    "duplicate.loc[duplicate <= 5]\n"
   ]
  },
  {
   "cell_type": "code",
   "execution_count": null,
   "id": "98aab28c",
   "metadata": {},
   "outputs": [],
   "source": [
    "print(main['Counts'].value_counts(), '\\n')    #Counts\n",
    "print(main['Frequency'].value_counts(), '\\n') #Mean "
   ]
  },
  {
   "cell_type": "code",
   "execution_count": null,
   "id": "decac2b5",
   "metadata": {},
   "outputs": [],
   "source": [
    "plt.figure(figsize=(10,4))\n",
    "main['Counts'].hist(bins=30)\n",
    "\n",
    "plt.figure(figsize=(10,4))\n",
    "main['Frequency'].hist(bins=70)"
   ]
  },
  {
   "cell_type": "code",
   "execution_count": null,
   "id": "73a2e821",
   "metadata": {},
   "outputs": [],
   "source": [
    "sns.jointplot(x='Counts', y='Frequency', data=main,  alpha=0.6)"
   ]
  },
  {
   "cell_type": "code",
   "execution_count": null,
   "id": "911f8beb",
   "metadata": {},
   "outputs": [],
   "source": [
    "#Mean value for subtopic\n",
    "sub = pd.DataFrame(latest_data.groupby('subtopics')['Frequency'].mean().sort_values(ascending=False))\n",
    "#Count value for subtopic\n",
    "sub['Counts'] = pd.DataFrame(latest_data.groupby('subtopics')['Frequency'].count())\n",
    "sub"
   ]
  },
  {
   "cell_type": "code",
   "execution_count": null,
   "id": "276ac50b",
   "metadata": {},
   "outputs": [],
   "source": [
    "print(sub['Counts'].value_counts(), '\\n')    #Counts\n",
    "print(sub['Frequency'].value_counts(), '\\n') #Mean "
   ]
  },
  {
   "cell_type": "code",
   "execution_count": null,
   "id": "18f2ff2c",
   "metadata": {},
   "outputs": [],
   "source": [
    "plt.figure(figsize=(10,4))\n",
    "sub['Counts'].hist(bins=10)\n",
    "\n",
    "plt.figure(figsize=(10,4))\n",
    "sub['Frequency'].hist(bins=70)"
   ]
  },
  {
   "cell_type": "code",
   "execution_count": null,
   "id": "11b1db0c",
   "metadata": {},
   "outputs": [],
   "source": [
    "sns.jointplot(x='Counts', y='Frequency', data=sub,  alpha=0.6)"
   ]
  },
  {
   "cell_type": "markdown",
   "id": "8464ee45",
   "metadata": {},
   "source": [
    "## Extra EDA"
   ]
  },
  {
   "cell_type": "code",
   "execution_count": null,
   "id": "71f80e29",
   "metadata": {},
   "outputs": [],
   "source": [
    "transaction = pd.read_csv(\"transactions.csv\", delimiter=\"|\")\n",
    "items = pd.read_csv(\"items.csv\", delimiter=\"|\")"
   ]
  },
  {
   "cell_type": "code",
   "execution_count": null,
   "id": "dc1fdb0d",
   "metadata": {},
   "outputs": [],
   "source": [
    "data = pd.merge(transaction, items, on=[\"itemID\"])"
   ]
  },
  {
   "cell_type": "code",
   "execution_count": null,
   "id": "9a57038b",
   "metadata": {},
   "outputs": [],
   "source": [
    "data[\"Interest\"] = data[\"click\"] + data[\"basket\"]+ data[\"order\"]"
   ]
  },
  {
   "cell_type": "code",
   "execution_count": null,
   "id": "3881d050",
   "metadata": {},
   "outputs": [],
   "source": [
    "##generate frequency\n",
    "test = data.value_counts(['itemID']).reset_index(name='Frequency')\n",
    "print(test.head())"
   ]
  },
  {
   "cell_type": "code",
   "execution_count": null,
   "id": "660690b5",
   "metadata": {},
   "outputs": [],
   "source": [
    "#Merging frequency \n",
    "book_data = pd.merge(data, test, on=[\"itemID\"])\n",
    "book_data.head()"
   ]
  },
  {
   "cell_type": "code",
   "execution_count": null,
   "id": "62b2491e",
   "metadata": {},
   "outputs": [],
   "source": [
    "## removing unnnessesarry column\n",
    "del book_data[\"click\"]\n",
    "del book_data[\"basket\"]\n",
    "del book_data[\"order\"]"
   ]
  },
  {
   "cell_type": "code",
   "execution_count": null,
   "id": "6aefc58c",
   "metadata": {},
   "outputs": [],
   "source": [
    "book_data.head()"
   ]
  },
  {
   "cell_type": "code",
   "execution_count": null,
   "id": "48a423ec",
   "metadata": {},
   "outputs": [],
   "source": [
    "import seaborn as sns\n",
    "sns.set_style('white')\n",
    "%matplotlib inline"
   ]
  },
  {
   "cell_type": "code",
   "execution_count": null,
   "id": "03e03cf2",
   "metadata": {},
   "outputs": [],
   "source": [
    "book_data.groupby('title')['Interest'].mean().sort_values(ascending=False).head()"
   ]
  },
  {
   "cell_type": "code",
   "execution_count": null,
   "id": "c133c95a",
   "metadata": {},
   "outputs": [],
   "source": [
    "book_data.groupby('title')['Interest'].count().sort_values(ascending=False).head()"
   ]
  },
  {
   "cell_type": "code",
   "execution_count": null,
   "id": "75ea354d",
   "metadata": {},
   "outputs": [],
   "source": [
    "# interests = pd.DataFrame(book_data.groupby('title')['Interest'].mean())\n",
    "# interests = pd.DataFrame(book_data.groupby('title')['click'].mean())\n",
    "# #interests = pd.DataFrame(book_data.groupby('title')['basket'].mean())\n",
    "interests = pd.DataFrame(book_data.groupby('title')['Interest'].mean())\n",
    "interests.head()"
   ]
  },
  {
   "cell_type": "code",
   "execution_count": null,
   "id": "4a176573",
   "metadata": {},
   "outputs": [],
   "source": [
    "# interests['number of interests'] = pd.DataFrame(book_data.groupby('title')['Interest'].count())\n",
    "# interests['number of click'] = pd.DataFrame(book_data.groupby('title')['click'].count())\n",
    "# interests['number of basket'] = pd.DataFrame(book_data.groupby('title')['basket'].count())\n",
    "interests['number of order'] = pd.DataFrame(book_data.groupby('title')['Interest'].count())\n",
    "interests.head()"
   ]
  },
  {
   "cell_type": "code",
   "execution_count": null,
   "id": "efdd09be",
   "metadata": {},
   "outputs": [],
   "source": [
    "plt.figure(figsize=(10,4))\n",
    "interests['number of interests'].hist(bins=70)"
   ]
  },
  {
   "cell_type": "code",
   "execution_count": null,
   "id": "fd54343d",
   "metadata": {},
   "outputs": [],
   "source": [
    "plt.figure(figsize=(10,4))\n",
    "interests['Interest'].hist(bins=70)"
   ]
  },
  {
   "cell_type": "code",
   "execution_count": null,
   "id": "44922905",
   "metadata": {},
   "outputs": [],
   "source": [
    "sns.jointplot(x='Interest', y='number of interests', data=interests,  alpha=0.5)"
   ]
  },
  {
   "cell_type": "code",
   "execution_count": null,
   "id": "46091f54",
   "metadata": {},
   "outputs": [],
   "source": [
    "sns.jointplot(x='order', y='number of basket', data=interests,  alpha=0.5)"
   ]
  },
  {
   "cell_type": "code",
   "execution_count": null,
   "id": "3235f041",
   "metadata": {},
   "outputs": [],
   "source": [
    "sns.jointplot(x='basket', y='number of basket', data=interests,  alpha=0.5)"
   ]
  },
  {
   "cell_type": "code",
   "execution_count": null,
   "id": "f39778ea",
   "metadata": {},
   "outputs": [],
   "source": [
    "sns.jointplot(x='click', y='number of click', data=interests,  alpha=0.5)"
   ]
  },
  {
   "cell_type": "markdown",
   "id": "edf000e9",
   "metadata": {},
   "source": [
    "## Pivot Table"
   ]
  },
  {
   "cell_type": "code",
   "execution_count": null,
   "id": "a2a06b9a",
   "metadata": {},
   "outputs": [],
   "source": [
    "book_pivot = book_data_test.pivot_table(index='sessionID', columns='title', values='Interest')\n",
    "book_pivot.head()"
   ]
  },
  {
   "cell_type": "code",
   "execution_count": null,
   "id": "b69fea64",
   "metadata": {},
   "outputs": [],
   "source": [
    "book_data_test = book_data.head(100000)"
   ]
  },
  {
   "cell_type": "code",
   "execution_count": null,
   "id": "e7c076f1",
   "metadata": {},
   "outputs": [],
   "source": [
    "interests.sort_values('number of interests', ascending=False).head(10)"
   ]
  }
 ],
 "metadata": {
  "kernelspec": {
   "display_name": "Python 3",
   "language": "python",
   "name": "python3"
  },
  "language_info": {
   "codemirror_mode": {
    "name": "ipython",
    "version": 3
   },
   "file_extension": ".py",
   "mimetype": "text/x-python",
   "name": "python",
   "nbconvert_exporter": "python",
   "pygments_lexer": "ipython3",
   "version": "3.6.12"
  }
 },
 "nbformat": 4,
 "nbformat_minor": 5
}
